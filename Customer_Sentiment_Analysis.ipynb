{
  "cells": [
    {
      "cell_type": "markdown",
      "metadata": {
        "id": "FZeGWM_IfxbL"
      },
      "source": [
        "#Step: 1 Pre-Processing"
      ]
    },
    {
      "cell_type": "markdown",
      "metadata": {
        "id": "gZsZYFYZegh2"
      },
      "source": [
        "#1.1.Import all required libraies"
      ]
    },
    {
      "cell_type": "code",
      "execution_count": 1,
      "metadata": {
        "id": "jx2Twv4ufx_T"
      },
      "outputs": [],
      "source": [
        "import pandas as pd\n",
        "import numpy as np\n",
        "import seaborn as sns\n",
        "import matplotlib.pyplot as plt\n",
        "import nltk"
      ]
    },
    {
      "cell_type": "markdown",
      "metadata": {
        "id": "6pWYnkLpem2b"
      },
      "source": [
        "#1.2.Load dataset file into google colab repository [ Dataset size is very huge so it takes more time to load and for data processing]"
      ]
    },
    {
      "cell_type": "code",
      "execution_count": 2,
      "metadata": {
        "colab": {
          "base_uri": "https://localhost:8080/",
          "height": 73
        },
        "id": "zM49-7LCgRUj",
        "outputId": "030222ff-87c0-44f0-9f8e-bce2371a97ac"
      },
      "outputs": [
        {
          "output_type": "display_data",
          "data": {
            "text/plain": [
              "<IPython.core.display.HTML object>"
            ],
            "text/html": [
              "\n",
              "     <input type=\"file\" id=\"files-e8bfbec0-d682-48c8-8708-4b0b9fffc6bf\" name=\"files[]\" multiple disabled\n",
              "        style=\"border:none\" />\n",
              "     <output id=\"result-e8bfbec0-d682-48c8-8708-4b0b9fffc6bf\">\n",
              "      Upload widget is only available when the cell has been executed in the\n",
              "      current browser session. Please rerun this cell to enable.\n",
              "      </output>\n",
              "      <script>// Copyright 2017 Google LLC\n",
              "//\n",
              "// Licensed under the Apache License, Version 2.0 (the \"License\");\n",
              "// you may not use this file except in compliance with the License.\n",
              "// You may obtain a copy of the License at\n",
              "//\n",
              "//      http://www.apache.org/licenses/LICENSE-2.0\n",
              "//\n",
              "// Unless required by applicable law or agreed to in writing, software\n",
              "// distributed under the License is distributed on an \"AS IS\" BASIS,\n",
              "// WITHOUT WARRANTIES OR CONDITIONS OF ANY KIND, either express or implied.\n",
              "// See the License for the specific language governing permissions and\n",
              "// limitations under the License.\n",
              "\n",
              "/**\n",
              " * @fileoverview Helpers for google.colab Python module.\n",
              " */\n",
              "(function(scope) {\n",
              "function span(text, styleAttributes = {}) {\n",
              "  const element = document.createElement('span');\n",
              "  element.textContent = text;\n",
              "  for (const key of Object.keys(styleAttributes)) {\n",
              "    element.style[key] = styleAttributes[key];\n",
              "  }\n",
              "  return element;\n",
              "}\n",
              "\n",
              "// Max number of bytes which will be uploaded at a time.\n",
              "const MAX_PAYLOAD_SIZE = 100 * 1024;\n",
              "\n",
              "function _uploadFiles(inputId, outputId) {\n",
              "  const steps = uploadFilesStep(inputId, outputId);\n",
              "  const outputElement = document.getElementById(outputId);\n",
              "  // Cache steps on the outputElement to make it available for the next call\n",
              "  // to uploadFilesContinue from Python.\n",
              "  outputElement.steps = steps;\n",
              "\n",
              "  return _uploadFilesContinue(outputId);\n",
              "}\n",
              "\n",
              "// This is roughly an async generator (not supported in the browser yet),\n",
              "// where there are multiple asynchronous steps and the Python side is going\n",
              "// to poll for completion of each step.\n",
              "// This uses a Promise to block the python side on completion of each step,\n",
              "// then passes the result of the previous step as the input to the next step.\n",
              "function _uploadFilesContinue(outputId) {\n",
              "  const outputElement = document.getElementById(outputId);\n",
              "  const steps = outputElement.steps;\n",
              "\n",
              "  const next = steps.next(outputElement.lastPromiseValue);\n",
              "  return Promise.resolve(next.value.promise).then((value) => {\n",
              "    // Cache the last promise value to make it available to the next\n",
              "    // step of the generator.\n",
              "    outputElement.lastPromiseValue = value;\n",
              "    return next.value.response;\n",
              "  });\n",
              "}\n",
              "\n",
              "/**\n",
              " * Generator function which is called between each async step of the upload\n",
              " * process.\n",
              " * @param {string} inputId Element ID of the input file picker element.\n",
              " * @param {string} outputId Element ID of the output display.\n",
              " * @return {!Iterable<!Object>} Iterable of next steps.\n",
              " */\n",
              "function* uploadFilesStep(inputId, outputId) {\n",
              "  const inputElement = document.getElementById(inputId);\n",
              "  inputElement.disabled = false;\n",
              "\n",
              "  const outputElement = document.getElementById(outputId);\n",
              "  outputElement.innerHTML = '';\n",
              "\n",
              "  const pickedPromise = new Promise((resolve) => {\n",
              "    inputElement.addEventListener('change', (e) => {\n",
              "      resolve(e.target.files);\n",
              "    });\n",
              "  });\n",
              "\n",
              "  const cancel = document.createElement('button');\n",
              "  inputElement.parentElement.appendChild(cancel);\n",
              "  cancel.textContent = 'Cancel upload';\n",
              "  const cancelPromise = new Promise((resolve) => {\n",
              "    cancel.onclick = () => {\n",
              "      resolve(null);\n",
              "    };\n",
              "  });\n",
              "\n",
              "  // Wait for the user to pick the files.\n",
              "  const files = yield {\n",
              "    promise: Promise.race([pickedPromise, cancelPromise]),\n",
              "    response: {\n",
              "      action: 'starting',\n",
              "    }\n",
              "  };\n",
              "\n",
              "  cancel.remove();\n",
              "\n",
              "  // Disable the input element since further picks are not allowed.\n",
              "  inputElement.disabled = true;\n",
              "\n",
              "  if (!files) {\n",
              "    return {\n",
              "      response: {\n",
              "        action: 'complete',\n",
              "      }\n",
              "    };\n",
              "  }\n",
              "\n",
              "  for (const file of files) {\n",
              "    const li = document.createElement('li');\n",
              "    li.append(span(file.name, {fontWeight: 'bold'}));\n",
              "    li.append(span(\n",
              "        `(${file.type || 'n/a'}) - ${file.size} bytes, ` +\n",
              "        `last modified: ${\n",
              "            file.lastModifiedDate ? file.lastModifiedDate.toLocaleDateString() :\n",
              "                                    'n/a'} - `));\n",
              "    const percent = span('0% done');\n",
              "    li.appendChild(percent);\n",
              "\n",
              "    outputElement.appendChild(li);\n",
              "\n",
              "    const fileDataPromise = new Promise((resolve) => {\n",
              "      const reader = new FileReader();\n",
              "      reader.onload = (e) => {\n",
              "        resolve(e.target.result);\n",
              "      };\n",
              "      reader.readAsArrayBuffer(file);\n",
              "    });\n",
              "    // Wait for the data to be ready.\n",
              "    let fileData = yield {\n",
              "      promise: fileDataPromise,\n",
              "      response: {\n",
              "        action: 'continue',\n",
              "      }\n",
              "    };\n",
              "\n",
              "    // Use a chunked sending to avoid message size limits. See b/62115660.\n",
              "    let position = 0;\n",
              "    do {\n",
              "      const length = Math.min(fileData.byteLength - position, MAX_PAYLOAD_SIZE);\n",
              "      const chunk = new Uint8Array(fileData, position, length);\n",
              "      position += length;\n",
              "\n",
              "      const base64 = btoa(String.fromCharCode.apply(null, chunk));\n",
              "      yield {\n",
              "        response: {\n",
              "          action: 'append',\n",
              "          file: file.name,\n",
              "          data: base64,\n",
              "        },\n",
              "      };\n",
              "\n",
              "      let percentDone = fileData.byteLength === 0 ?\n",
              "          100 :\n",
              "          Math.round((position / fileData.byteLength) * 100);\n",
              "      percent.textContent = `${percentDone}% done`;\n",
              "\n",
              "    } while (position < fileData.byteLength);\n",
              "  }\n",
              "\n",
              "  // All done.\n",
              "  yield {\n",
              "    response: {\n",
              "      action: 'complete',\n",
              "    }\n",
              "  };\n",
              "}\n",
              "\n",
              "scope.google = scope.google || {};\n",
              "scope.google.colab = scope.google.colab || {};\n",
              "scope.google.colab._files = {\n",
              "  _uploadFiles,\n",
              "  _uploadFilesContinue,\n",
              "};\n",
              "})(self);\n",
              "</script> "
            ]
          },
          "metadata": {}
        },
        {
          "output_type": "stream",
          "name": "stdout",
          "text": [
            "Saving Reviews.csv to Reviews.csv\n"
          ]
        }
      ],
      "source": [
        "from google.colab import files\n",
        "uploaded = files.upload()"
      ]
    },
    {
      "cell_type": "code",
      "execution_count": 3,
      "metadata": {
        "id": "TGXfoFXIkTqF",
        "colab": {
          "base_uri": "https://localhost:8080/"
        },
        "outputId": "07da1b6b-72a5-4272-d9bf-1a0315341a0e"
      },
      "outputs": [
        {
          "output_type": "stream",
          "name": "stdout",
          "text": [
            "The shape of the  data is (row, column):(568454, 10)\n",
            "<class 'pandas.core.frame.DataFrame'>\n",
            "RangeIndex: 568454 entries, 0 to 568453\n",
            "Data columns (total 10 columns):\n",
            " #   Column                  Non-Null Count   Dtype \n",
            "---  ------                  --------------   ----- \n",
            " 0   Id                      568454 non-null  int64 \n",
            " 1   ProductId               568454 non-null  object\n",
            " 2   UserId                  568454 non-null  object\n",
            " 3   ProfileName             568438 non-null  object\n",
            " 4   HelpfulnessNumerator    568454 non-null  int64 \n",
            " 5   HelpfulnessDenominator  568454 non-null  int64 \n",
            " 6   Score                   568454 non-null  int64 \n",
            " 7   Time                    568454 non-null  int64 \n",
            " 8   Summary                 568427 non-null  object\n",
            " 9   Text                    568454 non-null  object\n",
            "dtypes: int64(5), object(5)\n",
            "memory usage: 43.4+ MB\n",
            "None\n",
            "   Id   ProductId          UserId                      ProfileName  \\\n",
            "0   1  B001E4KFG0  A3SGXH7AUHU8GW                       delmartian   \n",
            "1   2  B00813GRG4  A1D87F6ZCVE5NK                           dll pa   \n",
            "2   3  B000LQOCH0   ABXLMWJIXXAIN  Natalia Corres \"Natalia Corres\"   \n",
            "3   4  B000UA0QIQ  A395BORC6FGVXV                             Karl   \n",
            "4   5  B006K2ZZ7K  A1UQRSCLF8GW1T    Michael D. Bigham \"M. Wassir\"   \n",
            "\n",
            "   HelpfulnessNumerator  HelpfulnessDenominator  Score        Time  \\\n",
            "0                     1                       1      5  1303862400   \n",
            "1                     0                       0      1  1346976000   \n",
            "2                     1                       1      4  1219017600   \n",
            "3                     3                       3      2  1307923200   \n",
            "4                     0                       0      5  1350777600   \n",
            "\n",
            "                 Summary                                               Text  \n",
            "0  Good Quality Dog Food  I have bought several of the Vitality canned d...  \n",
            "1      Not as Advertised  Product arrived labeled as Jumbo Salted Peanut...  \n",
            "2  \"Delight\" says it all  This is a confection that has been around a fe...  \n",
            "3         Cough Medicine  If you are looking for the secret ingredient i...  \n",
            "4            Great taffy  Great taffy at a great price.  There was a wid...  \n"
          ]
        }
      ],
      "source": [
        "import io\n",
        "#df = pd.read_csv(io.BytesIO(uploaded['Reviews.csv']), names=[\"ProductId\",\"UserId\",\"Score\",\"Summary\",\"Text\"])\n",
        "df = pd.read_csv(io.BytesIO(uploaded['Reviews.csv']))\n",
        "print (\"The shape of the  data is (row, column):\"+ str(df.shape))\n",
        "print (df.info())\n",
        "print(df.head())"
      ]
    },
    {
      "cell_type": "markdown",
      "metadata": {
        "id": "K6qLEFDZfdyl"
      },
      "source": [
        "# 2.Expore the data for further processing"
      ]
    },
    {
      "cell_type": "code",
      "execution_count": 4,
      "metadata": {
        "id": "6UzUjf03ktFu",
        "colab": {
          "base_uri": "https://localhost:8080/"
        },
        "outputId": "e28900a9-591c-48c6-f4a2-c9a6b0d13cb9"
      },
      "outputs": [
        {
          "output_type": "execute_result",
          "data": {
            "text/plain": [
              "Id                         0\n",
              "ProductId                  0\n",
              "UserId                     0\n",
              "ProfileName               16\n",
              "HelpfulnessNumerator       0\n",
              "HelpfulnessDenominator     0\n",
              "Score                      0\n",
              "Time                       0\n",
              "Summary                   27\n",
              "Text                       0\n",
              "dtype: int64"
            ]
          },
          "metadata": {},
          "execution_count": 4
        }
      ],
      "source": [
        "df.isnull().sum()"
      ]
    },
    {
      "cell_type": "markdown",
      "metadata": {
        "id": "S1aSSGzJf46u"
      },
      "source": [
        "#Step 2.1.Remove all null values in the dataset"
      ]
    },
    {
      "cell_type": "code",
      "execution_count": 5,
      "metadata": {
        "id": "fTRQMjYJkv6u"
      },
      "outputs": [],
      "source": [
        "df=df.dropna()"
      ]
    },
    {
      "cell_type": "code",
      "execution_count": null,
      "metadata": {
        "id": "SlkRI9N_kzHW"
      },
      "outputs": [],
      "source": [
        "df.info()"
      ]
    },
    {
      "cell_type": "code",
      "execution_count": 6,
      "metadata": {
        "id": "VX4XTjMzk17X",
        "colab": {
          "base_uri": "https://localhost:8080/"
        },
        "outputId": "fc833251-b436-417f-f3b8-5d94da506779"
      },
      "outputs": [
        {
          "output_type": "execute_result",
          "data": {
            "text/plain": [
              "Id                        0\n",
              "ProductId                 0\n",
              "UserId                    0\n",
              "ProfileName               0\n",
              "HelpfulnessNumerator      0\n",
              "HelpfulnessDenominator    0\n",
              "Score                     0\n",
              "Time                      0\n",
              "Summary                   0\n",
              "Text                      0\n",
              "dtype: int64"
            ]
          },
          "metadata": {},
          "execution_count": 6
        }
      ],
      "source": [
        "df.isnull().sum()"
      ]
    },
    {
      "cell_type": "markdown",
      "metadata": {
        "id": "2DU1kqq6fpKu"
      },
      "source": [
        "# After data cleaning  , data does not have any null values."
      ]
    },
    {
      "cell_type": "markdown",
      "metadata": {
        "id": "NRIBa8xp4RWF"
      },
      "source": [
        "# Concatenating review text and summary and drop columns which are not adding values"
      ]
    },
    {
      "cell_type": "code",
      "execution_count": 7,
      "metadata": {
        "id": "4L7Uvb584TE0"
      },
      "outputs": [],
      "source": [
        "df['Customer Reviews']=df['Summary']+df['Text']\n"
      ]
    },
    {
      "cell_type": "markdown",
      "metadata": {
        "id": "gho-dNz633FF"
      },
      "source": [
        "#Step 2.2 formate the date column"
      ]
    },
    {
      "cell_type": "code",
      "execution_count": 8,
      "metadata": {
        "id": "Tbw-O8ri31Q8",
        "colab": {
          "base_uri": "https://localhost:8080/",
          "height": 206
        },
        "outputId": "c38bf08d-be06-4575-93da-ce53ad6aa52b"
      },
      "outputs": [
        {
          "output_type": "execute_result",
          "data": {
            "text/plain": [
              "    ProductId          UserId                      ProfileName  Score  \\\n",
              "0  B001E4KFG0  A3SGXH7AUHU8GW                       delmartian      5   \n",
              "1  B00813GRG4  A1D87F6ZCVE5NK                           dll pa      1   \n",
              "2  B000LQOCH0   ABXLMWJIXXAIN  Natalia Corres \"Natalia Corres\"      4   \n",
              "3  B000UA0QIQ  A395BORC6FGVXV                             Karl      2   \n",
              "4  B006K2ZZ7K  A1UQRSCLF8GW1T    Michael D. Bigham \"M. Wassir\"      5   \n",
              "\n",
              "                                    Customer Reviews Review date  Year  Month  \n",
              "0  Good Quality Dog FoodI have bought several of ...  2011-04-27  2011      4  \n",
              "1  Not as AdvertisedProduct arrived labeled as Ju...  2012-09-07  2012      9  \n",
              "2  \"Delight\" says it allThis is a confection that...  2008-08-18  2008      8  \n",
              "3  Cough MedicineIf you are looking for the secre...  2011-06-13  2011      6  \n",
              "4  Great taffyGreat taffy at a great price.  Ther...  2012-10-21  2012     10  "
            ],
            "text/html": [
              "\n",
              "  <div id=\"df-647e164d-e59e-4afc-b887-4d49f91c48e3\">\n",
              "    <div class=\"colab-df-container\">\n",
              "      <div>\n",
              "<style scoped>\n",
              "    .dataframe tbody tr th:only-of-type {\n",
              "        vertical-align: middle;\n",
              "    }\n",
              "\n",
              "    .dataframe tbody tr th {\n",
              "        vertical-align: top;\n",
              "    }\n",
              "\n",
              "    .dataframe thead th {\n",
              "        text-align: right;\n",
              "    }\n",
              "</style>\n",
              "<table border=\"1\" class=\"dataframe\">\n",
              "  <thead>\n",
              "    <tr style=\"text-align: right;\">\n",
              "      <th></th>\n",
              "      <th>ProductId</th>\n",
              "      <th>UserId</th>\n",
              "      <th>ProfileName</th>\n",
              "      <th>Score</th>\n",
              "      <th>Customer Reviews</th>\n",
              "      <th>Review date</th>\n",
              "      <th>Year</th>\n",
              "      <th>Month</th>\n",
              "    </tr>\n",
              "  </thead>\n",
              "  <tbody>\n",
              "    <tr>\n",
              "      <th>0</th>\n",
              "      <td>B001E4KFG0</td>\n",
              "      <td>A3SGXH7AUHU8GW</td>\n",
              "      <td>delmartian</td>\n",
              "      <td>5</td>\n",
              "      <td>Good Quality Dog FoodI have bought several of ...</td>\n",
              "      <td>2011-04-27</td>\n",
              "      <td>2011</td>\n",
              "      <td>4</td>\n",
              "    </tr>\n",
              "    <tr>\n",
              "      <th>1</th>\n",
              "      <td>B00813GRG4</td>\n",
              "      <td>A1D87F6ZCVE5NK</td>\n",
              "      <td>dll pa</td>\n",
              "      <td>1</td>\n",
              "      <td>Not as AdvertisedProduct arrived labeled as Ju...</td>\n",
              "      <td>2012-09-07</td>\n",
              "      <td>2012</td>\n",
              "      <td>9</td>\n",
              "    </tr>\n",
              "    <tr>\n",
              "      <th>2</th>\n",
              "      <td>B000LQOCH0</td>\n",
              "      <td>ABXLMWJIXXAIN</td>\n",
              "      <td>Natalia Corres \"Natalia Corres\"</td>\n",
              "      <td>4</td>\n",
              "      <td>\"Delight\" says it allThis is a confection that...</td>\n",
              "      <td>2008-08-18</td>\n",
              "      <td>2008</td>\n",
              "      <td>8</td>\n",
              "    </tr>\n",
              "    <tr>\n",
              "      <th>3</th>\n",
              "      <td>B000UA0QIQ</td>\n",
              "      <td>A395BORC6FGVXV</td>\n",
              "      <td>Karl</td>\n",
              "      <td>2</td>\n",
              "      <td>Cough MedicineIf you are looking for the secre...</td>\n",
              "      <td>2011-06-13</td>\n",
              "      <td>2011</td>\n",
              "      <td>6</td>\n",
              "    </tr>\n",
              "    <tr>\n",
              "      <th>4</th>\n",
              "      <td>B006K2ZZ7K</td>\n",
              "      <td>A1UQRSCLF8GW1T</td>\n",
              "      <td>Michael D. Bigham \"M. Wassir\"</td>\n",
              "      <td>5</td>\n",
              "      <td>Great taffyGreat taffy at a great price.  Ther...</td>\n",
              "      <td>2012-10-21</td>\n",
              "      <td>2012</td>\n",
              "      <td>10</td>\n",
              "    </tr>\n",
              "  </tbody>\n",
              "</table>\n",
              "</div>\n",
              "      <button class=\"colab-df-convert\" onclick=\"convertToInteractive('df-647e164d-e59e-4afc-b887-4d49f91c48e3')\"\n",
              "              title=\"Convert this dataframe to an interactive table.\"\n",
              "              style=\"display:none;\">\n",
              "        \n",
              "  <svg xmlns=\"http://www.w3.org/2000/svg\" height=\"24px\"viewBox=\"0 0 24 24\"\n",
              "       width=\"24px\">\n",
              "    <path d=\"M0 0h24v24H0V0z\" fill=\"none\"/>\n",
              "    <path d=\"M18.56 5.44l.94 2.06.94-2.06 2.06-.94-2.06-.94-.94-2.06-.94 2.06-2.06.94zm-11 1L8.5 8.5l.94-2.06 2.06-.94-2.06-.94L8.5 2.5l-.94 2.06-2.06.94zm10 10l.94 2.06.94-2.06 2.06-.94-2.06-.94-.94-2.06-.94 2.06-2.06.94z\"/><path d=\"M17.41 7.96l-1.37-1.37c-.4-.4-.92-.59-1.43-.59-.52 0-1.04.2-1.43.59L10.3 9.45l-7.72 7.72c-.78.78-.78 2.05 0 2.83L4 21.41c.39.39.9.59 1.41.59.51 0 1.02-.2 1.41-.59l7.78-7.78 2.81-2.81c.8-.78.8-2.07 0-2.86zM5.41 20L4 18.59l7.72-7.72 1.47 1.35L5.41 20z\"/>\n",
              "  </svg>\n",
              "      </button>\n",
              "      \n",
              "  <style>\n",
              "    .colab-df-container {\n",
              "      display:flex;\n",
              "      flex-wrap:wrap;\n",
              "      gap: 12px;\n",
              "    }\n",
              "\n",
              "    .colab-df-convert {\n",
              "      background-color: #E8F0FE;\n",
              "      border: none;\n",
              "      border-radius: 50%;\n",
              "      cursor: pointer;\n",
              "      display: none;\n",
              "      fill: #1967D2;\n",
              "      height: 32px;\n",
              "      padding: 0 0 0 0;\n",
              "      width: 32px;\n",
              "    }\n",
              "\n",
              "    .colab-df-convert:hover {\n",
              "      background-color: #E2EBFA;\n",
              "      box-shadow: 0px 1px 2px rgba(60, 64, 67, 0.3), 0px 1px 3px 1px rgba(60, 64, 67, 0.15);\n",
              "      fill: #174EA6;\n",
              "    }\n",
              "\n",
              "    [theme=dark] .colab-df-convert {\n",
              "      background-color: #3B4455;\n",
              "      fill: #D2E3FC;\n",
              "    }\n",
              "\n",
              "    [theme=dark] .colab-df-convert:hover {\n",
              "      background-color: #434B5C;\n",
              "      box-shadow: 0px 1px 3px 1px rgba(0, 0, 0, 0.15);\n",
              "      filter: drop-shadow(0px 1px 2px rgba(0, 0, 0, 0.3));\n",
              "      fill: #FFFFFF;\n",
              "    }\n",
              "  </style>\n",
              "\n",
              "      <script>\n",
              "        const buttonEl =\n",
              "          document.querySelector('#df-647e164d-e59e-4afc-b887-4d49f91c48e3 button.colab-df-convert');\n",
              "        buttonEl.style.display =\n",
              "          google.colab.kernel.accessAllowed ? 'block' : 'none';\n",
              "\n",
              "        async function convertToInteractive(key) {\n",
              "          const element = document.querySelector('#df-647e164d-e59e-4afc-b887-4d49f91c48e3');\n",
              "          const dataTable =\n",
              "            await google.colab.kernel.invokeFunction('convertToInteractive',\n",
              "                                                     [key], {});\n",
              "          if (!dataTable) return;\n",
              "\n",
              "          const docLinkHtml = 'Like what you see? Visit the ' +\n",
              "            '<a target=\"_blank\" href=https://colab.research.google.com/notebooks/data_table.ipynb>data table notebook</a>'\n",
              "            + ' to learn more about interactive tables.';\n",
              "          element.innerHTML = '';\n",
              "          dataTable['output_type'] = 'display_data';\n",
              "          await google.colab.output.renderOutput(dataTable, element);\n",
              "          const docLink = document.createElement('div');\n",
              "          docLink.innerHTML = docLinkHtml;\n",
              "          element.appendChild(docLink);\n",
              "        }\n",
              "      </script>\n",
              "    </div>\n",
              "  </div>\n",
              "  "
            ]
          },
          "metadata": {},
          "execution_count": 8
        }
      ],
      "source": [
        "from datetime import datetime\n",
        "\n",
        "df[\"Review date\"]  = [datetime.fromtimestamp(x) for x in df[\"Time\"]]\n",
        "\n",
        "df[\"Review date\"]=pd.to_datetime(df[\"Review date\"])\n",
        "df['Year'] = (df[\"Review date\"].dt.year).astype(int)\n",
        "df['Month'] = (df[\"Review date\"].dt.month).astype(int)\n",
        "\n",
        "df=df.drop(['Summary', 'Text'], axis=1)\n",
        "df=df.drop(['Id','HelpfulnessNumerator', 'HelpfulnessDenominator','Time'], axis=1)\n",
        "df.head()\n",
        "\n"
      ]
    },
    {
      "cell_type": "code",
      "execution_count": 9,
      "metadata": {
        "id": "uEajl7F5k4RP",
        "colab": {
          "base_uri": "https://localhost:8080/",
          "height": 283
        },
        "outputId": "7c6aea96-5389-4385-9d84-a1e82715728e"
      },
      "outputs": [
        {
          "output_type": "execute_result",
          "data": {
            "text/plain": [
              "<matplotlib.axes._subplots.AxesSubplot at 0x7f466acf4f90>"
            ]
          },
          "metadata": {},
          "execution_count": 9
        },
        {
          "output_type": "display_data",
          "data": {
            "text/plain": [
              "<Figure size 432x288 with 2 Axes>"
            ],
            "image/png": "[encoded data removed]"
          },
          "metadata": {
            "needs_background": "light"
          }
        }
      ],
      "source": [
        "sns.heatmap(df.describe())"
      ]
    },
    {
      "cell_type": "code",
      "execution_count": 10,
      "metadata": {
        "id": "vDSrrZ7vk8kv",
        "colab": {
          "base_uri": "https://localhost:8080/",
          "height": 505
        },
        "outputId": "f1f7cbdf-fa65-47aa-9c25-502e731d763c"
      },
      "outputs": [
        {
          "output_type": "execute_result",
          "data": {
            "text/plain": [
              "<matplotlib.axes._subplots.AxesSubplot at 0x7f4670ae1610>"
            ]
          },
          "metadata": {},
          "execution_count": 10
        },
        {
          "output_type": "display_data",
          "data": {
            "text/plain": [
              "<Figure size 720x576 with 2 Axes>"
            ],
            "image/png": "[encoded data removed]"
          },
          "metadata": {
            "needs_background": "light"
          }
        }
      ],
      "source": [
        "import matplotlib.pyplot as plt\n",
        "f, ax = plt.subplots(1, figsize=(10,8))\n",
        "sns.heatmap(df.corr(),annot=True, ax=ax)"
      ]
    },
    {
      "cell_type": "markdown",
      "metadata": {
        "id": "oc3YC4Md-DYX"
      },
      "source": [
        "#Step :3.Exploratory Data Analysis (EDA)"
      ]
    },
    {
      "cell_type": "markdown",
      "metadata": {
        "id": "5BfAt6GQ-SqL"
      },
      "source": [
        "# Step : 3.1.Distribution of Product Ratings"
      ]
    },
    {
      "cell_type": "code",
      "execution_count": 11,
      "metadata": {
        "id": "c6upNt2ilBLm",
        "colab": {
          "base_uri": "https://localhost:8080/",
          "height": 593
        },
        "outputId": "d2141278-7d19-4afe-8f3c-f986d0b038b1"
      },
      "outputs": [
        {
          "output_type": "stream",
          "name": "stdout",
          "text": [
            "5    363111\n",
            "4     80655\n",
            "1     52264\n",
            "3     42638\n",
            "2     29743\n",
            "Name: Score, dtype: int64\n"
          ]
        },
        {
          "output_type": "display_data",
          "data": {
            "text/plain": [
              "<Figure size 720x576 with 1 Axes>"
            ],
            "image/png": "[encoded data removed]"
          },
          "metadata": {}
        }
      ],
      "source": [
        "ratings = df[\"Score\"].value_counts()\n",
        "numbers = ratings.index\n",
        "quantity = ratings.values\n",
        "print(ratings)\n",
        "\n",
        "custom_colors = [\"green\", \"yellowgreen\", 'tomato', \"blue\", \"red\"]\n",
        "plt.figure(figsize=(10, 8))\n",
        "plt.pie(quantity, labels=numbers, colors=custom_colors)\n",
        "central_circle = plt.Circle((0, 0), 0.5, color='white')\n",
        "fig = plt.gcf()\n",
        "fig.gca().add_artist(central_circle)\n",
        "plt.rc('font', size=12)\n",
        "plt.title(\"Distribution of Product Ratings\", fontsize=20)\n",
        "plt.show()"
      ]
    },
    {
      "cell_type": "markdown",
      "metadata": {
        "id": "ShXsuJBGlK3_"
      },
      "source": [
        "#According to the pie chart plotted on column fields, more than half of people rated products they bought from e-commerce site ,with 5 stars, which is good. Let's add three more columns to this dataset as Positive, Negative, and Neutral by calculating the sentiment scores of the customer reviews mentioned in the Text column of the dataset:"
      ]
    },
    {
      "cell_type": "markdown",
      "metadata": {
        "id": "hSHrQT62-lZJ"
      },
      "source": [
        "#Step : 3.1 Creating 'sentiment' columns"
      ]
    },
    {
      "cell_type": "code",
      "execution_count": 12,
      "metadata": {
        "id": "OBdUoqwNMwUs",
        "colab": {
          "base_uri": "https://localhost:8080/"
        },
        "outputId": "b301f9fa-8815-4b73-9d11-3b7db38192ea"
      },
      "outputs": [
        {
          "output_type": "stream",
          "name": "stderr",
          "text": [
            "[nltk_data] Downloading package vader_lexicon to /root/nltk_data...\n"
          ]
        },
        {
          "output_type": "execute_result",
          "data": {
            "text/plain": [
              "True"
            ]
          },
          "metadata": {},
          "execution_count": 12
        }
      ],
      "source": [
        "import nltk\n",
        "nltk.downloader.download('vader_lexicon')"
      ]
    },
    {
      "cell_type": "code",
      "execution_count": 13,
      "metadata": {
        "id": "Uiu_daoXlL-e"
      },
      "outputs": [],
      "source": [
        "from nltk.sentiment.vader import SentimentIntensityAnalyzer\n",
        "from sklearn.feature_extraction.text import CountVectorizer\n",
        "sentiments = SentimentIntensityAnalyzer()"
      ]
    },
    {
      "cell_type": "code",
      "execution_count": 14,
      "metadata": {
        "id": "VFkjVzWlvKPy",
        "colab": {
          "base_uri": "https://localhost:8080/"
        },
        "outputId": "e5fc56e4-a706-4b30-e21f-654d03d8a89b"
      },
      "outputs": [
        {
          "output_type": "stream",
          "name": "stdout",
          "text": [
            "  (0, 2142)\t1\n",
            "  (0, 3673)\t2\n",
            "  (0, 4320)\t1\n",
            "  (0, 5240)\t1\n",
            "  (0, 9921)\t2\n",
            "  (0, 12227)\t1\n",
            "  (0, 12705)\t1\n",
            "  (0, 12725)\t1\n",
            "  (0, 13884)\t2\n",
            "  (0, 17599)\t1\n",
            "  (0, 18072)\t1\n",
            "  (0, 18369)\t1\n",
            "  (0, 19223)\t1\n",
            "  (0, 24051)\t1\n",
            "  (0, 24077)\t2\n",
            "  (0, 24119)\t1\n",
            "  (0, 24592)\t2\n",
            "  (0, 28134)\t1\n",
            "  (0, 29273)\t1\n",
            "  (0, 33245)\t1\n",
            "  (1, 1128)\t1\n",
            "  (1, 2284)\t1\n",
            "  (1, 11113)\t1\n",
            "  (1, 16454)\t1\n",
            "  (1, 17122)\t2\n",
            "  :\t:\n",
            "  (568409, 13884)\t1\n",
            "  (568409, 14364)\t1\n",
            "  (568409, 18446)\t1\n",
            "  (568409, 18485)\t1\n",
            "  (568409, 20855)\t1\n",
            "  (568409, 23578)\t1\n",
            "  (568409, 25934)\t1\n",
            "  (568409, 25936)\t1\n",
            "  (568409, 30137)\t1\n",
            "  (568409, 31720)\t2\n",
            "  (568409, 31819)\t1\n",
            "  (568409, 31844)\t1\n",
            "  (568409, 31868)\t1\n",
            "  (568409, 33754)\t1\n",
            "  (568410, 1290)\t1\n",
            "  (568410, 5701)\t1\n",
            "  (568410, 13492)\t1\n",
            "  (568410, 14204)\t1\n",
            "  (568410, 15389)\t1\n",
            "  (568410, 24077)\t1\n",
            "  (568410, 24900)\t1\n",
            "  (568410, 26699)\t1\n",
            "  (568410, 30171)\t1\n",
            "  (568410, 32767)\t1\n",
            "  (568410, 33173)\t1\n"
          ]
        }
      ],
      "source": [
        "cvec = CountVectorizer(lowercase=True, strip_accents=\"ascii\",\n",
        "                       ngram_range=(1, 1), stop_words=\"english\", min_df=10)\n",
        "cvec.fit(df[\"Customer Reviews\"])\n",
        "vectorizedData = cvec.transform(df[\"Customer Reviews\"])\n",
        "print(vectorizedData)\n"
      ]
    },
    {
      "cell_type": "code",
      "execution_count": 15,
      "metadata": {
        "id": "Jg3O8DFjQPKk",
        "colab": {
          "base_uri": "https://localhost:8080/"
        },
        "outputId": "1543fedc-fb08-41e1-aa23-ac2a646aa08a"
      },
      "outputs": [
        {
          "output_type": "stream",
          "name": "stdout",
          "text": [
            "    ProductId          UserId                      ProfileName  Score  \\\n",
            "0  B001E4KFG0  A3SGXH7AUHU8GW                       delmartian      5   \n",
            "1  B00813GRG4  A1D87F6ZCVE5NK                           dll pa      1   \n",
            "2  B000LQOCH0   ABXLMWJIXXAIN  Natalia Corres \"Natalia Corres\"      4   \n",
            "3  B000UA0QIQ  A395BORC6FGVXV                             Karl      2   \n",
            "4  B006K2ZZ7K  A1UQRSCLF8GW1T    Michael D. Bigham \"M. Wassir\"      5   \n",
            "\n",
            "                                    Customer Reviews Review date  Year  Month  \\\n",
            "0  Good Quality Dog FoodI have bought several of ...  2011-04-27  2011      4   \n",
            "1  Not as AdvertisedProduct arrived labeled as Ju...  2012-09-07  2012      9   \n",
            "2  \"Delight\" says it allThis is a confection that...  2008-08-18  2008      8   \n",
            "3  Cough MedicineIf you are looking for the secre...  2011-06-13  2011      6   \n",
            "4  Great taffyGreat taffy at a great price.  Ther...  2012-10-21  2012     10   \n",
            "\n",
            "   Positive  Negative  Neutral  \n",
            "0     0.323     0.000    0.677  \n",
            "1     0.000     0.131    0.869  \n",
            "2     0.151     0.088    0.761  \n",
            "3     0.000     0.000    1.000  \n",
            "4     0.435     0.000    0.565  \n"
          ]
        }
      ],
      "source": [
        "df[\"Positive\"] = [sentiments.polarity_scores(i)[\"pos\"] for i in df[\"Customer Reviews\"]]\n",
        "df[\"Negative\"] = [sentiments.polarity_scores(i)[\"neg\"] for i in df[\"Customer Reviews\"]]\n",
        "df[\"Neutral\"] = [sentiments.polarity_scores(i)[\"neu\"] for i in df[\"Customer Reviews\"]]\n",
        "\n",
        "#print(f'The % of positive sentiment in \"{sentence}\" is {round(pos*100,2)} %') \n",
        "print(df.head(\"Positive\"))"
      ]
    },
    {
      "cell_type": "code",
      "source": [
        "df1= df[['Customer Reviews','Positive','Negative','Neutral']]\n",
        "df1[\"Positive\"] = round(df1[\"Positive\"]*100,2)\n",
        "df1[\"Negative\"] = round(df1[\"Negative\"]*100,2)\n",
        "df1[\"Neutral\"] = round(df1[\"Neutral\"]*100,2)\n",
        "df1.head()"
      ],
      "metadata": {
        "colab": {
          "base_uri": "https://localhost:8080/",
          "height": 525
        },
        "id": "gcz3hGJvScpM",
        "outputId": "0269233a-657e-4113-fbda-6b4a26120486"
      },
      "execution_count": 25,
      "outputs": [
        {
          "output_type": "stream",
          "name": "stderr",
          "text": [
            "/usr/local/lib/python3.7/dist-packages/ipykernel_launcher.py:2: SettingWithCopyWarning: \n",
            "A value is trying to be set on a copy of a slice from a DataFrame.\n",
            "Try using .loc[row_indexer,col_indexer] = value instead\n",
            "\n",
            "See the caveats in the documentation: https://pandas.pydata.org/pandas-docs/stable/user_guide/indexing.html#returning-a-view-versus-a-copy\n",
            "  \n",
            "/usr/local/lib/python3.7/dist-packages/ipykernel_launcher.py:3: SettingWithCopyWarning: \n",
            "A value is trying to be set on a copy of a slice from a DataFrame.\n",
            "Try using .loc[row_indexer,col_indexer] = value instead\n",
            "\n",
            "See the caveats in the documentation: https://pandas.pydata.org/pandas-docs/stable/user_guide/indexing.html#returning-a-view-versus-a-copy\n",
            "  This is separate from the ipykernel package so we can avoid doing imports until\n",
            "/usr/local/lib/python3.7/dist-packages/ipykernel_launcher.py:4: SettingWithCopyWarning: \n",
            "A value is trying to be set on a copy of a slice from a DataFrame.\n",
            "Try using .loc[row_indexer,col_indexer] = value instead\n",
            "\n",
            "See the caveats in the documentation: https://pandas.pydata.org/pandas-docs/stable/user_guide/indexing.html#returning-a-view-versus-a-copy\n",
            "  after removing the cwd from sys.path.\n"
          ]
        },
        {
          "output_type": "execute_result",
          "data": {
            "text/plain": [
              "                                    Customer Reviews  Positive  Negative  \\\n",
              "0  Good Quality Dog FoodI have bought several of ...      32.3       0.0   \n",
              "1  Not as AdvertisedProduct arrived labeled as Ju...       0.0      13.1   \n",
              "2  \"Delight\" says it allThis is a confection that...      15.1       8.8   \n",
              "3  Cough MedicineIf you are looking for the secre...       0.0       0.0   \n",
              "4  Great taffyGreat taffy at a great price.  Ther...      43.5       0.0   \n",
              "\n",
              "   Neutral  \n",
              "0     67.7  \n",
              "1     86.9  \n",
              "2     76.1  \n",
              "3    100.0  \n",
              "4     56.5  "
            ],
            "text/html": [
              "\n",
              "  <div id=\"df-5134c947-895b-4213-9e0c-84d2f906755b\">\n",
              "    <div class=\"colab-df-container\">\n",
              "      <div>\n",
              "<style scoped>\n",
              "    .dataframe tbody tr th:only-of-type {\n",
              "        vertical-align: middle;\n",
              "    }\n",
              "\n",
              "    .dataframe tbody tr th {\n",
              "        vertical-align: top;\n",
              "    }\n",
              "\n",
              "    .dataframe thead th {\n",
              "        text-align: right;\n",
              "    }\n",
              "</style>\n",
              "<table border=\"1\" class=\"dataframe\">\n",
              "  <thead>\n",
              "    <tr style=\"text-align: right;\">\n",
              "      <th></th>\n",
              "      <th>Customer Reviews</th>\n",
              "      <th>Positive</th>\n",
              "      <th>Negative</th>\n",
              "      <th>Neutral</th>\n",
              "    </tr>\n",
              "  </thead>\n",
              "  <tbody>\n",
              "    <tr>\n",
              "      <th>0</th>\n",
              "      <td>Good Quality Dog FoodI have bought several of ...</td>\n",
              "      <td>32.3</td>\n",
              "      <td>0.0</td>\n",
              "      <td>67.7</td>\n",
              "    </tr>\n",
              "    <tr>\n",
              "      <th>1</th>\n",
              "      <td>Not as AdvertisedProduct arrived labeled as Ju...</td>\n",
              "      <td>0.0</td>\n",
              "      <td>13.1</td>\n",
              "      <td>86.9</td>\n",
              "    </tr>\n",
              "    <tr>\n",
              "      <th>2</th>\n",
              "      <td>\"Delight\" says it allThis is a confection that...</td>\n",
              "      <td>15.1</td>\n",
              "      <td>8.8</td>\n",
              "      <td>76.1</td>\n",
              "    </tr>\n",
              "    <tr>\n",
              "      <th>3</th>\n",
              "      <td>Cough MedicineIf you are looking for the secre...</td>\n",
              "      <td>0.0</td>\n",
              "      <td>0.0</td>\n",
              "      <td>100.0</td>\n",
              "    </tr>\n",
              "    <tr>\n",
              "      <th>4</th>\n",
              "      <td>Great taffyGreat taffy at a great price.  Ther...</td>\n",
              "      <td>43.5</td>\n",
              "      <td>0.0</td>\n",
              "      <td>56.5</td>\n",
              "    </tr>\n",
              "  </tbody>\n",
              "</table>\n",
              "</div>\n",
              "      <button class=\"colab-df-convert\" onclick=\"convertToInteractive('df-5134c947-895b-4213-9e0c-84d2f906755b')\"\n",
              "              title=\"Convert this dataframe to an interactive table.\"\n",
              "              style=\"display:none;\">\n",
              "        \n",
              "  <svg xmlns=\"http://www.w3.org/2000/svg\" height=\"24px\"viewBox=\"0 0 24 24\"\n",
              "       width=\"24px\">\n",
              "    <path d=\"M0 0h24v24H0V0z\" fill=\"none\"/>\n",
              "    <path d=\"M18.56 5.44l.94 2.06.94-2.06 2.06-.94-2.06-.94-.94-2.06-.94 2.06-2.06.94zm-11 1L8.5 8.5l.94-2.06 2.06-.94-2.06-.94L8.5 2.5l-.94 2.06-2.06.94zm10 10l.94 2.06.94-2.06 2.06-.94-2.06-.94-.94-2.06-.94 2.06-2.06.94z\"/><path d=\"M17.41 7.96l-1.37-1.37c-.4-.4-.92-.59-1.43-.59-.52 0-1.04.2-1.43.59L10.3 9.45l-7.72 7.72c-.78.78-.78 2.05 0 2.83L4 21.41c.39.39.9.59 1.41.59.51 0 1.02-.2 1.41-.59l7.78-7.78 2.81-2.81c.8-.78.8-2.07 0-2.86zM5.41 20L4 18.59l7.72-7.72 1.47 1.35L5.41 20z\"/>\n",
              "  </svg>\n",
              "      </button>\n",
              "      \n",
              "  <style>\n",
              "    .colab-df-container {\n",
              "      display:flex;\n",
              "      flex-wrap:wrap;\n",
              "      gap: 12px;\n",
              "    }\n",
              "\n",
              "    .colab-df-convert {\n",
              "      background-color: #E8F0FE;\n",
              "      border: none;\n",
              "      border-radius: 50%;\n",
              "      cursor: pointer;\n",
              "      display: none;\n",
              "      fill: #1967D2;\n",
              "      height: 32px;\n",
              "      padding: 0 0 0 0;\n",
              "      width: 32px;\n",
              "    }\n",
              "\n",
              "    .colab-df-convert:hover {\n",
              "      background-color: #E2EBFA;\n",
              "      box-shadow: 0px 1px 2px rgba(60, 64, 67, 0.3), 0px 1px 3px 1px rgba(60, 64, 67, 0.15);\n",
              "      fill: #174EA6;\n",
              "    }\n",
              "\n",
              "    [theme=dark] .colab-df-convert {\n",
              "      background-color: #3B4455;\n",
              "      fill: #D2E3FC;\n",
              "    }\n",
              "\n",
              "    [theme=dark] .colab-df-convert:hover {\n",
              "      background-color: #434B5C;\n",
              "      box-shadow: 0px 1px 3px 1px rgba(0, 0, 0, 0.15);\n",
              "      filter: drop-shadow(0px 1px 2px rgba(0, 0, 0, 0.3));\n",
              "      fill: #FFFFFF;\n",
              "    }\n",
              "  </style>\n",
              "\n",
              "      <script>\n",
              "        const buttonEl =\n",
              "          document.querySelector('#df-5134c947-895b-4213-9e0c-84d2f906755b button.colab-df-convert');\n",
              "        buttonEl.style.display =\n",
              "          google.colab.kernel.accessAllowed ? 'block' : 'none';\n",
              "\n",
              "        async function convertToInteractive(key) {\n",
              "          const element = document.querySelector('#df-5134c947-895b-4213-9e0c-84d2f906755b');\n",
              "          const dataTable =\n",
              "            await google.colab.kernel.invokeFunction('convertToInteractive',\n",
              "                                                     [key], {});\n",
              "          if (!dataTable) return;\n",
              "\n",
              "          const docLinkHtml = 'Like what you see? Visit the ' +\n",
              "            '<a target=\"_blank\" href=https://colab.research.google.com/notebooks/data_table.ipynb>data table notebook</a>'\n",
              "            + ' to learn more about interactive tables.';\n",
              "          element.innerHTML = '';\n",
              "          dataTable['output_type'] = 'display_data';\n",
              "          await google.colab.output.renderOutput(dataTable, element);\n",
              "          const docLink = document.createElement('div');\n",
              "          docLink.innerHTML = docLinkHtml;\n",
              "          element.appendChild(docLink);\n",
              "        }\n",
              "      </script>\n",
              "    </div>\n",
              "  </div>\n",
              "  "
            ]
          },
          "metadata": {},
          "execution_count": 25
        }
      ]
    },
    {
      "cell_type": "code",
      "execution_count": 16,
      "metadata": {
        "id": "mrrElmugXXp6",
        "colab": {
          "base_uri": "https://localhost:8080/"
        },
        "outputId": "d3fb695a-49ef-4462-b71a-b2df1766a83b"
      },
      "outputs": [
        {
          "output_type": "stream",
          "name": "stdout",
          "text": [
            "Neutral 🙂 \n"
          ]
        }
      ],
      "source": [
        "x = sum(df[\"Positive\"])\n",
        "y = sum(df[\"Negative\"])\n",
        "z = sum(df[\"Neutral\"])\n",
        "\n",
        "def sentiment_score(a, b, c):\n",
        "    if (a>b) and (a>c):\n",
        "        print(\"Positive 😊 \")\n",
        "    elif (b>a) and (b>c):\n",
        "        print(\"Negative 😠 \")\n",
        "    else:\n",
        "        print(\"Neutral 🙂 \")\n",
        "sentiment_score(x, y, z)\n"
      ]
    },
    {
      "cell_type": "markdown",
      "metadata": {
        "id": "7WJn1vUClT7O"
      },
      "source": [
        "# So, most people are neutral when submitting their experiences with the products they have purchased from shopping ecommerce site. Now let’s see the total of all sentiment scores:\n"
      ]
    },
    {
      "cell_type": "code",
      "execution_count": 17,
      "metadata": {
        "id": "q-LZA70SlQTm",
        "colab": {
          "base_uri": "https://localhost:8080/"
        },
        "outputId": "d962aeaa-7d04-429d-d969-bbe64ddb1a58"
      },
      "outputs": [
        {
          "output_type": "stream",
          "name": "stdout",
          "text": [
            "Positive:  116310.17400000285\n",
            "Negative:  24263.483999999244\n",
            "Neutral:  427837.0169999829\n"
          ]
        }
      ],
      "source": [
        "print(\"Positive: \", x)\n",
        "print(\"Negative: \", y)\n",
        "print(\"Neutral: \", z)\n"
      ]
    },
    {
      "cell_type": "code",
      "execution_count": 18,
      "metadata": {
        "id": "nYK-q8NvrYvE",
        "colab": {
          "base_uri": "https://localhost:8080/",
          "height": 345
        },
        "outputId": "ea61f949-178c-4adc-81ac-4e29c4f917a2"
      },
      "outputs": [
        {
          "output_type": "display_data",
          "data": {
            "text/plain": [
              "<Figure size 432x288 with 1 Axes>"
            ],
            "image/png": "[encoded data removed]"
          },
          "metadata": {
            "needs_background": "light"
          }
        }
      ],
      "source": [
        "\n",
        "data = {\"Sentiments\":[\"Positive\", \"Negative\", \"Neutral\"],\n",
        "\n",
        "        \"Total\":[x,y,z]\n",
        "\n",
        "        };\n",
        "\n",
        "# Dictionary loaded into a DataFrame       \n",
        "\n",
        "dataFrame = pd.DataFrame(data=data);\n",
        "\n",
        " \n",
        "\n",
        "# Draw a vertical bar chart\n",
        "\n",
        "dataFrame.plot.bar(x=\"Sentiments\", y=\"Total\", rot=70, title=\"Sentiments Total\");\n",
        "\n",
        "plt.show(block=True);"
      ]
    },
    {
      "cell_type": "markdown",
      "metadata": {
        "id": "EHmWHd0Rlizu"
      },
      "source": [
        "# So we can say that most of the reviews of the products available on ecommerce site are positive, as the total sentiment scores of Positive and Neural are much higher than Negative scores.\n"
      ]
    },
    {
      "cell_type": "code",
      "execution_count": 19,
      "metadata": {
        "id": "LHovt2aG1xCc",
        "colab": {
          "base_uri": "https://localhost:8080/",
          "height": 354
        },
        "outputId": "a528020f-5ef0-485a-9605-ef8b9dc3ed92"
      },
      "outputs": [
        {
          "output_type": "execute_result",
          "data": {
            "text/plain": [
              "    ProductId          UserId                      ProfileName  Score  \\\n",
              "0  B001E4KFG0  A3SGXH7AUHU8GW                       delmartian      5   \n",
              "1  B00813GRG4  A1D87F6ZCVE5NK                           dll pa      1   \n",
              "2  B000LQOCH0   ABXLMWJIXXAIN  Natalia Corres \"Natalia Corres\"      4   \n",
              "3  B000UA0QIQ  A395BORC6FGVXV                             Karl      2   \n",
              "4  B006K2ZZ7K  A1UQRSCLF8GW1T    Michael D. Bigham \"M. Wassir\"      5   \n",
              "\n",
              "                                    Customer Reviews Review date  Year  Month  \\\n",
              "0  Good Quality Dog FoodI have bought several of ...  2011-04-27  2011      4   \n",
              "1  Not as AdvertisedProduct arrived labeled as Ju...  2012-09-07  2012      9   \n",
              "2  \"Delight\" says it allThis is a confection that...  2008-08-18  2008      8   \n",
              "3  Cough MedicineIf you are looking for the secre...  2011-06-13  2011      6   \n",
              "4  Great taffyGreat taffy at a great price.  Ther...  2012-10-21  2012     10   \n",
              "\n",
              "   Positive  Negative  Neutral  sentiment_score sentiment  \n",
              "0     0.323     0.000    0.677                1  POSITIVE  \n",
              "1     0.000     0.131    0.869                0  NEGATIVE  \n",
              "2     0.151     0.088    0.761                1  POSITIVE  \n",
              "3     0.000     0.000    1.000                0  NEGATIVE  \n",
              "4     0.435     0.000    0.565                1  POSITIVE  "
            ],
            "text/html": [
              "\n",
              "  <div id=\"df-962b4f9f-7b4e-4ae8-ab66-1a8ec668442b\">\n",
              "    <div class=\"colab-df-container\">\n",
              "      <div>\n",
              "<style scoped>\n",
              "    .dataframe tbody tr th:only-of-type {\n",
              "        vertical-align: middle;\n",
              "    }\n",
              "\n",
              "    .dataframe tbody tr th {\n",
              "        vertical-align: top;\n",
              "    }\n",
              "\n",
              "    .dataframe thead th {\n",
              "        text-align: right;\n",
              "    }\n",
              "</style>\n",
              "<table border=\"1\" class=\"dataframe\">\n",
              "  <thead>\n",
              "    <tr style=\"text-align: right;\">\n",
              "      <th></th>\n",
              "      <th>ProductId</th>\n",
              "      <th>UserId</th>\n",
              "      <th>ProfileName</th>\n",
              "      <th>Score</th>\n",
              "      <th>Customer Reviews</th>\n",
              "      <th>Review date</th>\n",
              "      <th>Year</th>\n",
              "      <th>Month</th>\n",
              "      <th>Positive</th>\n",
              "      <th>Negative</th>\n",
              "      <th>Neutral</th>\n",
              "      <th>sentiment_score</th>\n",
              "      <th>sentiment</th>\n",
              "    </tr>\n",
              "  </thead>\n",
              "  <tbody>\n",
              "    <tr>\n",
              "      <th>0</th>\n",
              "      <td>B001E4KFG0</td>\n",
              "      <td>A3SGXH7AUHU8GW</td>\n",
              "      <td>delmartian</td>\n",
              "      <td>5</td>\n",
              "      <td>Good Quality Dog FoodI have bought several of ...</td>\n",
              "      <td>2011-04-27</td>\n",
              "      <td>2011</td>\n",
              "      <td>4</td>\n",
              "      <td>0.323</td>\n",
              "      <td>0.000</td>\n",
              "      <td>0.677</td>\n",
              "      <td>1</td>\n",
              "      <td>POSITIVE</td>\n",
              "    </tr>\n",
              "    <tr>\n",
              "      <th>1</th>\n",
              "      <td>B00813GRG4</td>\n",
              "      <td>A1D87F6ZCVE5NK</td>\n",
              "      <td>dll pa</td>\n",
              "      <td>1</td>\n",
              "      <td>Not as AdvertisedProduct arrived labeled as Ju...</td>\n",
              "      <td>2012-09-07</td>\n",
              "      <td>2012</td>\n",
              "      <td>9</td>\n",
              "      <td>0.000</td>\n",
              "      <td>0.131</td>\n",
              "      <td>0.869</td>\n",
              "      <td>0</td>\n",
              "      <td>NEGATIVE</td>\n",
              "    </tr>\n",
              "    <tr>\n",
              "      <th>2</th>\n",
              "      <td>B000LQOCH0</td>\n",
              "      <td>ABXLMWJIXXAIN</td>\n",
              "      <td>Natalia Corres \"Natalia Corres\"</td>\n",
              "      <td>4</td>\n",
              "      <td>\"Delight\" says it allThis is a confection that...</td>\n",
              "      <td>2008-08-18</td>\n",
              "      <td>2008</td>\n",
              "      <td>8</td>\n",
              "      <td>0.151</td>\n",
              "      <td>0.088</td>\n",
              "      <td>0.761</td>\n",
              "      <td>1</td>\n",
              "      <td>POSITIVE</td>\n",
              "    </tr>\n",
              "    <tr>\n",
              "      <th>3</th>\n",
              "      <td>B000UA0QIQ</td>\n",
              "      <td>A395BORC6FGVXV</td>\n",
              "      <td>Karl</td>\n",
              "      <td>2</td>\n",
              "      <td>Cough MedicineIf you are looking for the secre...</td>\n",
              "      <td>2011-06-13</td>\n",
              "      <td>2011</td>\n",
              "      <td>6</td>\n",
              "      <td>0.000</td>\n",
              "      <td>0.000</td>\n",
              "      <td>1.000</td>\n",
              "      <td>0</td>\n",
              "      <td>NEGATIVE</td>\n",
              "    </tr>\n",
              "    <tr>\n",
              "      <th>4</th>\n",
              "      <td>B006K2ZZ7K</td>\n",
              "      <td>A1UQRSCLF8GW1T</td>\n",
              "      <td>Michael D. Bigham \"M. Wassir\"</td>\n",
              "      <td>5</td>\n",
              "      <td>Great taffyGreat taffy at a great price.  Ther...</td>\n",
              "      <td>2012-10-21</td>\n",
              "      <td>2012</td>\n",
              "      <td>10</td>\n",
              "      <td>0.435</td>\n",
              "      <td>0.000</td>\n",
              "      <td>0.565</td>\n",
              "      <td>1</td>\n",
              "      <td>POSITIVE</td>\n",
              "    </tr>\n",
              "  </tbody>\n",
              "</table>\n",
              "</div>\n",
              "      <button class=\"colab-df-convert\" onclick=\"convertToInteractive('df-962b4f9f-7b4e-4ae8-ab66-1a8ec668442b')\"\n",
              "              title=\"Convert this dataframe to an interactive table.\"\n",
              "              style=\"display:none;\">\n",
              "        \n",
              "  <svg xmlns=\"http://www.w3.org/2000/svg\" height=\"24px\"viewBox=\"0 0 24 24\"\n",
              "       width=\"24px\">\n",
              "    <path d=\"M0 0h24v24H0V0z\" fill=\"none\"/>\n",
              "    <path d=\"M18.56 5.44l.94 2.06.94-2.06 2.06-.94-2.06-.94-.94-2.06-.94 2.06-2.06.94zm-11 1L8.5 8.5l.94-2.06 2.06-.94-2.06-.94L8.5 2.5l-.94 2.06-2.06.94zm10 10l.94 2.06.94-2.06 2.06-.94-2.06-.94-.94-2.06-.94 2.06-2.06.94z\"/><path d=\"M17.41 7.96l-1.37-1.37c-.4-.4-.92-.59-1.43-.59-.52 0-1.04.2-1.43.59L10.3 9.45l-7.72 7.72c-.78.78-.78 2.05 0 2.83L4 21.41c.39.39.9.59 1.41.59.51 0 1.02-.2 1.41-.59l7.78-7.78 2.81-2.81c.8-.78.8-2.07 0-2.86zM5.41 20L4 18.59l7.72-7.72 1.47 1.35L5.41 20z\"/>\n",
              "  </svg>\n",
              "      </button>\n",
              "      \n",
              "  <style>\n",
              "    .colab-df-container {\n",
              "      display:flex;\n",
              "      flex-wrap:wrap;\n",
              "      gap: 12px;\n",
              "    }\n",
              "\n",
              "    .colab-df-convert {\n",
              "      background-color: #E8F0FE;\n",
              "      border: none;\n",
              "      border-radius: 50%;\n",
              "      cursor: pointer;\n",
              "      display: none;\n",
              "      fill: #1967D2;\n",
              "      height: 32px;\n",
              "      padding: 0 0 0 0;\n",
              "      width: 32px;\n",
              "    }\n",
              "\n",
              "    .colab-df-convert:hover {\n",
              "      background-color: #E2EBFA;\n",
              "      box-shadow: 0px 1px 2px rgba(60, 64, 67, 0.3), 0px 1px 3px 1px rgba(60, 64, 67, 0.15);\n",
              "      fill: #174EA6;\n",
              "    }\n",
              "\n",
              "    [theme=dark] .colab-df-convert {\n",
              "      background-color: #3B4455;\n",
              "      fill: #D2E3FC;\n",
              "    }\n",
              "\n",
              "    [theme=dark] .colab-df-convert:hover {\n",
              "      background-color: #434B5C;\n",
              "      box-shadow: 0px 1px 3px 1px rgba(0, 0, 0, 0.15);\n",
              "      filter: drop-shadow(0px 1px 2px rgba(0, 0, 0, 0.3));\n",
              "      fill: #FFFFFF;\n",
              "    }\n",
              "  </style>\n",
              "\n",
              "      <script>\n",
              "        const buttonEl =\n",
              "          document.querySelector('#df-962b4f9f-7b4e-4ae8-ab66-1a8ec668442b button.colab-df-convert');\n",
              "        buttonEl.style.display =\n",
              "          google.colab.kernel.accessAllowed ? 'block' : 'none';\n",
              "\n",
              "        async function convertToInteractive(key) {\n",
              "          const element = document.querySelector('#df-962b4f9f-7b4e-4ae8-ab66-1a8ec668442b');\n",
              "          const dataTable =\n",
              "            await google.colab.kernel.invokeFunction('convertToInteractive',\n",
              "                                                     [key], {});\n",
              "          if (!dataTable) return;\n",
              "\n",
              "          const docLinkHtml = 'Like what you see? Visit the ' +\n",
              "            '<a target=\"_blank\" href=https://colab.research.google.com/notebooks/data_table.ipynb>data table notebook</a>'\n",
              "            + ' to learn more about interactive tables.';\n",
              "          element.innerHTML = '';\n",
              "          dataTable['output_type'] = 'display_data';\n",
              "          await google.colab.output.renderOutput(dataTable, element);\n",
              "          const docLink = document.createElement('div');\n",
              "          docLink.innerHTML = docLinkHtml;\n",
              "          element.appendChild(docLink);\n",
              "        }\n",
              "      </script>\n",
              "    </div>\n",
              "  </div>\n",
              "  "
            ]
          },
          "metadata": {},
          "execution_count": 19
        }
      ],
      "source": [
        "# map ratings 1, 2, 3 to 0 (NEGATIVE) and 4, 5 to 1 (POSITIVE) \n",
        "sentiment_score = {1: 0,\n",
        "                   2: 0,\n",
        "                   3: 0,\n",
        "                   4: 1,\n",
        "                   5: 1}\n",
        "\n",
        "sentiment = {0: 'NEGATIVE',\n",
        "             1: 'POSITIVE'}\n",
        "\n",
        "\n",
        "# mapping\n",
        "df['sentiment_score'] = df['Score'].map(sentiment_score)\n",
        "df['sentiment'] = df['sentiment_score'].map(sentiment)\n",
        "\n",
        "df.head()"
      ]
    },
    {
      "cell_type": "code",
      "execution_count": null,
      "metadata": {
        "id": "aRL3JOpM2LfU"
      },
      "outputs": [],
      "source": [
        "df['sentiment_score'].value_counts()"
      ]
    },
    {
      "cell_type": "markdown",
      "metadata": {
        "id": "ssUhcJnrJrHz"
      },
      "source": [
        "#Step :3.2 derive the sentiment "
      ]
    },
    {
      "cell_type": "code",
      "execution_count": null,
      "metadata": {
        "id": "xhwbwJD32rSh"
      },
      "outputs": [],
      "source": [
        "plt.figure(figsize = (8, 8))\n",
        "\n",
        "labels = ['POSITIVE','NEGATIVE']\n",
        "colors = ['#189AB4', '#D4F1F4']\n",
        "plt.pie(df['sentiment_score'].value_counts(), autopct='%0.2f%%',colors=colors)\n",
        "\n",
        "plt.title('Distribution of sentiment', size=14, y=-0.01)\n",
        "plt.legend(labels, ncol=2, loc=9)\n",
        "plt.show()"
      ]
    },
    {
      "cell_type": "code",
      "execution_count": null,
      "metadata": {
        "id": "oJos-ypQlpB3"
      },
      "outputs": [],
      "source": [
        "#Processing of ProductId\n",
        "#Sorting data according to ProductId in ascending order\n",
        "sorted_data=df.sort_values('ProductId', axis=0, ascending=True, inplace=False, kind='quicksort', na_position='last')\n",
        "#sorted_data.head() # printing sorted data\n",
        "# To check the duplications in raw data\n",
        "dupli=sorted_data[sorted_data.duplicated([\"UserId\",\"ProfileName\",\"Customer Reviews\"])]\n",
        "print('-----------------------------------------')\n",
        "print('-----------------------------------------')\n",
        "print('            Duplicated data ')\n",
        "print('-----------------------------------------')\n",
        "print('-----------------------------------------')\n",
        "print( str(dupli.head(5)))\n",
        "print('-----------------------------------------')\n",
        "print('-----------------------------------------')\n",
        "# Remove Deduplication of entries\n",
        "final=sorted_data.drop_duplicates(subset={\"UserId\",\"ProfileName\",\"Customer Reviews\"}, keep='first', inplace=False)\n",
        "final.shape\n",
        "#Checking to see how much % of data still remains\n",
        "(final['UserId'].size*1.0)/(df['UserId'].size*1.0)*100\n",
        "#final=final[final.HelpfulnessNumerator<=final.HelpfulnessDenominator]\n",
        "#Before starting the next phase of preprocessing lets see the number of entries left\n",
        "print('-----------------------------------------')\n",
        "print('-----------------------------------------')\n",
        "print('Final data shape : ' +str(final.shape))\n",
        "print('-----------------------------------------')\n",
        "print('-----------------------------------------')\n",
        "\n",
        "#How many positive and negative reviews are present in our dataset?\n",
        "final['Score'].value_counts()"
      ]
    },
    {
      "cell_type": "code",
      "execution_count": null,
      "metadata": {
        "id": "zmctigKF34ng"
      },
      "outputs": [],
      "source": [
        "\n",
        "labels = ['POSITIVE','NEGATIVE']\n",
        "colors = ['#189AB4', '#D4F1F4']\n",
        "plt.pie(df['sentiment_score'].value_counts(), autopct='%0.2f%%',colors=colors)\n",
        "\n",
        "plt.title('Distribution of sentiment', size=14, y=-0.01)\n",
        "plt.legend(labels, ncol=2, loc=9)\n",
        "plt.show()"
      ]
    },
    {
      "cell_type": "markdown",
      "metadata": {
        "id": "GMBEJOJ2lvtH"
      },
      "source": [
        "# observations\n",
        "The positive reviews is greater than negative reviews.It makes data imbalanced.\n",
        "From the bar plot ,it is  very evident that given dataset is imbanced one.\n"
      ]
    },
    {
      "cell_type": "code",
      "execution_count": 26,
      "metadata": {
        "id": "vuvqmRPLH88S"
      },
      "outputs": [],
      "source": [
        "#Creating a copy \n",
        "clean_review=df.copy()"
      ]
    },
    {
      "cell_type": "code",
      "execution_count": 27,
      "metadata": {
        "id": "eU38ofM9ltQv",
        "colab": {
          "base_uri": "https://localhost:8080/"
        },
        "outputId": "e2457ade-1c23-4ef0-cd5b-724f40f6066f"
      },
      "outputs": [
        {
          "output_type": "stream",
          "name": "stderr",
          "text": [
            "[nltk_data] Downloading package stopwords to /root/nltk_data...\n",
            "[nltk_data]   Unzipping corpora/stopwords.zip.\n"
          ]
        },
        {
          "output_type": "execute_result",
          "data": {
            "text/plain": [
              "True"
            ]
          },
          "metadata": {},
          "execution_count": 27
        }
      ],
      "source": [
        "import nltk\n",
        "import string\n",
        "from nltk.corpus import stopwords\n",
        "import pickle\n",
        "import re\n",
        "nltk.download('stopwords')"
      ]
    },
    {
      "cell_type": "code",
      "execution_count": 28,
      "metadata": {
        "id": "K6CnNTyxIaAY"
      },
      "outputs": [],
      "source": [
        "def review_cleaning(text):\n",
        "    '''Make text lowercase, remove text in square brackets,remove links,remove punctuation\n",
        "    and remove words containing numbers.'''\n",
        "    text = str(text).lower()\n",
        "    text = re.sub('\\[.*?\\]', '', text)\n",
        "    text = re.sub('https?://\\S+|www\\.\\S+', '', text)\n",
        "    text = re.sub('<.*?>+', '', text)\n",
        "    text = re.sub('[%s]' % re.escape(string.punctuation), '', text)\n",
        "    text = re.sub('\\n', '', text)\n",
        "    text = re.sub('\\w*\\d\\w*', '', text)\n",
        "    return text"
      ]
    },
    {
      "cell_type": "code",
      "execution_count": 29,
      "metadata": {
        "id": "iSzs8lnoIcmD",
        "colab": {
          "base_uri": "https://localhost:8080/",
          "height": 354
        },
        "outputId": "534bcf16-0ff3-46d6-d4e4-5b85daa0b7d6"
      },
      "outputs": [
        {
          "output_type": "execute_result",
          "data": {
            "text/plain": [
              "    ProductId          UserId                      ProfileName  Score  \\\n",
              "0  B001E4KFG0  A3SGXH7AUHU8GW                       delmartian      5   \n",
              "1  B00813GRG4  A1D87F6ZCVE5NK                           dll pa      1   \n",
              "2  B000LQOCH0   ABXLMWJIXXAIN  Natalia Corres \"Natalia Corres\"      4   \n",
              "3  B000UA0QIQ  A395BORC6FGVXV                             Karl      2   \n",
              "4  B006K2ZZ7K  A1UQRSCLF8GW1T    Michael D. Bigham \"M. Wassir\"      5   \n",
              "\n",
              "                                    Customer Reviews Review date  Year  Month  \\\n",
              "0  good quality dog foodi have bought several of ...  2011-04-27  2011      4   \n",
              "1  not as advertisedproduct arrived labeled as ju...  2012-09-07  2012      9   \n",
              "2  delight says it allthis is a confection that h...  2008-08-18  2008      8   \n",
              "3  cough medicineif you are looking for the secre...  2011-06-13  2011      6   \n",
              "4  great taffygreat taffy at a great price  there...  2012-10-21  2012     10   \n",
              "\n",
              "   Positive  Negative  Neutral  sentiment_score sentiment  \n",
              "0     0.323     0.000    0.677                1  POSITIVE  \n",
              "1     0.000     0.131    0.869                0  NEGATIVE  \n",
              "2     0.151     0.088    0.761                1  POSITIVE  \n",
              "3     0.000     0.000    1.000                0  NEGATIVE  \n",
              "4     0.435     0.000    0.565                1  POSITIVE  "
            ],
            "text/html": [
              "\n",
              "  <div id=\"df-15763990-5fa4-41e8-add9-6fb858403624\">\n",
              "    <div class=\"colab-df-container\">\n",
              "      <div>\n",
              "<style scoped>\n",
              "    .dataframe tbody tr th:only-of-type {\n",
              "        vertical-align: middle;\n",
              "    }\n",
              "\n",
              "    .dataframe tbody tr th {\n",
              "        vertical-align: top;\n",
              "    }\n",
              "\n",
              "    .dataframe thead th {\n",
              "        text-align: right;\n",
              "    }\n",
              "</style>\n",
              "<table border=\"1\" class=\"dataframe\">\n",
              "  <thead>\n",
              "    <tr style=\"text-align: right;\">\n",
              "      <th></th>\n",
              "      <th>ProductId</th>\n",
              "      <th>UserId</th>\n",
              "      <th>ProfileName</th>\n",
              "      <th>Score</th>\n",
              "      <th>Customer Reviews</th>\n",
              "      <th>Review date</th>\n",
              "      <th>Year</th>\n",
              "      <th>Month</th>\n",
              "      <th>Positive</th>\n",
              "      <th>Negative</th>\n",
              "      <th>Neutral</th>\n",
              "      <th>sentiment_score</th>\n",
              "      <th>sentiment</th>\n",
              "    </tr>\n",
              "  </thead>\n",
              "  <tbody>\n",
              "    <tr>\n",
              "      <th>0</th>\n",
              "      <td>B001E4KFG0</td>\n",
              "      <td>A3SGXH7AUHU8GW</td>\n",
              "      <td>delmartian</td>\n",
              "      <td>5</td>\n",
              "      <td>good quality dog foodi have bought several of ...</td>\n",
              "      <td>2011-04-27</td>\n",
              "      <td>2011</td>\n",
              "      <td>4</td>\n",
              "      <td>0.323</td>\n",
              "      <td>0.000</td>\n",
              "      <td>0.677</td>\n",
              "      <td>1</td>\n",
              "      <td>POSITIVE</td>\n",
              "    </tr>\n",
              "    <tr>\n",
              "      <th>1</th>\n",
              "      <td>B00813GRG4</td>\n",
              "      <td>A1D87F6ZCVE5NK</td>\n",
              "      <td>dll pa</td>\n",
              "      <td>1</td>\n",
              "      <td>not as advertisedproduct arrived labeled as ju...</td>\n",
              "      <td>2012-09-07</td>\n",
              "      <td>2012</td>\n",
              "      <td>9</td>\n",
              "      <td>0.000</td>\n",
              "      <td>0.131</td>\n",
              "      <td>0.869</td>\n",
              "      <td>0</td>\n",
              "      <td>NEGATIVE</td>\n",
              "    </tr>\n",
              "    <tr>\n",
              "      <th>2</th>\n",
              "      <td>B000LQOCH0</td>\n",
              "      <td>ABXLMWJIXXAIN</td>\n",
              "      <td>Natalia Corres \"Natalia Corres\"</td>\n",
              "      <td>4</td>\n",
              "      <td>delight says it allthis is a confection that h...</td>\n",
              "      <td>2008-08-18</td>\n",
              "      <td>2008</td>\n",
              "      <td>8</td>\n",
              "      <td>0.151</td>\n",
              "      <td>0.088</td>\n",
              "      <td>0.761</td>\n",
              "      <td>1</td>\n",
              "      <td>POSITIVE</td>\n",
              "    </tr>\n",
              "    <tr>\n",
              "      <th>3</th>\n",
              "      <td>B000UA0QIQ</td>\n",
              "      <td>A395BORC6FGVXV</td>\n",
              "      <td>Karl</td>\n",
              "      <td>2</td>\n",
              "      <td>cough medicineif you are looking for the secre...</td>\n",
              "      <td>2011-06-13</td>\n",
              "      <td>2011</td>\n",
              "      <td>6</td>\n",
              "      <td>0.000</td>\n",
              "      <td>0.000</td>\n",
              "      <td>1.000</td>\n",
              "      <td>0</td>\n",
              "      <td>NEGATIVE</td>\n",
              "    </tr>\n",
              "    <tr>\n",
              "      <th>4</th>\n",
              "      <td>B006K2ZZ7K</td>\n",
              "      <td>A1UQRSCLF8GW1T</td>\n",
              "      <td>Michael D. Bigham \"M. Wassir\"</td>\n",
              "      <td>5</td>\n",
              "      <td>great taffygreat taffy at a great price  there...</td>\n",
              "      <td>2012-10-21</td>\n",
              "      <td>2012</td>\n",
              "      <td>10</td>\n",
              "      <td>0.435</td>\n",
              "      <td>0.000</td>\n",
              "      <td>0.565</td>\n",
              "      <td>1</td>\n",
              "      <td>POSITIVE</td>\n",
              "    </tr>\n",
              "  </tbody>\n",
              "</table>\n",
              "</div>\n",
              "      <button class=\"colab-df-convert\" onclick=\"convertToInteractive('df-15763990-5fa4-41e8-add9-6fb858403624')\"\n",
              "              title=\"Convert this dataframe to an interactive table.\"\n",
              "              style=\"display:none;\">\n",
              "        \n",
              "  <svg xmlns=\"http://www.w3.org/2000/svg\" height=\"24px\"viewBox=\"0 0 24 24\"\n",
              "       width=\"24px\">\n",
              "    <path d=\"M0 0h24v24H0V0z\" fill=\"none\"/>\n",
              "    <path d=\"M18.56 5.44l.94 2.06.94-2.06 2.06-.94-2.06-.94-.94-2.06-.94 2.06-2.06.94zm-11 1L8.5 8.5l.94-2.06 2.06-.94-2.06-.94L8.5 2.5l-.94 2.06-2.06.94zm10 10l.94 2.06.94-2.06 2.06-.94-2.06-.94-.94-2.06-.94 2.06-2.06.94z\"/><path d=\"M17.41 7.96l-1.37-1.37c-.4-.4-.92-.59-1.43-.59-.52 0-1.04.2-1.43.59L10.3 9.45l-7.72 7.72c-.78.78-.78 2.05 0 2.83L4 21.41c.39.39.9.59 1.41.59.51 0 1.02-.2 1.41-.59l7.78-7.78 2.81-2.81c.8-.78.8-2.07 0-2.86zM5.41 20L4 18.59l7.72-7.72 1.47 1.35L5.41 20z\"/>\n",
              "  </svg>\n",
              "      </button>\n",
              "      \n",
              "  <style>\n",
              "    .colab-df-container {\n",
              "      display:flex;\n",
              "      flex-wrap:wrap;\n",
              "      gap: 12px;\n",
              "    }\n",
              "\n",
              "    .colab-df-convert {\n",
              "      background-color: #E8F0FE;\n",
              "      border: none;\n",
              "      border-radius: 50%;\n",
              "      cursor: pointer;\n",
              "      display: none;\n",
              "      fill: #1967D2;\n",
              "      height: 32px;\n",
              "      padding: 0 0 0 0;\n",
              "      width: 32px;\n",
              "    }\n",
              "\n",
              "    .colab-df-convert:hover {\n",
              "      background-color: #E2EBFA;\n",
              "      box-shadow: 0px 1px 2px rgba(60, 64, 67, 0.3), 0px 1px 3px 1px rgba(60, 64, 67, 0.15);\n",
              "      fill: #174EA6;\n",
              "    }\n",
              "\n",
              "    [theme=dark] .colab-df-convert {\n",
              "      background-color: #3B4455;\n",
              "      fill: #D2E3FC;\n",
              "    }\n",
              "\n",
              "    [theme=dark] .colab-df-convert:hover {\n",
              "      background-color: #434B5C;\n",
              "      box-shadow: 0px 1px 3px 1px rgba(0, 0, 0, 0.15);\n",
              "      filter: drop-shadow(0px 1px 2px rgba(0, 0, 0, 0.3));\n",
              "      fill: #FFFFFF;\n",
              "    }\n",
              "  </style>\n",
              "\n",
              "      <script>\n",
              "        const buttonEl =\n",
              "          document.querySelector('#df-15763990-5fa4-41e8-add9-6fb858403624 button.colab-df-convert');\n",
              "        buttonEl.style.display =\n",
              "          google.colab.kernel.accessAllowed ? 'block' : 'none';\n",
              "\n",
              "        async function convertToInteractive(key) {\n",
              "          const element = document.querySelector('#df-15763990-5fa4-41e8-add9-6fb858403624');\n",
              "          const dataTable =\n",
              "            await google.colab.kernel.invokeFunction('convertToInteractive',\n",
              "                                                     [key], {});\n",
              "          if (!dataTable) return;\n",
              "\n",
              "          const docLinkHtml = 'Like what you see? Visit the ' +\n",
              "            '<a target=\"_blank\" href=https://colab.research.google.com/notebooks/data_table.ipynb>data table notebook</a>'\n",
              "            + ' to learn more about interactive tables.';\n",
              "          element.innerHTML = '';\n",
              "          dataTable['output_type'] = 'display_data';\n",
              "          await google.colab.output.renderOutput(dataTable, element);\n",
              "          const docLink = document.createElement('div');\n",
              "          docLink.innerHTML = docLinkHtml;\n",
              "          element.appendChild(docLink);\n",
              "        }\n",
              "      </script>\n",
              "    </div>\n",
              "  </div>\n",
              "  "
            ]
          },
          "metadata": {},
          "execution_count": 29
        }
      ],
      "source": [
        "clean_review[\"Customer Reviews\"]=clean_review[\"Customer Reviews\"].apply(lambda x:review_cleaning(x))\n",
        "clean_review.head()"
      ]
    },
    {
      "cell_type": "markdown",
      "metadata": {
        "id": "h9a47lFEnutq"
      },
      "source": [
        "#3.3. Year VS Sentiment insights"
      ]
    },
    {
      "cell_type": "code",
      "execution_count": 30,
      "metadata": {
        "id": "GyhTsDC5oAES",
        "colab": {
          "base_uri": "https://localhost:8080/",
          "height": 302
        },
        "outputId": "84a9f5ca-fc2e-484e-d5f3-4313305d80b6"
      },
      "outputs": [
        {
          "output_type": "display_data",
          "data": {
            "text/plain": [
              "<Figure size 432x288 with 1 Axes>"
            ],
            "image/png": "[encoded data removed]"
          },
          "metadata": {
            "needs_background": "light"
          }
        }
      ],
      "source": [
        "clean_review.groupby(['Year','sentiment'])['sentiment'].count().unstack().plot(legend=True)\n",
        "plt.title('Year and Sentiment count')\n",
        "plt.xlabel('Year')\n",
        "plt.ylabel('Sentiment Count')\n",
        "plt.show()"
      ]
    },
    {
      "cell_type": "markdown",
      "metadata": {
        "id": "5-ypx8K9obeB"
      },
      "source": [
        "#Observation : From the plot we can clearly see the rise in positive reviews from 2010. Reaching its peak around 2012 ,Negative and neutral reviews are very low as compared to the positive reviews. "
      ]
    },
    {
      "cell_type": "markdown",
      "metadata": {
        "id": "yciF3bSyo2lB"
      },
      "source": [
        "#3.4. Month VS Sentiment insights"
      ]
    },
    {
      "cell_type": "code",
      "execution_count": 31,
      "metadata": {
        "id": "ysDEwtspo-Cm",
        "colab": {
          "base_uri": "https://localhost:8080/",
          "height": 302
        },
        "outputId": "b4f362fd-3606-4a27-d71a-738be52f6974"
      },
      "outputs": [
        {
          "output_type": "display_data",
          "data": {
            "text/plain": [
              "<Figure size 432x288 with 1 Axes>"
            ],
            "image/png": "[encoded data removed]"
          },
          "metadata": {
            "needs_background": "light"
          }
        }
      ],
      "source": [
        "#Creating a dataframe\n",
        "day=pd.DataFrame(clean_review.groupby('Month')['Customer Reviews'].count()).reset_index()\n",
        "day['Month']=day['Month'].astype('int64')\n",
        "day.sort_values(by=['Month'])\n",
        "\n",
        "#Plotting the graph\n",
        "sns.barplot(x=\"Month\", y=\"Customer Reviews\", data=day)\n",
        "plt.title('Month vs Reviews count')\n",
        "plt.xlabel('Month')\n",
        "plt.ylabel('Reviews count')\n",
        "plt.show()"
      ]
    },
    {
      "cell_type": "markdown",
      "metadata": {
        "id": "8_dGnmYxr3Tm"
      },
      "source": [
        "# The customer review counts are more or less uniformly distributed.There isn't much variance between the days. But there is a drop at the end of month. "
      ]
    },
    {
      "cell_type": "markdown",
      "metadata": {
        "id": "5coAmrCOtHqr"
      },
      "source": [
        "# Step 3.5.Let's add few more features to get better insights\n",
        "\n",
        "Polarity: Have used Textblob for for figuring out the rate of sentiment . It is between [-1,1] where -1 is negative and 1 is positive polarity\n",
        "\n",
        "Review length: length of the review which includes each letters and spaces\n",
        "\n",
        "Word length: This measures how many words are there in review"
      ]
    },
    {
      "cell_type": "code",
      "execution_count": 32,
      "metadata": {
        "id": "z_NEsYlEtPyK",
        "colab": {
          "base_uri": "https://localhost:8080/",
          "height": 513
        },
        "outputId": "829f9a5e-1919-4b19-9abc-3156e79529bf"
      },
      "outputs": [
        {
          "output_type": "execute_result",
          "data": {
            "text/plain": [
              "    ProductId          UserId                      ProfileName  Score  \\\n",
              "0  B001E4KFG0  A3SGXH7AUHU8GW                       delmartian      5   \n",
              "1  B00813GRG4  A1D87F6ZCVE5NK                           dll pa      1   \n",
              "2  B000LQOCH0   ABXLMWJIXXAIN  Natalia Corres \"Natalia Corres\"      4   \n",
              "3  B000UA0QIQ  A395BORC6FGVXV                             Karl      2   \n",
              "4  B006K2ZZ7K  A1UQRSCLF8GW1T    Michael D. Bigham \"M. Wassir\"      5   \n",
              "\n",
              "                                    Customer Reviews Review date  Year  Month  \\\n",
              "0  good quality dog foodi have bought several of ...  2011-04-27  2011      4   \n",
              "1  not as advertisedproduct arrived labeled as ju...  2012-09-07  2012      9   \n",
              "2  delight says it allthis is a confection that h...  2008-08-18  2008      8   \n",
              "3  cough medicineif you are looking for the secre...  2011-06-13  2011      6   \n",
              "4  great taffygreat taffy at a great price  there...  2012-10-21  2012     10   \n",
              "\n",
              "   Positive  Negative  Neutral  sentiment_score sentiment  polarity  \\\n",
              "0     0.323     0.000    0.677                1  POSITIVE  0.485714   \n",
              "1     0.000     0.131    0.869                0  NEGATIVE -0.033333   \n",
              "2     0.151     0.088    0.761                1  POSITIVE  0.133571   \n",
              "3     0.000     0.000    1.000                0  NEGATIVE  0.166667   \n",
              "4     0.435     0.000    0.565                1  POSITIVE  0.483333   \n",
              "\n",
              "   review_len  word_count  \n",
              "0         281          51  \n",
              "1         200          33  \n",
              "2         510          95  \n",
              "3         228          42  \n",
              "4         146          28  "
            ],
            "text/html": [
              "\n",
              "  <div id=\"df-7b5adcc7-f69f-4f8c-9717-eb5ff76ac55c\">\n",
              "    <div class=\"colab-df-container\">\n",
              "      <div>\n",
              "<style scoped>\n",
              "    .dataframe tbody tr th:only-of-type {\n",
              "        vertical-align: middle;\n",
              "    }\n",
              "\n",
              "    .dataframe tbody tr th {\n",
              "        vertical-align: top;\n",
              "    }\n",
              "\n",
              "    .dataframe thead th {\n",
              "        text-align: right;\n",
              "    }\n",
              "</style>\n",
              "<table border=\"1\" class=\"dataframe\">\n",
              "  <thead>\n",
              "    <tr style=\"text-align: right;\">\n",
              "      <th></th>\n",
              "      <th>ProductId</th>\n",
              "      <th>UserId</th>\n",
              "      <th>ProfileName</th>\n",
              "      <th>Score</th>\n",
              "      <th>Customer Reviews</th>\n",
              "      <th>Review date</th>\n",
              "      <th>Year</th>\n",
              "      <th>Month</th>\n",
              "      <th>Positive</th>\n",
              "      <th>Negative</th>\n",
              "      <th>Neutral</th>\n",
              "      <th>sentiment_score</th>\n",
              "      <th>sentiment</th>\n",
              "      <th>polarity</th>\n",
              "      <th>review_len</th>\n",
              "      <th>word_count</th>\n",
              "    </tr>\n",
              "  </thead>\n",
              "  <tbody>\n",
              "    <tr>\n",
              "      <th>0</th>\n",
              "      <td>B001E4KFG0</td>\n",
              "      <td>A3SGXH7AUHU8GW</td>\n",
              "      <td>delmartian</td>\n",
              "      <td>5</td>\n",
              "      <td>good quality dog foodi have bought several of ...</td>\n",
              "      <td>2011-04-27</td>\n",
              "      <td>2011</td>\n",
              "      <td>4</td>\n",
              "      <td>0.323</td>\n",
              "      <td>0.000</td>\n",
              "      <td>0.677</td>\n",
              "      <td>1</td>\n",
              "      <td>POSITIVE</td>\n",
              "      <td>0.485714</td>\n",
              "      <td>281</td>\n",
              "      <td>51</td>\n",
              "    </tr>\n",
              "    <tr>\n",
              "      <th>1</th>\n",
              "      <td>B00813GRG4</td>\n",
              "      <td>A1D87F6ZCVE5NK</td>\n",
              "      <td>dll pa</td>\n",
              "      <td>1</td>\n",
              "      <td>not as advertisedproduct arrived labeled as ju...</td>\n",
              "      <td>2012-09-07</td>\n",
              "      <td>2012</td>\n",
              "      <td>9</td>\n",
              "      <td>0.000</td>\n",
              "      <td>0.131</td>\n",
              "      <td>0.869</td>\n",
              "      <td>0</td>\n",
              "      <td>NEGATIVE</td>\n",
              "      <td>-0.033333</td>\n",
              "      <td>200</td>\n",
              "      <td>33</td>\n",
              "    </tr>\n",
              "    <tr>\n",
              "      <th>2</th>\n",
              "      <td>B000LQOCH0</td>\n",
              "      <td>ABXLMWJIXXAIN</td>\n",
              "      <td>Natalia Corres \"Natalia Corres\"</td>\n",
              "      <td>4</td>\n",
              "      <td>delight says it allthis is a confection that h...</td>\n",
              "      <td>2008-08-18</td>\n",
              "      <td>2008</td>\n",
              "      <td>8</td>\n",
              "      <td>0.151</td>\n",
              "      <td>0.088</td>\n",
              "      <td>0.761</td>\n",
              "      <td>1</td>\n",
              "      <td>POSITIVE</td>\n",
              "      <td>0.133571</td>\n",
              "      <td>510</td>\n",
              "      <td>95</td>\n",
              "    </tr>\n",
              "    <tr>\n",
              "      <th>3</th>\n",
              "      <td>B000UA0QIQ</td>\n",
              "      <td>A395BORC6FGVXV</td>\n",
              "      <td>Karl</td>\n",
              "      <td>2</td>\n",
              "      <td>cough medicineif you are looking for the secre...</td>\n",
              "      <td>2011-06-13</td>\n",
              "      <td>2011</td>\n",
              "      <td>6</td>\n",
              "      <td>0.000</td>\n",
              "      <td>0.000</td>\n",
              "      <td>1.000</td>\n",
              "      <td>0</td>\n",
              "      <td>NEGATIVE</td>\n",
              "      <td>0.166667</td>\n",
              "      <td>228</td>\n",
              "      <td>42</td>\n",
              "    </tr>\n",
              "    <tr>\n",
              "      <th>4</th>\n",
              "      <td>B006K2ZZ7K</td>\n",
              "      <td>A1UQRSCLF8GW1T</td>\n",
              "      <td>Michael D. Bigham \"M. Wassir\"</td>\n",
              "      <td>5</td>\n",
              "      <td>great taffygreat taffy at a great price  there...</td>\n",
              "      <td>2012-10-21</td>\n",
              "      <td>2012</td>\n",
              "      <td>10</td>\n",
              "      <td>0.435</td>\n",
              "      <td>0.000</td>\n",
              "      <td>0.565</td>\n",
              "      <td>1</td>\n",
              "      <td>POSITIVE</td>\n",
              "      <td>0.483333</td>\n",
              "      <td>146</td>\n",
              "      <td>28</td>\n",
              "    </tr>\n",
              "  </tbody>\n",
              "</table>\n",
              "</div>\n",
              "      <button class=\"colab-df-convert\" onclick=\"convertToInteractive('df-7b5adcc7-f69f-4f8c-9717-eb5ff76ac55c')\"\n",
              "              title=\"Convert this dataframe to an interactive table.\"\n",
              "              style=\"display:none;\">\n",
              "        \n",
              "  <svg xmlns=\"http://www.w3.org/2000/svg\" height=\"24px\"viewBox=\"0 0 24 24\"\n",
              "       width=\"24px\">\n",
              "    <path d=\"M0 0h24v24H0V0z\" fill=\"none\"/>\n",
              "    <path d=\"M18.56 5.44l.94 2.06.94-2.06 2.06-.94-2.06-.94-.94-2.06-.94 2.06-2.06.94zm-11 1L8.5 8.5l.94-2.06 2.06-.94-2.06-.94L8.5 2.5l-.94 2.06-2.06.94zm10 10l.94 2.06.94-2.06 2.06-.94-2.06-.94-.94-2.06-.94 2.06-2.06.94z\"/><path d=\"M17.41 7.96l-1.37-1.37c-.4-.4-.92-.59-1.43-.59-.52 0-1.04.2-1.43.59L10.3 9.45l-7.72 7.72c-.78.78-.78 2.05 0 2.83L4 21.41c.39.39.9.59 1.41.59.51 0 1.02-.2 1.41-.59l7.78-7.78 2.81-2.81c.8-.78.8-2.07 0-2.86zM5.41 20L4 18.59l7.72-7.72 1.47 1.35L5.41 20z\"/>\n",
              "  </svg>\n",
              "      </button>\n",
              "      \n",
              "  <style>\n",
              "    .colab-df-container {\n",
              "      display:flex;\n",
              "      flex-wrap:wrap;\n",
              "      gap: 12px;\n",
              "    }\n",
              "\n",
              "    .colab-df-convert {\n",
              "      background-color: #E8F0FE;\n",
              "      border: none;\n",
              "      border-radius: 50%;\n",
              "      cursor: pointer;\n",
              "      display: none;\n",
              "      fill: #1967D2;\n",
              "      height: 32px;\n",
              "      padding: 0 0 0 0;\n",
              "      width: 32px;\n",
              "    }\n",
              "\n",
              "    .colab-df-convert:hover {\n",
              "      background-color: #E2EBFA;\n",
              "      box-shadow: 0px 1px 2px rgba(60, 64, 67, 0.3), 0px 1px 3px 1px rgba(60, 64, 67, 0.15);\n",
              "      fill: #174EA6;\n",
              "    }\n",
              "\n",
              "    [theme=dark] .colab-df-convert {\n",
              "      background-color: #3B4455;\n",
              "      fill: #D2E3FC;\n",
              "    }\n",
              "\n",
              "    [theme=dark] .colab-df-convert:hover {\n",
              "      background-color: #434B5C;\n",
              "      box-shadow: 0px 1px 3px 1px rgba(0, 0, 0, 0.15);\n",
              "      filter: drop-shadow(0px 1px 2px rgba(0, 0, 0, 0.3));\n",
              "      fill: #FFFFFF;\n",
              "    }\n",
              "  </style>\n",
              "\n",
              "      <script>\n",
              "        const buttonEl =\n",
              "          document.querySelector('#df-7b5adcc7-f69f-4f8c-9717-eb5ff76ac55c button.colab-df-convert');\n",
              "        buttonEl.style.display =\n",
              "          google.colab.kernel.accessAllowed ? 'block' : 'none';\n",
              "\n",
              "        async function convertToInteractive(key) {\n",
              "          const element = document.querySelector('#df-7b5adcc7-f69f-4f8c-9717-eb5ff76ac55c');\n",
              "          const dataTable =\n",
              "            await google.colab.kernel.invokeFunction('convertToInteractive',\n",
              "                                                     [key], {});\n",
              "          if (!dataTable) return;\n",
              "\n",
              "          const docLinkHtml = 'Like what you see? Visit the ' +\n",
              "            '<a target=\"_blank\" href=https://colab.research.google.com/notebooks/data_table.ipynb>data table notebook</a>'\n",
              "            + ' to learn more about interactive tables.';\n",
              "          element.innerHTML = '';\n",
              "          dataTable['output_type'] = 'display_data';\n",
              "          await google.colab.output.renderOutput(dataTable, element);\n",
              "          const docLink = document.createElement('div');\n",
              "          docLink.innerHTML = docLinkHtml;\n",
              "          element.appendChild(docLink);\n",
              "        }\n",
              "      </script>\n",
              "    </div>\n",
              "  </div>\n",
              "  "
            ]
          },
          "metadata": {},
          "execution_count": 32
        }
      ],
      "source": [
        "from textblob import TextBlob\n",
        "clean_review['polarity'] = clean_review['Customer Reviews'].map(lambda text: TextBlob(text).sentiment.polarity)\n",
        "clean_review['review_len'] = clean_review['Customer Reviews'].astype(str).apply(len)\n",
        "clean_review['word_count'] = clean_review['Customer Reviews'].apply(lambda x: len(str(x).split()))\n",
        "clean_review.head()"
      ]
    },
    {
      "cell_type": "code",
      "source": [
        "df2= clean_review[['Customer Reviews','review_len','polarity','word_count']]\n",
        "df2.head()"
      ],
      "metadata": {
        "colab": {
          "base_uri": "https://localhost:8080/",
          "height": 206
        },
        "id": "KzV366asX0pL",
        "outputId": "5984a6d2-786f-4c40-ff9f-e6fece18554b"
      },
      "execution_count": 35,
      "outputs": [
        {
          "output_type": "execute_result",
          "data": {
            "text/plain": [
              "                                    Customer Reviews  review_len  polarity  \\\n",
              "0  good quality dog foodi have bought several of ...         281  0.485714   \n",
              "1  not as advertisedproduct arrived labeled as ju...         200 -0.033333   \n",
              "2  delight says it allthis is a confection that h...         510  0.133571   \n",
              "3  cough medicineif you are looking for the secre...         228  0.166667   \n",
              "4  great taffygreat taffy at a great price  there...         146  0.483333   \n",
              "\n",
              "   word_count  \n",
              "0          51  \n",
              "1          33  \n",
              "2          95  \n",
              "3          42  \n",
              "4          28  "
            ],
            "text/html": [
              "\n",
              "  <div id=\"df-68c28b3a-2029-4c0b-869f-8faa00dd5c1e\">\n",
              "    <div class=\"colab-df-container\">\n",
              "      <div>\n",
              "<style scoped>\n",
              "    .dataframe tbody tr th:only-of-type {\n",
              "        vertical-align: middle;\n",
              "    }\n",
              "\n",
              "    .dataframe tbody tr th {\n",
              "        vertical-align: top;\n",
              "    }\n",
              "\n",
              "    .dataframe thead th {\n",
              "        text-align: right;\n",
              "    }\n",
              "</style>\n",
              "<table border=\"1\" class=\"dataframe\">\n",
              "  <thead>\n",
              "    <tr style=\"text-align: right;\">\n",
              "      <th></th>\n",
              "      <th>Customer Reviews</th>\n",
              "      <th>review_len</th>\n",
              "      <th>polarity</th>\n",
              "      <th>word_count</th>\n",
              "    </tr>\n",
              "  </thead>\n",
              "  <tbody>\n",
              "    <tr>\n",
              "      <th>0</th>\n",
              "      <td>good quality dog foodi have bought several of ...</td>\n",
              "      <td>281</td>\n",
              "      <td>0.485714</td>\n",
              "      <td>51</td>\n",
              "    </tr>\n",
              "    <tr>\n",
              "      <th>1</th>\n",
              "      <td>not as advertisedproduct arrived labeled as ju...</td>\n",
              "      <td>200</td>\n",
              "      <td>-0.033333</td>\n",
              "      <td>33</td>\n",
              "    </tr>\n",
              "    <tr>\n",
              "      <th>2</th>\n",
              "      <td>delight says it allthis is a confection that h...</td>\n",
              "      <td>510</td>\n",
              "      <td>0.133571</td>\n",
              "      <td>95</td>\n",
              "    </tr>\n",
              "    <tr>\n",
              "      <th>3</th>\n",
              "      <td>cough medicineif you are looking for the secre...</td>\n",
              "      <td>228</td>\n",
              "      <td>0.166667</td>\n",
              "      <td>42</td>\n",
              "    </tr>\n",
              "    <tr>\n",
              "      <th>4</th>\n",
              "      <td>great taffygreat taffy at a great price  there...</td>\n",
              "      <td>146</td>\n",
              "      <td>0.483333</td>\n",
              "      <td>28</td>\n",
              "    </tr>\n",
              "  </tbody>\n",
              "</table>\n",
              "</div>\n",
              "      <button class=\"colab-df-convert\" onclick=\"convertToInteractive('df-68c28b3a-2029-4c0b-869f-8faa00dd5c1e')\"\n",
              "              title=\"Convert this dataframe to an interactive table.\"\n",
              "              style=\"display:none;\">\n",
              "        \n",
              "  <svg xmlns=\"http://www.w3.org/2000/svg\" height=\"24px\"viewBox=\"0 0 24 24\"\n",
              "       width=\"24px\">\n",
              "    <path d=\"M0 0h24v24H0V0z\" fill=\"none\"/>\n",
              "    <path d=\"M18.56 5.44l.94 2.06.94-2.06 2.06-.94-2.06-.94-.94-2.06-.94 2.06-2.06.94zm-11 1L8.5 8.5l.94-2.06 2.06-.94-2.06-.94L8.5 2.5l-.94 2.06-2.06.94zm10 10l.94 2.06.94-2.06 2.06-.94-2.06-.94-.94-2.06-.94 2.06-2.06.94z\"/><path d=\"M17.41 7.96l-1.37-1.37c-.4-.4-.92-.59-1.43-.59-.52 0-1.04.2-1.43.59L10.3 9.45l-7.72 7.72c-.78.78-.78 2.05 0 2.83L4 21.41c.39.39.9.59 1.41.59.51 0 1.02-.2 1.41-.59l7.78-7.78 2.81-2.81c.8-.78.8-2.07 0-2.86zM5.41 20L4 18.59l7.72-7.72 1.47 1.35L5.41 20z\"/>\n",
              "  </svg>\n",
              "      </button>\n",
              "      \n",
              "  <style>\n",
              "    .colab-df-container {\n",
              "      display:flex;\n",
              "      flex-wrap:wrap;\n",
              "      gap: 12px;\n",
              "    }\n",
              "\n",
              "    .colab-df-convert {\n",
              "      background-color: #E8F0FE;\n",
              "      border: none;\n",
              "      border-radius: 50%;\n",
              "      cursor: pointer;\n",
              "      display: none;\n",
              "      fill: #1967D2;\n",
              "      height: 32px;\n",
              "      padding: 0 0 0 0;\n",
              "      width: 32px;\n",
              "    }\n",
              "\n",
              "    .colab-df-convert:hover {\n",
              "      background-color: #E2EBFA;\n",
              "      box-shadow: 0px 1px 2px rgba(60, 64, 67, 0.3), 0px 1px 3px 1px rgba(60, 64, 67, 0.15);\n",
              "      fill: #174EA6;\n",
              "    }\n",
              "\n",
              "    [theme=dark] .colab-df-convert {\n",
              "      background-color: #3B4455;\n",
              "      fill: #D2E3FC;\n",
              "    }\n",
              "\n",
              "    [theme=dark] .colab-df-convert:hover {\n",
              "      background-color: #434B5C;\n",
              "      box-shadow: 0px 1px 3px 1px rgba(0, 0, 0, 0.15);\n",
              "      filter: drop-shadow(0px 1px 2px rgba(0, 0, 0, 0.3));\n",
              "      fill: #FFFFFF;\n",
              "    }\n",
              "  </style>\n",
              "\n",
              "      <script>\n",
              "        const buttonEl =\n",
              "          document.querySelector('#df-68c28b3a-2029-4c0b-869f-8faa00dd5c1e button.colab-df-convert');\n",
              "        buttonEl.style.display =\n",
              "          google.colab.kernel.accessAllowed ? 'block' : 'none';\n",
              "\n",
              "        async function convertToInteractive(key) {\n",
              "          const element = document.querySelector('#df-68c28b3a-2029-4c0b-869f-8faa00dd5c1e');\n",
              "          const dataTable =\n",
              "            await google.colab.kernel.invokeFunction('convertToInteractive',\n",
              "                                                     [key], {});\n",
              "          if (!dataTable) return;\n",
              "\n",
              "          const docLinkHtml = 'Like what you see? Visit the ' +\n",
              "            '<a target=\"_blank\" href=https://colab.research.google.com/notebooks/data_table.ipynb>data table notebook</a>'\n",
              "            + ' to learn more about interactive tables.';\n",
              "          element.innerHTML = '';\n",
              "          dataTable['output_type'] = 'display_data';\n",
              "          await google.colab.output.renderOutput(dataTable, element);\n",
              "          const docLink = document.createElement('div');\n",
              "          docLink.innerHTML = docLinkHtml;\n",
              "          element.appendChild(docLink);\n",
              "        }\n",
              "      </script>\n",
              "    </div>\n",
              "  </div>\n",
              "  "
            ]
          },
          "metadata": {},
          "execution_count": 35
        }
      ]
    },
    {
      "cell_type": "markdown",
      "metadata": {
        "id": "FARB-tqNvXuA"
      },
      "source": [
        "# Step .3.6.Sentiment polarity distribution\n",
        "**Let's look at our polarity distribution**"
      ]
    },
    {
      "cell_type": "code",
      "execution_count": 36,
      "metadata": {
        "id": "oaKeJdu6wbbU",
        "colab": {
          "base_uri": "https://localhost:8080/",
          "height": 17
        },
        "outputId": "146e33c7-f454-482f-bc42-875657aed932"
      },
      "outputs": [
        {
          "output_type": "display_data",
          "data": {
            "text/html": [
              "        <script type=\"text/javascript\">\n",
              "        window.PlotlyConfig = {MathJaxConfig: 'local'};\n",
              "        if (window.MathJax) {MathJax.Hub.Config({SVG: {font: \"STIX-Web\"}});}\n",
              "        if (typeof require !== 'undefined') {\n",
              "        require.undef(\"plotly\");\n",
              "        requirejs.config({\n",
              "            paths: {\n",
              "                'plotly': ['https://cdn.plot.ly/plotly-2.8.3.min']\n",
              "            }\n",
              "        });\n",
              "        require(['plotly'], function(Plotly) {\n",
              "            window._Plotly = Plotly;\n",
              "        });\n",
              "        }\n",
              "        </script>\n",
              "        "
            ]
          },
          "metadata": {}
        }
      ],
      "source": [
        "#!pip install statsmodels --upgrade\n",
        "import cufflinks as cf\n",
        "cf.go_offline()\n",
        "cf.set_config_file(offline=False, world_readable=True)"
      ]
    },
    {
      "cell_type": "markdown",
      "metadata": {
        "id": "EN-VZMSq2ZyE"
      },
      "source": [
        "#Step : 3.6.1.Polarity Distribution  [It is between [-1,1] where -1 is negative and 1 is positive polarity]"
      ]
    },
    {
      "cell_type": "code",
      "execution_count": 37,
      "metadata": {
        "id": "6HyLUoQf1oWC",
        "colab": {
          "base_uri": "https://localhost:8080/",
          "height": 285
        },
        "outputId": "418003e5-dae4-44d5-c864-3469ff9f8945"
      },
      "outputs": [
        {
          "output_type": "display_data",
          "data": {
            "text/plain": [
              "<Figure size 432x288 with 1 Axes>"
            ],
            "image/png": "[encoded data removed]"
          },
          "metadata": {
            "needs_background": "light"
          }
        }
      ],
      "source": [
        "clean_review.hist(column='polarity',bins=200);"
      ]
    },
    {
      "cell_type": "markdown",
      "metadata": {
        "id": "QEydxH1h28pE"
      },
      "source": [
        "# Observation : \n",
        "1.Have a lot of positive polarities compared to the negative polarities\n",
        "2.This polarity distributions assures the number of positive reviews we had\n",
        "3.I can say that this polarity is a normally distributed but not standard normal"
      ]
    },
    {
      "cell_type": "markdown",
      "metadata": {
        "id": "qk2av25P3ltU"
      },
      "source": [
        "#Step : 3.6.2 Review Text Length Distribution"
      ]
    },
    {
      "cell_type": "markdown",
      "metadata": {
        "id": "UlbneeJRNkWk"
      },
      "source": [
        "# This is distribution where length of the review which includes each letters and spaces."
      ]
    },
    {
      "cell_type": "code",
      "execution_count": 38,
      "metadata": {
        "id": "zoj2SYkm30nc",
        "colab": {
          "base_uri": "https://localhost:8080/",
          "height": 285
        },
        "outputId": "c06e610a-0049-4465-c952-0a0c3e998106"
      },
      "outputs": [
        {
          "output_type": "display_data",
          "data": {
            "text/plain": [
              "<Figure size 432x288 with 1 Axes>"
            ],
            "image/png": "[encoded data removed]"
          },
          "metadata": {
            "needs_background": "light"
          }
        }
      ],
      "source": [
        "clean_review.hist(column='review_len',bins=200);"
      ]
    },
    {
      "cell_type": "markdown",
      "metadata": {
        "id": "F8wq5QsIN0k4"
      },
      "source": [
        "# From the above plot , sound like it has right skewed distribution where most of the lengths falls between 0-2000"
      ]
    },
    {
      "cell_type": "markdown",
      "metadata": {
        "id": "L3C_wStWNqsE"
      },
      "source": [
        "#Step 3.26.3 Review Text Word Count Distribution\n",
        "Let's check out the word count of review text"
      ]
    },
    {
      "cell_type": "code",
      "execution_count": 39,
      "metadata": {
        "id": "qHzLbhjZN_OY",
        "colab": {
          "base_uri": "https://localhost:8080/",
          "height": 285
        },
        "outputId": "2680bcfc-2e3d-48d5-f476-498d0118c400"
      },
      "outputs": [
        {
          "output_type": "display_data",
          "data": {
            "text/plain": [
              "<Figure size 432x288 with 1 Axes>"
            ],
            "image/png": "[encoded data removed]"
          },
          "metadata": {
            "needs_background": "light"
          }
        }
      ],
      "source": [
        "clean_review.hist(column='word_count',bins=200);"
      ]
    },
    {
      "cell_type": "markdown",
      "metadata": {
        "id": "iucODhOXOWcM"
      },
      "source": [
        "# From the above plot , sound like right skewed distribution with most of the words falling between 0-300 in a a review"
      ]
    },
    {
      "cell_type": "markdown",
      "metadata": {
        "id": "7YWWjBKLT17i"
      },
      "source": [
        "# Step : 4 N-gram analysis - it is being used to analyse the text, based on it's sentiment"
      ]
    },
    {
      "cell_type": "markdown",
      "metadata": {
        "id": "jXI03jxZUCmW"
      },
      "source": [
        "#Step 4.1 - Monogram analysis - Let's plot most frequent one word in reviews based on sentiments\n"
      ]
    },
    {
      "cell_type": "code",
      "execution_count": 40,
      "metadata": {
        "id": "r_JstU7qVmdH"
      },
      "outputs": [],
      "source": [
        "from wordcloud import WordCloud,STOPWORDS\n",
        "from plotly import tools\n",
        "from plotly.offline import iplot\n",
        "%matplotlib inline\n",
        "import plotly.graph_objs as go\n",
        "\n",
        "#Ignore warnings\n",
        "import warnings\n",
        "warnings.filterwarnings('ignore')\n",
        "\n",
        "\n",
        "#Other miscellaneous libraries\n",
        "from scipy import interp\n",
        "from itertools import cycle\n",
        "import cufflinks as cf\n",
        "from collections import defaultdict\n",
        "from collections import Counter\n",
        "from imblearn.over_sampling import SMOTE\n",
        "\n",
        "## custom function for ngram generation ##\n",
        "def generate_ngrams(text, n_gram=1):\n",
        "    token = [token for token in text.lower().split(\" \") if token != \"\" if token not in STOPWORDS]\n",
        "    ngrams = zip(*[token[i:] for i in range(n_gram)])\n",
        "    return [\" \".join(ngram) for ngram in ngrams]\n"
      ]
    },
    {
      "cell_type": "code",
      "execution_count": 41,
      "metadata": {
        "id": "30DSX5_6XD3s"
      },
      "outputs": [],
      "source": [
        "#Filtering data\n",
        "review_pos = clean_review[clean_review[\"sentiment\"]=='POSITIVE'].dropna()\n",
        "review_neu = clean_review[clean_review[\"sentiment\"]=='NEUTRAL'].dropna()\n",
        "review_neg = clean_review[clean_review[\"sentiment\"]=='NEGATIVE'].dropna()\n"
      ]
    },
    {
      "cell_type": "markdown",
      "metadata": {
        "id": "5_vWOiHYVl89"
      },
      "source": [
        "# Step : 4.1.1.Frequent words of positive reviews"
      ]
    },
    {
      "cell_type": "code",
      "execution_count": 42,
      "metadata": {
        "id": "ZfD2a0sX4TyD",
        "colab": {
          "base_uri": "https://localhost:8080/",
          "height": 343
        },
        "outputId": "9f0fd5d7-43a0-4d54-dd8c-1f6d7f08158d"
      },
      "outputs": [
        {
          "output_type": "execute_result",
          "data": {
            "text/plain": [
              "Text(0, 0.5, 'word_count')"
            ]
          },
          "metadata": {},
          "execution_count": 42
        },
        {
          "output_type": "display_data",
          "data": {
            "text/plain": [
              "<Figure size 432x288 with 1 Axes>"
            ],
            "image/png": "[encoded data removed]"
          },
          "metadata": {
            "needs_background": "light"
          }
        }
      ],
      "source": [
        "## Get the bar chart from positive reviews ##\n",
        "freq_dict = defaultdict(int)\n",
        "for sent in review_pos[\"Customer Reviews\"]:\n",
        "    for word in generate_ngrams(sent):\n",
        "        freq_dict[word] += 1\n",
        "fd_sorted = pd.DataFrame(sorted(freq_dict.items(), key=lambda x: x[1])[::-1])\n",
        "fd_sorted.columns = [\"Customer Reviews\", \"word_count\"]\n",
        "#print(fd_sorted.head(25))\n",
        "fd_sorted.head(25).plot(x=\"Customer Reviews\", y=\"word_count\",kind=\"bar\")\n",
        "plt.title(\"Monogram - Top 25 Frequent words of positive reviews\")\n",
        "plt.xlabel(\"Customer Reviews word\")\n",
        "plt.ylabel(\"word_count\")\n"
      ]
    },
    {
      "cell_type": "markdown",
      "metadata": {
        "id": "USg9ANyzbMTo"
      },
      "source": [
        "# Step : 4.1.2.Frequent words of negative  reviews"
      ]
    },
    {
      "cell_type": "code",
      "execution_count": 43,
      "metadata": {
        "id": "fW7t3QbpbTHJ",
        "colab": {
          "base_uri": "https://localhost:8080/",
          "height": 343
        },
        "outputId": "770d86f2-d7c6-4dc9-a7da-514d379915be"
      },
      "outputs": [
        {
          "output_type": "execute_result",
          "data": {
            "text/plain": [
              "Text(0, 0.5, 'word_count')"
            ]
          },
          "metadata": {},
          "execution_count": 43
        },
        {
          "output_type": "display_data",
          "data": {
            "text/plain": [
              "<Figure size 432x288 with 1 Axes>"
            ],
            "image/png": "[encoded data removed]"
          },
          "metadata": {
            "needs_background": "light"
          }
        }
      ],
      "source": [
        "## Get the bar chart from negative reviews ##\n",
        "freq_dict = defaultdict(int)\n",
        "for sent in review_neg[\"Customer Reviews\"]:\n",
        "    for word in generate_ngrams(sent):\n",
        "        freq_dict[word] += 1\n",
        "fd_sorted = pd.DataFrame(sorted(freq_dict.items(), key=lambda x: x[1])[::-1])\n",
        "fd_sorted.columns = [\"Customer Reviews\", \"word_count\"]\n",
        "#print(fd_sorted.head(25))\n",
        "fd_sorted.head(25).plot(x=\"Customer Reviews\", y=\"word_count\",kind=\"bar\")\n",
        "plt.title(\"Monogram -  Top 25 Top 25Frequent words of negative reviews\")\n",
        "plt.xlabel(\"Customer Reviews word\")\n",
        "plt.ylabel(\"word_count\")\n"
      ]
    },
    {
      "cell_type": "markdown",
      "metadata": {
        "id": "QS0k_nP3dyUx"
      },
      "source": [
        "#Step 4.2 - Bigram analysis - Let's plot most frequent two word in reviews based on sentiments\n"
      ]
    },
    {
      "cell_type": "markdown",
      "metadata": {
        "id": "zq33K5v0eDrA"
      },
      "source": [
        "# Step : 4.2.1.Frequent words of positive reviews"
      ]
    },
    {
      "cell_type": "code",
      "execution_count": 44,
      "metadata": {
        "id": "oqiflLbZeFVL",
        "colab": {
          "base_uri": "https://localhost:8080/",
          "height": 397
        },
        "outputId": "b62a1eca-d0fb-4e97-ef1a-9833434d484d"
      },
      "outputs": [
        {
          "output_type": "execute_result",
          "data": {
            "text/plain": [
              "Text(0, 0.5, 'word_count')"
            ]
          },
          "metadata": {},
          "execution_count": 44
        },
        {
          "output_type": "display_data",
          "data": {
            "text/plain": [
              "<Figure size 432x288 with 1 Axes>"
            ],
            "image/png": "[encoded data removed]"
          },
          "metadata": {
            "needs_background": "light"
          }
        }
      ],
      "source": [
        "## Get the bar chart from positive reviews ##\n",
        "freq_dict = defaultdict(int)\n",
        "for sent in review_pos[\"Customer Reviews\"]:\n",
        "    for word in generate_ngrams(sent,2):\n",
        "        freq_dict[word] += 1\n",
        "fd_sorted = pd.DataFrame(sorted(freq_dict.items(), key=lambda x: x[1])[::-1])\n",
        "fd_sorted.columns = [\"Customer Reviews\", \"word_count\"]\n",
        "#print(fd_sorted.head(25))\n",
        "fd_sorted.head(25).plot(x=\"Customer Reviews\", y=\"word_count\",kind=\"bar\")\n",
        "plt.title(\"Bigram -  Top 25 Frequent words of positive reviews\")\n",
        "plt.xlabel(\"Customer Reviews word\")\n",
        "plt.ylabel(\"word_count\")"
      ]
    },
    {
      "cell_type": "markdown",
      "metadata": {
        "id": "LMVunpPGfLmR"
      },
      "source": [
        "# Step : 4.2.2.Frequent words of negative reviews"
      ]
    },
    {
      "cell_type": "code",
      "execution_count": 45,
      "metadata": {
        "id": "1BkGTjvufSJH",
        "colab": {
          "base_uri": "https://localhost:8080/",
          "height": 379
        },
        "outputId": "0ec4e850-c82b-4f2e-b260-9df7098cf2e8"
      },
      "outputs": [
        {
          "output_type": "execute_result",
          "data": {
            "text/plain": [
              "Text(0, 0.5, 'word_count')"
            ]
          },
          "metadata": {},
          "execution_count": 45
        },
        {
          "output_type": "display_data",
          "data": {
            "text/plain": [
              "<Figure size 432x288 with 1 Axes>"
            ],
            "image/png": "[encoded data removed]"
          },
          "metadata": {
            "needs_background": "light"
          }
        }
      ],
      "source": [
        "## Get the bar chart from negative reviews ##\n",
        "freq_dict = defaultdict(int)\n",
        "for sent in review_neg[\"Customer Reviews\"]:\n",
        "    for word in generate_ngrams(sent,2):\n",
        "        freq_dict[word] += 1\n",
        "fd_sorted = pd.DataFrame(sorted(freq_dict.items(), key=lambda x: x[1])[::-1])\n",
        "fd_sorted.columns = [\"Customer Reviews\", \"word_count\"]\n",
        "#print(fd_sorted.head(25))\n",
        "fd_sorted.head(25).plot(x=\"Customer Reviews\", y=\"word_count\",kind=\"bar\")\n",
        "plt.title(\"Bigram -  Top 25 Frequent words of negative reviews\")\n",
        "plt.xlabel(\"Customer Reviews word\")\n",
        "plt.ylabel(\"word_count\")\n"
      ]
    },
    {
      "cell_type": "markdown",
      "metadata": {
        "id": "QJNpWlaQflip"
      },
      "source": [
        "#Step 4.3 - Trigram analysis - Let's plot most frequent three word in reviews based on sentiments\n"
      ]
    },
    {
      "cell_type": "markdown",
      "metadata": {
        "id": "LRoAUxg_ftYq"
      },
      "source": [
        "# Step : 4.3.1.Frequent words of positive reviews"
      ]
    },
    {
      "cell_type": "code",
      "execution_count": 46,
      "metadata": {
        "id": "CIadhSNnfu85",
        "colab": {
          "base_uri": "https://localhost:8080/",
          "height": 438
        },
        "outputId": "8fce3a13-da78-4428-dd18-4cb5cb20d00b"
      },
      "outputs": [
        {
          "output_type": "execute_result",
          "data": {
            "text/plain": [
              "Text(0, 0.5, 'word_count')"
            ]
          },
          "metadata": {},
          "execution_count": 46
        },
        {
          "output_type": "display_data",
          "data": {
            "text/plain": [
              "<Figure size 432x288 with 1 Axes>"
            ],
            "image/png": "[encoded data removed]"
          },
          "metadata": {
            "needs_background": "light"
          }
        }
      ],
      "source": [
        "## Get the bar chart from positive reviews ##\n",
        "freq_dict = defaultdict(int)\n",
        "for sent in review_pos[\"Customer Reviews\"]:\n",
        "    for word in generate_ngrams(sent,3):\n",
        "        freq_dict[word] += 1\n",
        "fd_sorted = pd.DataFrame(sorted(freq_dict.items(), key=lambda x: x[1])[::-1])\n",
        "fd_sorted.columns = [\"Customer Reviews\", \"word_count\"]\n",
        "#print(fd_sorted.head(25))\n",
        "fd_sorted.head(25).plot(x=\"Customer Reviews\", y=\"word_count\",kind=\"bar\")\n",
        "plt.title(\"Trigram -  Top 25 Frequent words of positive reviews\")\n",
        "plt.xlabel(\"Customer Reviews word\")\n",
        "plt.ylabel(\"word_count\")"
      ]
    },
    {
      "cell_type": "code",
      "execution_count": 47,
      "metadata": {
        "id": "MpX_T2kEb1XJ",
        "colab": {
          "base_uri": "https://localhost:8080/",
          "height": 957
        },
        "outputId": "46c2dd8d-6eca-473c-ca12-2cfa4c0332e1"
      },
      "outputs": [
        {
          "output_type": "stream",
          "name": "stdout",
          "text": [
            "Empty DataFrame\n",
            "Columns: [ProductId, UserId, ProfileName, Score, Customer Reviews, Review date, Year, Month, Positive, Negative, Neutral, sentiment_score, sentiment, polarity, review_len, word_count]\n",
            "Index: []\n",
            "                           0    1\n",
            "0             will never buy  673\n",
            "1           dont waste money  642\n",
            "2         high fructose corn  628\n",
            "3        local grocery store  618\n",
            "4        fructose corn syrup  552\n",
            "5              day cup total  398\n",
            "6              got bad batch  367\n",
            "7          health food store  281\n",
            "8               will go back  268\n",
            "9          doesnt taste good  268\n",
            "10          dont really care  266\n",
            "11           thought id give  258\n",
            "12          will never order  257\n",
            "13             two weeks ago  252\n",
            "14     first two ingredients  244\n",
            "15            thought id try  244\n",
            "16            dont think ill  233\n",
            "17           dont think will  231\n",
            "18              now im stuck  225\n",
            "19          corn gluten meal  223\n",
            "20           three times day  217\n",
            "21  ingredients science diet  216\n",
            "22       amount science diet  216\n",
            "23    chocolate chip cookies  215\n",
            "24         will eat anything  214\n"
          ]
        },
        {
          "output_type": "execute_result",
          "data": {
            "text/plain": [
              "Text(0, 0.5, 'word_count')"
            ]
          },
          "metadata": {},
          "execution_count": 47
        },
        {
          "output_type": "display_data",
          "data": {
            "text/plain": [
              "<Figure size 432x288 with 1 Axes>"
            ],
            "image/png": "[encoded data removed]"
          },
          "metadata": {
            "needs_background": "light"
          }
        }
      ],
      "source": [
        "## Get the bar chart from negative reviews ##\n",
        "print(review_neu.head(25))\n",
        "freq_dict = defaultdict(int)\n",
        "for sent in review_neg[\"Customer Reviews\"]:\n",
        "    for word in generate_ngrams(sent,3):\n",
        "        freq_dict[word] += 1\n",
        "fd_sorted = pd.DataFrame(sorted(freq_dict.items(), key=lambda x: x[1])[::-1])\n",
        "print(fd_sorted.head(25))\n",
        "fd_sorted.columns = [\"Customer Reviews\", \"word_count\"]\n",
        "\n",
        "fd_sorted.head(25).plot(x=\"Customer Reviews\", y=\"word_count\",kind=\"bar\")\n",
        "plt.title(\"Trigram -  Top 25 Frequent words of negative reviews\")\n",
        "plt.xlabel(\"Customer Reviews word\")\n",
        "plt.ylabel(\"word_count\")"
      ]
    },
    {
      "cell_type": "markdown",
      "metadata": {
        "id": "LTmGuGPLclPk"
      },
      "source": [
        "# Step:5.Customer Segmentation Using RFM Analysis"
      ]
    },
    {
      "cell_type": "code",
      "execution_count": 48,
      "metadata": {
        "id": "XyYkiZPriXJ6",
        "colab": {
          "base_uri": "https://localhost:8080/"
        },
        "outputId": "da7fb999-143a-4739-c3a7-ea7db7172a6f"
      },
      "outputs": [
        {
          "output_type": "stream",
          "name": "stdout",
          "text": [
            "The shape of the  data is (row, column):(568411, 13)\n"
          ]
        }
      ],
      "source": [
        "result = clean_review[~clean_review.UserId.str.startswith(('#oc-'))]\n",
        "print (\"The shape of the  data is (row, column):\"+ str(df.shape))"
      ]
    },
    {
      "cell_type": "code",
      "execution_count": 49,
      "metadata": {
        "id": "3_hb8FuyyEx0"
      },
      "outputs": [],
      "source": [
        "seg_map = {5: 'Champions',\n",
        "             4: 'Loyal Customers',\n",
        "             3: 'Need Attention',\n",
        "             2: 'At Risk',\n",
        "           1: 'About Leaving'}"
      ]
    },
    {
      "cell_type": "code",
      "execution_count": 50,
      "metadata": {
        "id": "4nRkRNjK1j7R",
        "colab": {
          "base_uri": "https://localhost:8080/",
          "height": 513
        },
        "outputId": "ca246f9b-dc05-45fe-9a0e-74ba1792298d"
      },
      "outputs": [
        {
          "output_type": "execute_result",
          "data": {
            "text/plain": [
              "    ProductId          UserId                      ProfileName  Score  \\\n",
              "0  B001E4KFG0  A3SGXH7AUHU8GW                       delmartian      5   \n",
              "1  B00813GRG4  A1D87F6ZCVE5NK                           dll pa      1   \n",
              "2  B000LQOCH0   ABXLMWJIXXAIN  Natalia Corres \"Natalia Corres\"      4   \n",
              "3  B000UA0QIQ  A395BORC6FGVXV                             Karl      2   \n",
              "4  B006K2ZZ7K  A1UQRSCLF8GW1T    Michael D. Bigham \"M. Wassir\"      5   \n",
              "\n",
              "                                    Customer Reviews Review date  Year  Month  \\\n",
              "0  good quality dog foodi have bought several of ...  2011-04-27  2011      4   \n",
              "1  not as advertisedproduct arrived labeled as ju...  2012-09-07  2012      9   \n",
              "2  delight says it allthis is a confection that h...  2008-08-18  2008      8   \n",
              "3  cough medicineif you are looking for the secre...  2011-06-13  2011      6   \n",
              "4  great taffygreat taffy at a great price  there...  2012-10-21  2012     10   \n",
              "\n",
              "   Positive  Negative  Neutral  sentiment_score sentiment  polarity  \\\n",
              "0     0.323     0.000    0.677                1  POSITIVE  0.485714   \n",
              "1     0.000     0.131    0.869                0  NEGATIVE -0.033333   \n",
              "2     0.151     0.088    0.761                1  POSITIVE  0.133571   \n",
              "3     0.000     0.000    1.000                0  NEGATIVE  0.166667   \n",
              "4     0.435     0.000    0.565                1  POSITIVE  0.483333   \n",
              "\n",
              "   review_len  word_count          Segment  \n",
              "0         281          51        Champions  \n",
              "1         200          33    About Leaving  \n",
              "2         510          95  Loyal Customers  \n",
              "3         228          42          At Risk  \n",
              "4         146          28        Champions  "
            ],
            "text/html": [
              "\n",
              "  <div id=\"df-514a2aa0-61d5-4aaa-a0e3-6866072fec04\">\n",
              "    <div class=\"colab-df-container\">\n",
              "      <div>\n",
              "<style scoped>\n",
              "    .dataframe tbody tr th:only-of-type {\n",
              "        vertical-align: middle;\n",
              "    }\n",
              "\n",
              "    .dataframe tbody tr th {\n",
              "        vertical-align: top;\n",
              "    }\n",
              "\n",
              "    .dataframe thead th {\n",
              "        text-align: right;\n",
              "    }\n",
              "</style>\n",
              "<table border=\"1\" class=\"dataframe\">\n",
              "  <thead>\n",
              "    <tr style=\"text-align: right;\">\n",
              "      <th></th>\n",
              "      <th>ProductId</th>\n",
              "      <th>UserId</th>\n",
              "      <th>ProfileName</th>\n",
              "      <th>Score</th>\n",
              "      <th>Customer Reviews</th>\n",
              "      <th>Review date</th>\n",
              "      <th>Year</th>\n",
              "      <th>Month</th>\n",
              "      <th>Positive</th>\n",
              "      <th>Negative</th>\n",
              "      <th>Neutral</th>\n",
              "      <th>sentiment_score</th>\n",
              "      <th>sentiment</th>\n",
              "      <th>polarity</th>\n",
              "      <th>review_len</th>\n",
              "      <th>word_count</th>\n",
              "      <th>Segment</th>\n",
              "    </tr>\n",
              "  </thead>\n",
              "  <tbody>\n",
              "    <tr>\n",
              "      <th>0</th>\n",
              "      <td>B001E4KFG0</td>\n",
              "      <td>A3SGXH7AUHU8GW</td>\n",
              "      <td>delmartian</td>\n",
              "      <td>5</td>\n",
              "      <td>good quality dog foodi have bought several of ...</td>\n",
              "      <td>2011-04-27</td>\n",
              "      <td>2011</td>\n",
              "      <td>4</td>\n",
              "      <td>0.323</td>\n",
              "      <td>0.000</td>\n",
              "      <td>0.677</td>\n",
              "      <td>1</td>\n",
              "      <td>POSITIVE</td>\n",
              "      <td>0.485714</td>\n",
              "      <td>281</td>\n",
              "      <td>51</td>\n",
              "      <td>Champions</td>\n",
              "    </tr>\n",
              "    <tr>\n",
              "      <th>1</th>\n",
              "      <td>B00813GRG4</td>\n",
              "      <td>A1D87F6ZCVE5NK</td>\n",
              "      <td>dll pa</td>\n",
              "      <td>1</td>\n",
              "      <td>not as advertisedproduct arrived labeled as ju...</td>\n",
              "      <td>2012-09-07</td>\n",
              "      <td>2012</td>\n",
              "      <td>9</td>\n",
              "      <td>0.000</td>\n",
              "      <td>0.131</td>\n",
              "      <td>0.869</td>\n",
              "      <td>0</td>\n",
              "      <td>NEGATIVE</td>\n",
              "      <td>-0.033333</td>\n",
              "      <td>200</td>\n",
              "      <td>33</td>\n",
              "      <td>About Leaving</td>\n",
              "    </tr>\n",
              "    <tr>\n",
              "      <th>2</th>\n",
              "      <td>B000LQOCH0</td>\n",
              "      <td>ABXLMWJIXXAIN</td>\n",
              "      <td>Natalia Corres \"Natalia Corres\"</td>\n",
              "      <td>4</td>\n",
              "      <td>delight says it allthis is a confection that h...</td>\n",
              "      <td>2008-08-18</td>\n",
              "      <td>2008</td>\n",
              "      <td>8</td>\n",
              "      <td>0.151</td>\n",
              "      <td>0.088</td>\n",
              "      <td>0.761</td>\n",
              "      <td>1</td>\n",
              "      <td>POSITIVE</td>\n",
              "      <td>0.133571</td>\n",
              "      <td>510</td>\n",
              "      <td>95</td>\n",
              "      <td>Loyal Customers</td>\n",
              "    </tr>\n",
              "    <tr>\n",
              "      <th>3</th>\n",
              "      <td>B000UA0QIQ</td>\n",
              "      <td>A395BORC6FGVXV</td>\n",
              "      <td>Karl</td>\n",
              "      <td>2</td>\n",
              "      <td>cough medicineif you are looking for the secre...</td>\n",
              "      <td>2011-06-13</td>\n",
              "      <td>2011</td>\n",
              "      <td>6</td>\n",
              "      <td>0.000</td>\n",
              "      <td>0.000</td>\n",
              "      <td>1.000</td>\n",
              "      <td>0</td>\n",
              "      <td>NEGATIVE</td>\n",
              "      <td>0.166667</td>\n",
              "      <td>228</td>\n",
              "      <td>42</td>\n",
              "      <td>At Risk</td>\n",
              "    </tr>\n",
              "    <tr>\n",
              "      <th>4</th>\n",
              "      <td>B006K2ZZ7K</td>\n",
              "      <td>A1UQRSCLF8GW1T</td>\n",
              "      <td>Michael D. Bigham \"M. Wassir\"</td>\n",
              "      <td>5</td>\n",
              "      <td>great taffygreat taffy at a great price  there...</td>\n",
              "      <td>2012-10-21</td>\n",
              "      <td>2012</td>\n",
              "      <td>10</td>\n",
              "      <td>0.435</td>\n",
              "      <td>0.000</td>\n",
              "      <td>0.565</td>\n",
              "      <td>1</td>\n",
              "      <td>POSITIVE</td>\n",
              "      <td>0.483333</td>\n",
              "      <td>146</td>\n",
              "      <td>28</td>\n",
              "      <td>Champions</td>\n",
              "    </tr>\n",
              "  </tbody>\n",
              "</table>\n",
              "</div>\n",
              "      <button class=\"colab-df-convert\" onclick=\"convertToInteractive('df-514a2aa0-61d5-4aaa-a0e3-6866072fec04')\"\n",
              "              title=\"Convert this dataframe to an interactive table.\"\n",
              "              style=\"display:none;\">\n",
              "        \n",
              "  <svg xmlns=\"http://www.w3.org/2000/svg\" height=\"24px\"viewBox=\"0 0 24 24\"\n",
              "       width=\"24px\">\n",
              "    <path d=\"M0 0h24v24H0V0z\" fill=\"none\"/>\n",
              "    <path d=\"M18.56 5.44l.94 2.06.94-2.06 2.06-.94-2.06-.94-.94-2.06-.94 2.06-2.06.94zm-11 1L8.5 8.5l.94-2.06 2.06-.94-2.06-.94L8.5 2.5l-.94 2.06-2.06.94zm10 10l.94 2.06.94-2.06 2.06-.94-2.06-.94-.94-2.06-.94 2.06-2.06.94z\"/><path d=\"M17.41 7.96l-1.37-1.37c-.4-.4-.92-.59-1.43-.59-.52 0-1.04.2-1.43.59L10.3 9.45l-7.72 7.72c-.78.78-.78 2.05 0 2.83L4 21.41c.39.39.9.59 1.41.59.51 0 1.02-.2 1.41-.59l7.78-7.78 2.81-2.81c.8-.78.8-2.07 0-2.86zM5.41 20L4 18.59l7.72-7.72 1.47 1.35L5.41 20z\"/>\n",
              "  </svg>\n",
              "      </button>\n",
              "      \n",
              "  <style>\n",
              "    .colab-df-container {\n",
              "      display:flex;\n",
              "      flex-wrap:wrap;\n",
              "      gap: 12px;\n",
              "    }\n",
              "\n",
              "    .colab-df-convert {\n",
              "      background-color: #E8F0FE;\n",
              "      border: none;\n",
              "      border-radius: 50%;\n",
              "      cursor: pointer;\n",
              "      display: none;\n",
              "      fill: #1967D2;\n",
              "      height: 32px;\n",
              "      padding: 0 0 0 0;\n",
              "      width: 32px;\n",
              "    }\n",
              "\n",
              "    .colab-df-convert:hover {\n",
              "      background-color: #E2EBFA;\n",
              "      box-shadow: 0px 1px 2px rgba(60, 64, 67, 0.3), 0px 1px 3px 1px rgba(60, 64, 67, 0.15);\n",
              "      fill: #174EA6;\n",
              "    }\n",
              "\n",
              "    [theme=dark] .colab-df-convert {\n",
              "      background-color: #3B4455;\n",
              "      fill: #D2E3FC;\n",
              "    }\n",
              "\n",
              "    [theme=dark] .colab-df-convert:hover {\n",
              "      background-color: #434B5C;\n",
              "      box-shadow: 0px 1px 3px 1px rgba(0, 0, 0, 0.15);\n",
              "      filter: drop-shadow(0px 1px 2px rgba(0, 0, 0, 0.3));\n",
              "      fill: #FFFFFF;\n",
              "    }\n",
              "  </style>\n",
              "\n",
              "      <script>\n",
              "        const buttonEl =\n",
              "          document.querySelector('#df-514a2aa0-61d5-4aaa-a0e3-6866072fec04 button.colab-df-convert');\n",
              "        buttonEl.style.display =\n",
              "          google.colab.kernel.accessAllowed ? 'block' : 'none';\n",
              "\n",
              "        async function convertToInteractive(key) {\n",
              "          const element = document.querySelector('#df-514a2aa0-61d5-4aaa-a0e3-6866072fec04');\n",
              "          const dataTable =\n",
              "            await google.colab.kernel.invokeFunction('convertToInteractive',\n",
              "                                                     [key], {});\n",
              "          if (!dataTable) return;\n",
              "\n",
              "          const docLinkHtml = 'Like what you see? Visit the ' +\n",
              "            '<a target=\"_blank\" href=https://colab.research.google.com/notebooks/data_table.ipynb>data table notebook</a>'\n",
              "            + ' to learn more about interactive tables.';\n",
              "          element.innerHTML = '';\n",
              "          dataTable['output_type'] = 'display_data';\n",
              "          await google.colab.output.renderOutput(dataTable, element);\n",
              "          const docLink = document.createElement('div');\n",
              "          docLink.innerHTML = docLinkHtml;\n",
              "          element.appendChild(docLink);\n",
              "        }\n",
              "      </script>\n",
              "    </div>\n",
              "  </div>\n",
              "  "
            ]
          },
          "metadata": {},
          "execution_count": 50
        }
      ],
      "source": [
        "result['Segment'] = result['Score'].replace(seg_map, regex=True)\n",
        "#result2.reset_index(inplace=True)\n",
        "result.head()"
      ]
    },
    {
      "cell_type": "markdown",
      "metadata": {
        "id": "yDUMmVaG1_Dc"
      },
      "source": []
    },
    {
      "cell_type": "code",
      "execution_count": 51,
      "metadata": {
        "id": "epRQC4-5zp9L",
        "colab": {
          "base_uri": "https://localhost:8080/",
          "height": 486
        },
        "outputId": "c29e5012-3493-4a9d-a329-7dfc4c41713a"
      },
      "outputs": [
        {
          "output_type": "display_data",
          "data": {
            "text/plain": [
              "<Figure size 432x288 with 1 Axes>"
            ],
            "image/png": "[encoded data removed]"
          },
          "metadata": {}
        }
      ],
      "source": [
        "colors  = (\"darkorange\", \"darkseagreen\", \"orange\", \"cyan\", \"cadetblue\", \"hotpink\", \"lightsteelblue\", \"coral\",  \"mediumaquamarine\",\"palegoldenrod\")\n",
        "explodes = [0.25, 0.25, 0.25, 0.25, 0.25, 0.25, 0.25, 0.25, 0.25, 0.25]\n",
        "\n",
        "result[\"Segment\"].value_counts(sort=False).plot.pie(colors=colors,\n",
        "                                                 textprops={'fontsize': 12}, \n",
        "                                                 autopct = '%4.1f',\n",
        "                                                 startangle= 90, \n",
        "                                                 radius =2, \n",
        "                                                 rotatelabels=True,\n",
        "                                                 shadow = True\n",
        "                                                 )\n",
        "plt.ylabel(\"\");"
      ]
    },
    {
      "cell_type": "markdown",
      "metadata": {
        "id": "XTbxYBDNCIX3"
      },
      "source": [
        "Step :6. Model Building: Sentiment Analysis"
      ]
    },
    {
      "cell_type": "code",
      "execution_count": 52,
      "metadata": {
        "id": "Yrm4kU4OCRqO",
        "colab": {
          "base_uri": "https://localhost:8080/",
          "height": 513
        },
        "outputId": "74395a9a-6cca-4ff1-a550-2bbba98ed6a9"
      },
      "outputs": [
        {
          "output_type": "execute_result",
          "data": {
            "text/plain": [
              "    ProductId          UserId                      ProfileName  Score  \\\n",
              "0  B001E4KFG0  A3SGXH7AUHU8GW                       delmartian      5   \n",
              "1  B00813GRG4  A1D87F6ZCVE5NK                           dll pa      1   \n",
              "2  B000LQOCH0   ABXLMWJIXXAIN  Natalia Corres \"Natalia Corres\"      4   \n",
              "3  B000UA0QIQ  A395BORC6FGVXV                             Karl      2   \n",
              "4  B006K2ZZ7K  A1UQRSCLF8GW1T    Michael D. Bigham \"M. Wassir\"      5   \n",
              "\n",
              "                                    Customer Reviews Review date  Year  Month  \\\n",
              "0  good quality dog foodi have bought several of ...  2011-04-27  2011      4   \n",
              "1  not as advertisedproduct arrived labeled as ju...  2012-09-07  2012      9   \n",
              "2  delight says it allthis is a confection that h...  2008-08-18  2008      8   \n",
              "3  cough medicineif you are looking for the secre...  2011-06-13  2011      6   \n",
              "4  great taffygreat taffy at a great price  there...  2012-10-21  2012     10   \n",
              "\n",
              "   Positive  Negative  Neutral  sentiment_score sentiment  polarity  \\\n",
              "0     0.323     0.000    0.677                1  POSITIVE  0.485714   \n",
              "1     0.000     0.131    0.869                0  NEGATIVE -0.033333   \n",
              "2     0.151     0.088    0.761                1  POSITIVE  0.133571   \n",
              "3     0.000     0.000    1.000                0  NEGATIVE  0.166667   \n",
              "4     0.435     0.000    0.565                1  POSITIVE  0.483333   \n",
              "\n",
              "   review_len  word_count  sentiment_encoded  \n",
              "0         281          51                  1  \n",
              "1         200          33                  0  \n",
              "2         510          95                  1  \n",
              "3         228          42                  0  \n",
              "4         146          28                  1  "
            ],
            "text/html": [
              "\n",
              "  <div id=\"df-0cbb1068-37f8-4f7b-b87d-9d3cc16ce3df\">\n",
              "    <div class=\"colab-df-container\">\n",
              "      <div>\n",
              "<style scoped>\n",
              "    .dataframe tbody tr th:only-of-type {\n",
              "        vertical-align: middle;\n",
              "    }\n",
              "\n",
              "    .dataframe tbody tr th {\n",
              "        vertical-align: top;\n",
              "    }\n",
              "\n",
              "    .dataframe thead th {\n",
              "        text-align: right;\n",
              "    }\n",
              "</style>\n",
              "<table border=\"1\" class=\"dataframe\">\n",
              "  <thead>\n",
              "    <tr style=\"text-align: right;\">\n",
              "      <th></th>\n",
              "      <th>ProductId</th>\n",
              "      <th>UserId</th>\n",
              "      <th>ProfileName</th>\n",
              "      <th>Score</th>\n",
              "      <th>Customer Reviews</th>\n",
              "      <th>Review date</th>\n",
              "      <th>Year</th>\n",
              "      <th>Month</th>\n",
              "      <th>Positive</th>\n",
              "      <th>Negative</th>\n",
              "      <th>Neutral</th>\n",
              "      <th>sentiment_score</th>\n",
              "      <th>sentiment</th>\n",
              "      <th>polarity</th>\n",
              "      <th>review_len</th>\n",
              "      <th>word_count</th>\n",
              "      <th>sentiment_encoded</th>\n",
              "    </tr>\n",
              "  </thead>\n",
              "  <tbody>\n",
              "    <tr>\n",
              "      <th>0</th>\n",
              "      <td>B001E4KFG0</td>\n",
              "      <td>A3SGXH7AUHU8GW</td>\n",
              "      <td>delmartian</td>\n",
              "      <td>5</td>\n",
              "      <td>good quality dog foodi have bought several of ...</td>\n",
              "      <td>2011-04-27</td>\n",
              "      <td>2011</td>\n",
              "      <td>4</td>\n",
              "      <td>0.323</td>\n",
              "      <td>0.000</td>\n",
              "      <td>0.677</td>\n",
              "      <td>1</td>\n",
              "      <td>POSITIVE</td>\n",
              "      <td>0.485714</td>\n",
              "      <td>281</td>\n",
              "      <td>51</td>\n",
              "      <td>1</td>\n",
              "    </tr>\n",
              "    <tr>\n",
              "      <th>1</th>\n",
              "      <td>B00813GRG4</td>\n",
              "      <td>A1D87F6ZCVE5NK</td>\n",
              "      <td>dll pa</td>\n",
              "      <td>1</td>\n",
              "      <td>not as advertisedproduct arrived labeled as ju...</td>\n",
              "      <td>2012-09-07</td>\n",
              "      <td>2012</td>\n",
              "      <td>9</td>\n",
              "      <td>0.000</td>\n",
              "      <td>0.131</td>\n",
              "      <td>0.869</td>\n",
              "      <td>0</td>\n",
              "      <td>NEGATIVE</td>\n",
              "      <td>-0.033333</td>\n",
              "      <td>200</td>\n",
              "      <td>33</td>\n",
              "      <td>0</td>\n",
              "    </tr>\n",
              "    <tr>\n",
              "      <th>2</th>\n",
              "      <td>B000LQOCH0</td>\n",
              "      <td>ABXLMWJIXXAIN</td>\n",
              "      <td>Natalia Corres \"Natalia Corres\"</td>\n",
              "      <td>4</td>\n",
              "      <td>delight says it allthis is a confection that h...</td>\n",
              "      <td>2008-08-18</td>\n",
              "      <td>2008</td>\n",
              "      <td>8</td>\n",
              "      <td>0.151</td>\n",
              "      <td>0.088</td>\n",
              "      <td>0.761</td>\n",
              "      <td>1</td>\n",
              "      <td>POSITIVE</td>\n",
              "      <td>0.133571</td>\n",
              "      <td>510</td>\n",
              "      <td>95</td>\n",
              "      <td>1</td>\n",
              "    </tr>\n",
              "    <tr>\n",
              "      <th>3</th>\n",
              "      <td>B000UA0QIQ</td>\n",
              "      <td>A395BORC6FGVXV</td>\n",
              "      <td>Karl</td>\n",
              "      <td>2</td>\n",
              "      <td>cough medicineif you are looking for the secre...</td>\n",
              "      <td>2011-06-13</td>\n",
              "      <td>2011</td>\n",
              "      <td>6</td>\n",
              "      <td>0.000</td>\n",
              "      <td>0.000</td>\n",
              "      <td>1.000</td>\n",
              "      <td>0</td>\n",
              "      <td>NEGATIVE</td>\n",
              "      <td>0.166667</td>\n",
              "      <td>228</td>\n",
              "      <td>42</td>\n",
              "      <td>0</td>\n",
              "    </tr>\n",
              "    <tr>\n",
              "      <th>4</th>\n",
              "      <td>B006K2ZZ7K</td>\n",
              "      <td>A1UQRSCLF8GW1T</td>\n",
              "      <td>Michael D. Bigham \"M. Wassir\"</td>\n",
              "      <td>5</td>\n",
              "      <td>great taffygreat taffy at a great price  there...</td>\n",
              "      <td>2012-10-21</td>\n",
              "      <td>2012</td>\n",
              "      <td>10</td>\n",
              "      <td>0.435</td>\n",
              "      <td>0.000</td>\n",
              "      <td>0.565</td>\n",
              "      <td>1</td>\n",
              "      <td>POSITIVE</td>\n",
              "      <td>0.483333</td>\n",
              "      <td>146</td>\n",
              "      <td>28</td>\n",
              "      <td>1</td>\n",
              "    </tr>\n",
              "  </tbody>\n",
              "</table>\n",
              "</div>\n",
              "      <button class=\"colab-df-convert\" onclick=\"convertToInteractive('df-0cbb1068-37f8-4f7b-b87d-9d3cc16ce3df')\"\n",
              "              title=\"Convert this dataframe to an interactive table.\"\n",
              "              style=\"display:none;\">\n",
              "        \n",
              "  <svg xmlns=\"http://www.w3.org/2000/svg\" height=\"24px\"viewBox=\"0 0 24 24\"\n",
              "       width=\"24px\">\n",
              "    <path d=\"M0 0h24v24H0V0z\" fill=\"none\"/>\n",
              "    <path d=\"M18.56 5.44l.94 2.06.94-2.06 2.06-.94-2.06-.94-.94-2.06-.94 2.06-2.06.94zm-11 1L8.5 8.5l.94-2.06 2.06-.94-2.06-.94L8.5 2.5l-.94 2.06-2.06.94zm10 10l.94 2.06.94-2.06 2.06-.94-2.06-.94-.94-2.06-.94 2.06-2.06.94z\"/><path d=\"M17.41 7.96l-1.37-1.37c-.4-.4-.92-.59-1.43-.59-.52 0-1.04.2-1.43.59L10.3 9.45l-7.72 7.72c-.78.78-.78 2.05 0 2.83L4 21.41c.39.39.9.59 1.41.59.51 0 1.02-.2 1.41-.59l7.78-7.78 2.81-2.81c.8-.78.8-2.07 0-2.86zM5.41 20L4 18.59l7.72-7.72 1.47 1.35L5.41 20z\"/>\n",
              "  </svg>\n",
              "      </button>\n",
              "      \n",
              "  <style>\n",
              "    .colab-df-container {\n",
              "      display:flex;\n",
              "      flex-wrap:wrap;\n",
              "      gap: 12px;\n",
              "    }\n",
              "\n",
              "    .colab-df-convert {\n",
              "      background-color: #E8F0FE;\n",
              "      border: none;\n",
              "      border-radius: 50%;\n",
              "      cursor: pointer;\n",
              "      display: none;\n",
              "      fill: #1967D2;\n",
              "      height: 32px;\n",
              "      padding: 0 0 0 0;\n",
              "      width: 32px;\n",
              "    }\n",
              "\n",
              "    .colab-df-convert:hover {\n",
              "      background-color: #E2EBFA;\n",
              "      box-shadow: 0px 1px 2px rgba(60, 64, 67, 0.3), 0px 1px 3px 1px rgba(60, 64, 67, 0.15);\n",
              "      fill: #174EA6;\n",
              "    }\n",
              "\n",
              "    [theme=dark] .colab-df-convert {\n",
              "      background-color: #3B4455;\n",
              "      fill: #D2E3FC;\n",
              "    }\n",
              "\n",
              "    [theme=dark] .colab-df-convert:hover {\n",
              "      background-color: #434B5C;\n",
              "      box-shadow: 0px 1px 3px 1px rgba(0, 0, 0, 0.15);\n",
              "      filter: drop-shadow(0px 1px 2px rgba(0, 0, 0, 0.3));\n",
              "      fill: #FFFFFF;\n",
              "    }\n",
              "  </style>\n",
              "\n",
              "      <script>\n",
              "        const buttonEl =\n",
              "          document.querySelector('#df-0cbb1068-37f8-4f7b-b87d-9d3cc16ce3df button.colab-df-convert');\n",
              "        buttonEl.style.display =\n",
              "          google.colab.kernel.accessAllowed ? 'block' : 'none';\n",
              "\n",
              "        async function convertToInteractive(key) {\n",
              "          const element = document.querySelector('#df-0cbb1068-37f8-4f7b-b87d-9d3cc16ce3df');\n",
              "          const dataTable =\n",
              "            await google.colab.kernel.invokeFunction('convertToInteractive',\n",
              "                                                     [key], {});\n",
              "          if (!dataTable) return;\n",
              "\n",
              "          const docLinkHtml = 'Like what you see? Visit the ' +\n",
              "            '<a target=\"_blank\" href=https://colab.research.google.com/notebooks/data_table.ipynb>data table notebook</a>'\n",
              "            + ' to learn more about interactive tables.';\n",
              "          element.innerHTML = '';\n",
              "          dataTable['output_type'] = 'display_data';\n",
              "          await google.colab.output.renderOutput(dataTable, element);\n",
              "          const docLink = document.createElement('div');\n",
              "          docLink.innerHTML = docLinkHtml;\n",
              "          element.appendChild(docLink);\n",
              "        }\n",
              "      </script>\n",
              "    </div>\n",
              "  </div>\n",
              "  "
            ]
          },
          "metadata": {},
          "execution_count": 52
        }
      ],
      "source": [
        "# Train test split\n",
        "\n",
        "#encode the taget variable [sentiment]\n",
        "from sklearn.preprocessing import LabelEncoder\n",
        "le = LabelEncoder()\n",
        "le.fit(clean_review['sentiment'])\n",
        "clean_review['sentiment_encoded'] = le.transform(clean_review['sentiment'])\n",
        "clean_review.head()\n",
        "\n"
      ]
    },
    {
      "cell_type": "code",
      "execution_count": 53,
      "metadata": {
        "id": "NzeTPKkETjZD"
      },
      "outputs": [],
      "source": [
        "# Train test split\n",
        "from sklearn.model_selection import train_test_split\n",
        "X_train, X_test, y_train, y_test = train_test_split(vectorizedData, clean_review['sentiment_encoded'], \n",
        "                                                    test_size=0.33, random_state=42)"
      ]
    },
    {
      "cell_type": "code",
      "execution_count": 54,
      "metadata": {
        "id": "TPmhBwImUBjv",
        "colab": {
          "base_uri": "https://localhost:8080/"
        },
        "outputId": "9780cfc6-e533-45ea-ba5d-5eaad0c11912"
      },
      "outputs": [
        {
          "output_type": "execute_result",
          "data": {
            "text/plain": [
              "RandomForestClassifier()"
            ]
          },
          "metadata": {},
          "execution_count": 54
        }
      ],
      "source": [
        "# Model Fit\n",
        "from sklearn.ensemble import RandomForestClassifier\n",
        "clf = RandomForestClassifier()\n",
        "clf.fit(X_train, y_train)\n"
      ]
    },
    {
      "cell_type": "code",
      "execution_count": 55,
      "metadata": {
        "id": "ghBWIGYAUEHo",
        "colab": {
          "base_uri": "https://localhost:8080/"
        },
        "outputId": "ba8293bc-3211-49b6-9352-7c4fbd67847e"
      },
      "outputs": [
        {
          "output_type": "stream",
          "name": "stdout",
          "text": [
            "              precision    recall  f1-score   support\n",
            "\n",
            "           0       0.95      0.65      0.77     40859\n",
            "           1       0.91      0.99      0.95    146717\n",
            "\n",
            "    accuracy                           0.92    187576\n",
            "   macro avg       0.93      0.82      0.86    187576\n",
            "weighted avg       0.92      0.92      0.91    187576\n",
            "\n"
          ]
        }
      ],
      "source": [
        "\n",
        "# Model evaluation\n",
        "from sklearn.metrics import classification_report\n",
        "preds = clf.predict(X_test)\n",
        "print(classification_report(y_test, preds))"
      ]
    },
    {
      "cell_type": "code",
      "execution_count": 59,
      "metadata": {
        "id": "Ew-h4le0fh1F",
        "colab": {
          "base_uri": "https://localhost:8080/"
        },
        "outputId": "f9db563c-07ee-4f19-b860-b4a6a70ce09e"
      },
      "outputs": [
        {
          "output_type": "stream",
          "name": "stdout",
          "text": [
            "Accuracy of logistic regression classifier on test set: 0.92\n"
          ]
        }
      ],
      "source": [
        "print('Accuracy of logistic regression classifier on test set: {:.2f}'.format((clf.score(X_test, y_test))))"
      ]
    },
    {
      "cell_type": "code",
      "execution_count": 60,
      "metadata": {
        "id": "nYA73bu8gyte"
      },
      "outputs": [],
      "source": [
        "y_pred = clf.predict(X_test)"
      ]
    },
    {
      "cell_type": "code",
      "execution_count": 61,
      "metadata": {
        "id": "gH0S4Y3whCfS"
      },
      "outputs": [],
      "source": [
        "def plot_confusion_matrix(cm, classes,\n",
        "                          normalize=False,\n",
        "                          title='Confusion matrix',\n",
        "                          cmap=plt.cm.Blues):\n",
        "    \"\"\"\n",
        "    This function prints and plots the confusion matrix.\n",
        "    Normalization can be applied by setting `normalize=True`.\n",
        "    \"\"\"\n",
        "    \n",
        "    plt.imshow(cm, interpolation='nearest', cmap=cmap)\n",
        "    plt.title(title)\n",
        "    plt.colorbar()\n",
        "    tick_marks = np.arange(len(classes))\n",
        "    plt.xticks(tick_marks, classes, rotation=45)\n",
        "    plt.yticks(tick_marks, classes)\n",
        "\n",
        "    if normalize:\n",
        "        cm = cm.astype('float') / cm.sum(axis=1)[:, np.newaxis]\n",
        "        print(\"Normalized confusion matrix\")\n",
        "    else:\n",
        "        print('Confusion matrix, without normalization')\n",
        "\n",
        "    thresh = cm.max() / 2.\n",
        "    for i in range (cm.shape[0]):\n",
        "        for j in range (cm.shape[1]):\n",
        "            plt.text(j, i, cm[i, j],\n",
        "                 horizontalalignment=\"center\",\n",
        "                 color=\"white\" if cm[i, j] > thresh else \"black\")\n",
        "\n",
        "    plt.tight_layout()\n",
        "    plt.ylabel('True label')\n",
        "    plt.xlabel('Predicted label')"
      ]
    },
    {
      "cell_type": "markdown",
      "metadata": {
        "id": "59L3p9RQgUCZ"
      },
      "source": [
        "# Step : 7.Classification metrics & F1-Score"
      ]
    },
    {
      "cell_type": "code",
      "execution_count": 62,
      "metadata": {
        "id": "k3cpfHaTga2k",
        "colab": {
          "base_uri": "https://localhost:8080/",
          "height": 329
        },
        "outputId": "a9f3a664-b84b-48a3-9405-286d40d5fec4"
      },
      "outputs": [
        {
          "output_type": "stream",
          "name": "stdout",
          "text": [
            "Confusion matrix, without normalization\n"
          ]
        },
        {
          "output_type": "display_data",
          "data": {
            "text/plain": [
              "<Figure size 432x288 with 2 Axes>"
            ],
            "image/png": "[encoded data removed]"
          },
          "metadata": {
            "needs_background": "light"
          }
        }
      ],
      "source": [
        "#Metrics libraries\n",
        "from sklearn import metrics\n",
        "from sklearn.metrics import classification_report\n",
        "from sklearn.model_selection import cross_val_score\n",
        "from sklearn.metrics import roc_auc_score\n",
        "from sklearn.metrics import roc_curve, auc\n",
        "\n",
        "cm = metrics.confusion_matrix(y_test, y_pred)\n",
        "plot_confusion_matrix(cm, classes=['NEGATIVE','Neutral','POSITIVE'])"
      ]
    },
    {
      "cell_type": "code",
      "execution_count": 63,
      "metadata": {
        "id": "8rBaS01Shaf7",
        "colab": {
          "base_uri": "https://localhost:8080/"
        },
        "outputId": "d6956a6f-467f-467a-c1c6-64b7accee441"
      },
      "outputs": [
        {
          "output_type": "stream",
          "name": "stdout",
          "text": [
            "Classification Report:\n",
            "               precision    recall  f1-score   support\n",
            "\n",
            "           0       0.95      0.65      0.77     40859\n",
            "           1       0.91      0.99      0.95    146717\n",
            "\n",
            "    accuracy                           0.92    187576\n",
            "   macro avg       0.93      0.82      0.86    187576\n",
            "weighted avg       0.92      0.92      0.91    187576\n",
            "\n"
          ]
        }
      ],
      "source": [
        "print(\"Classification Report:\\n\",classification_report(y_test, y_pred))"
      ]
    }
  ],
  "metadata": {
    "colab": {
      "collapsed_sections": [],
      "provenance": []
    },
    "kernelspec": {
      "display_name": "Python 3",
      "name": "python3"
    },
    "language_info": {
      "name": "python"
    }
  },
  "nbformat": 4,
  "nbformat_minor": 0
}