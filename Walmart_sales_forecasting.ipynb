{
  "nbformat": 4,
  "nbformat_minor": 0,
  "metadata": {
    "colab": {
      "provenance": [],
      "collapsed_sections": []
    },
    "kernelspec": {
      "name": "python3",
      "display_name": "Python 3"
    },
    "language_info": {
      "name": "python"
    }
  },
  "cells": [
    {
      "cell_type": "markdown",
      "source": [
        "# Step: 1 Pre-Processing"
      ],
      "metadata": {
        "id": "yqFJQbb4uzTn"
      }
    },
    {
      "cell_type": "markdown",
      "source": [
        "#1.1.Import all required libraies"
      ],
      "metadata": {
        "id": "VyiHk6PBu4Cq"
      }
    },
    {
      "cell_type": "code",
      "source": [
        "import numpy as np\n",
        "import pandas as pd\n",
        "import plotly.express as px\n",
        "import matplotlib.pyplot as plt\n",
        "import seaborn as sns  "
      ],
      "metadata": {
        "id": "aV23OVTxu6zp"
      },
      "execution_count": 1,
      "outputs": []
    },
    {
      "cell_type": "markdown",
      "source": [
        "#1.2.Load dataset file into google colab repository"
      ],
      "metadata": {
        "id": "ovP2bNvMvDRB"
      }
    },
    {
      "cell_type": "code",
      "source": [
        "from google.colab import files\n",
        "uploaded = files.upload()"
      ],
      "metadata": {
        "colab": {
          "base_uri": "https://localhost:8080/",
          "height": 73
        },
        "id": "k7bHyj46vEPS",
        "outputId": "ffe67eed-02dd-4bec-b930-0add27b75c68"
      },
      "execution_count": 2,
      "outputs": [
        {
          "output_type": "display_data",
          "data": {
            "text/plain": [
              "<IPython.core.display.HTML object>"
            ],
            "text/html": [
              "\n",
              "     <input type=\"file\" id=\"files-a77ff269-c970-4427-82a3-e68511d71f54\" name=\"files[]\" multiple disabled\n",
              "        style=\"border:none\" />\n",
              "     <output id=\"result-a77ff269-c970-4427-82a3-e68511d71f54\">\n",
              "      Upload widget is only available when the cell has been executed in the\n",
              "      current browser session. Please rerun this cell to enable.\n",
              "      </output>\n",
              "      <script>// Copyright 2017 Google LLC\n",
              "//\n",
              "// Licensed under the Apache License, Version 2.0 (the \"License\");\n",
              "// you may not use this file except in compliance with the License.\n",
              "// You may obtain a copy of the License at\n",
              "//\n",
              "//      http://www.apache.org/licenses/LICENSE-2.0\n",
              "//\n",
              "// Unless required by applicable law or agreed to in writing, software\n",
              "// distributed under the License is distributed on an \"AS IS\" BASIS,\n",
              "// WITHOUT WARRANTIES OR CONDITIONS OF ANY KIND, either express or implied.\n",
              "// See the License for the specific language governing permissions and\n",
              "// limitations under the License.\n",
              "\n",
              "/**\n",
              " * @fileoverview Helpers for google.colab Python module.\n",
              " */\n",
              "(function(scope) {\n",
              "function span(text, styleAttributes = {}) {\n",
              "  const element = document.createElement('span');\n",
              "  element.textContent = text;\n",
              "  for (const key of Object.keys(styleAttributes)) {\n",
              "    element.style[key] = styleAttributes[key];\n",
              "  }\n",
              "  return element;\n",
              "}\n",
              "\n",
              "// Max number of bytes which will be uploaded at a time.\n",
              "const MAX_PAYLOAD_SIZE = 100 * 1024;\n",
              "\n",
              "function _uploadFiles(inputId, outputId) {\n",
              "  const steps = uploadFilesStep(inputId, outputId);\n",
              "  const outputElement = document.getElementById(outputId);\n",
              "  // Cache steps on the outputElement to make it available for the next call\n",
              "  // to uploadFilesContinue from Python.\n",
              "  outputElement.steps = steps;\n",
              "\n",
              "  return _uploadFilesContinue(outputId);\n",
              "}\n",
              "\n",
              "// This is roughly an async generator (not supported in the browser yet),\n",
              "// where there are multiple asynchronous steps and the Python side is going\n",
              "// to poll for completion of each step.\n",
              "// This uses a Promise to block the python side on completion of each step,\n",
              "// then passes the result of the previous step as the input to the next step.\n",
              "function _uploadFilesContinue(outputId) {\n",
              "  const outputElement = document.getElementById(outputId);\n",
              "  const steps = outputElement.steps;\n",
              "\n",
              "  const next = steps.next(outputElement.lastPromiseValue);\n",
              "  return Promise.resolve(next.value.promise).then((value) => {\n",
              "    // Cache the last promise value to make it available to the next\n",
              "    // step of the generator.\n",
              "    outputElement.lastPromiseValue = value;\n",
              "    return next.value.response;\n",
              "  });\n",
              "}\n",
              "\n",
              "/**\n",
              " * Generator function which is called between each async step of the upload\n",
              " * process.\n",
              " * @param {string} inputId Element ID of the input file picker element.\n",
              " * @param {string} outputId Element ID of the output display.\n",
              " * @return {!Iterable<!Object>} Iterable of next steps.\n",
              " */\n",
              "function* uploadFilesStep(inputId, outputId) {\n",
              "  const inputElement = document.getElementById(inputId);\n",
              "  inputElement.disabled = false;\n",
              "\n",
              "  const outputElement = document.getElementById(outputId);\n",
              "  outputElement.innerHTML = '';\n",
              "\n",
              "  const pickedPromise = new Promise((resolve) => {\n",
              "    inputElement.addEventListener('change', (e) => {\n",
              "      resolve(e.target.files);\n",
              "    });\n",
              "  });\n",
              "\n",
              "  const cancel = document.createElement('button');\n",
              "  inputElement.parentElement.appendChild(cancel);\n",
              "  cancel.textContent = 'Cancel upload';\n",
              "  const cancelPromise = new Promise((resolve) => {\n",
              "    cancel.onclick = () => {\n",
              "      resolve(null);\n",
              "    };\n",
              "  });\n",
              "\n",
              "  // Wait for the user to pick the files.\n",
              "  const files = yield {\n",
              "    promise: Promise.race([pickedPromise, cancelPromise]),\n",
              "    response: {\n",
              "      action: 'starting',\n",
              "    }\n",
              "  };\n",
              "\n",
              "  cancel.remove();\n",
              "\n",
              "  // Disable the input element since further picks are not allowed.\n",
              "  inputElement.disabled = true;\n",
              "\n",
              "  if (!files) {\n",
              "    return {\n",
              "      response: {\n",
              "        action: 'complete',\n",
              "      }\n",
              "    };\n",
              "  }\n",
              "\n",
              "  for (const file of files) {\n",
              "    const li = document.createElement('li');\n",
              "    li.append(span(file.name, {fontWeight: 'bold'}));\n",
              "    li.append(span(\n",
              "        `(${file.type || 'n/a'}) - ${file.size} bytes, ` +\n",
              "        `last modified: ${\n",
              "            file.lastModifiedDate ? file.lastModifiedDate.toLocaleDateString() :\n",
              "                                    'n/a'} - `));\n",
              "    const percent = span('0% done');\n",
              "    li.appendChild(percent);\n",
              "\n",
              "    outputElement.appendChild(li);\n",
              "\n",
              "    const fileDataPromise = new Promise((resolve) => {\n",
              "      const reader = new FileReader();\n",
              "      reader.onload = (e) => {\n",
              "        resolve(e.target.result);\n",
              "      };\n",
              "      reader.readAsArrayBuffer(file);\n",
              "    });\n",
              "    // Wait for the data to be ready.\n",
              "    let fileData = yield {\n",
              "      promise: fileDataPromise,\n",
              "      response: {\n",
              "        action: 'continue',\n",
              "      }\n",
              "    };\n",
              "\n",
              "    // Use a chunked sending to avoid message size limits. See b/62115660.\n",
              "    let position = 0;\n",
              "    do {\n",
              "      const length = Math.min(fileData.byteLength - position, MAX_PAYLOAD_SIZE);\n",
              "      const chunk = new Uint8Array(fileData, position, length);\n",
              "      position += length;\n",
              "\n",
              "      const base64 = btoa(String.fromCharCode.apply(null, chunk));\n",
              "      yield {\n",
              "        response: {\n",
              "          action: 'append',\n",
              "          file: file.name,\n",
              "          data: base64,\n",
              "        },\n",
              "      };\n",
              "\n",
              "      let percentDone = fileData.byteLength === 0 ?\n",
              "          100 :\n",
              "          Math.round((position / fileData.byteLength) * 100);\n",
              "      percent.textContent = `${percentDone}% done`;\n",
              "\n",
              "    } while (position < fileData.byteLength);\n",
              "  }\n",
              "\n",
              "  // All done.\n",
              "  yield {\n",
              "    response: {\n",
              "      action: 'complete',\n",
              "    }\n",
              "  };\n",
              "}\n",
              "\n",
              "scope.google = scope.google || {};\n",
              "scope.google.colab = scope.google.colab || {};\n",
              "scope.google.colab._files = {\n",
              "  _uploadFiles,\n",
              "  _uploadFilesContinue,\n",
              "};\n",
              "})(self);\n",
              "</script> "
            ]
          },
          "metadata": {}
        },
        {
          "output_type": "stream",
          "name": "stdout",
          "text": [
            "Saving Walmart.csv to Walmart.csv\n"
          ]
        }
      ]
    },
    {
      "cell_type": "code",
      "source": [
        "import io\n",
        "df = pd.read_csv(io.BytesIO(uploaded['Walmart.csv']))\n",
        "print(df)"
      ],
      "metadata": {
        "colab": {
          "base_uri": "https://localhost:8080/"
        },
        "id": "pr5LS6L5vLbx",
        "outputId": "9d0e60bb-c29e-418e-aaa8-254b691dd233"
      },
      "execution_count": 40,
      "outputs": [
        {
          "output_type": "stream",
          "name": "stdout",
          "text": [
            "      Store        Date  Weekly_Sales  Holiday_Flag  Temperature  Fuel_Price  \\\n",
            "0         1    5/2/2010    1643690.90             0        42.31       2.572   \n",
            "1         1   12/2/2010    1641957.44             1        38.51       2.548   \n",
            "2         1  19-02-2010    1611968.17             0        39.93       2.514   \n",
            "3         1  26-02-2010    1409727.59             0        46.63       2.561   \n",
            "4         1    5/3/2010    1554806.68             0        46.50       2.625   \n",
            "...     ...         ...           ...           ...          ...         ...   \n",
            "6430     45  28-09-2012     713173.95             0        64.88       3.997   \n",
            "6431     45   5/10/2012     733455.07             0        64.89       3.985   \n",
            "6432     45  12/10/2012     734464.36             0        54.47       4.000   \n",
            "6433     45  19-10-2012     718125.53             0        56.47       3.969   \n",
            "6434     45  26-10-2012     760281.43             0        58.85       3.882   \n",
            "\n",
            "             CPI  Unemployment  \n",
            "0     211.096358         8.106  \n",
            "1     211.242170         8.106  \n",
            "2     211.289143         8.106  \n",
            "3     211.319643         8.106  \n",
            "4     211.350143         8.106  \n",
            "...          ...           ...  \n",
            "6430  192.013558         8.684  \n",
            "6431  192.170412         8.667  \n",
            "6432  192.327265         8.667  \n",
            "6433  192.330854         8.667  \n",
            "6434  192.308899         8.667  \n",
            "\n",
            "[6435 rows x 8 columns]\n"
          ]
        }
      ]
    },
    {
      "cell_type": "markdown",
      "source": [
        " # Step 2 : Data Exploration"
      ],
      "metadata": {
        "id": "Qb21Zz3hYFza"
      }
    },
    {
      "cell_type": "code",
      "source": [
        "df.head()\n"
      ],
      "metadata": {
        "colab": {
          "base_uri": "https://localhost:8080/",
          "height": 206
        },
        "id": "7uWQBAqJvS_o",
        "outputId": "fdbddac5-1ab5-4c4b-ffc5-030dd558260e"
      },
      "execution_count": 41,
      "outputs": [
        {
          "output_type": "execute_result",
          "data": {
            "text/plain": [
              "   Store        Date  Weekly_Sales  Holiday_Flag  Temperature  Fuel_Price  \\\n",
              "0      1    5/2/2010    1643690.90             0        42.31       2.572   \n",
              "1      1   12/2/2010    1641957.44             1        38.51       2.548   \n",
              "2      1  19-02-2010    1611968.17             0        39.93       2.514   \n",
              "3      1  26-02-2010    1409727.59             0        46.63       2.561   \n",
              "4      1    5/3/2010    1554806.68             0        46.50       2.625   \n",
              "\n",
              "          CPI  Unemployment  \n",
              "0  211.096358         8.106  \n",
              "1  211.242170         8.106  \n",
              "2  211.289143         8.106  \n",
              "3  211.319643         8.106  \n",
              "4  211.350143         8.106  "
            ],
            "text/html": [
              "\n",
              "  <div id=\"df-7f42dde5-6a38-404f-884a-e707065a8327\">\n",
              "    <div class=\"colab-df-container\">\n",
              "      <div>\n",
              "<style scoped>\n",
              "    .dataframe tbody tr th:only-of-type {\n",
              "        vertical-align: middle;\n",
              "    }\n",
              "\n",
              "    .dataframe tbody tr th {\n",
              "        vertical-align: top;\n",
              "    }\n",
              "\n",
              "    .dataframe thead th {\n",
              "        text-align: right;\n",
              "    }\n",
              "</style>\n",
              "<table border=\"1\" class=\"dataframe\">\n",
              "  <thead>\n",
              "    <tr style=\"text-align: right;\">\n",
              "      <th></th>\n",
              "      <th>Store</th>\n",
              "      <th>Date</th>\n",
              "      <th>Weekly_Sales</th>\n",
              "      <th>Holiday_Flag</th>\n",
              "      <th>Temperature</th>\n",
              "      <th>Fuel_Price</th>\n",
              "      <th>CPI</th>\n",
              "      <th>Unemployment</th>\n",
              "    </tr>\n",
              "  </thead>\n",
              "  <tbody>\n",
              "    <tr>\n",
              "      <th>0</th>\n",
              "      <td>1</td>\n",
              "      <td>5/2/2010</td>\n",
              "      <td>1643690.90</td>\n",
              "      <td>0</td>\n",
              "      <td>42.31</td>\n",
              "      <td>2.572</td>\n",
              "      <td>211.096358</td>\n",
              "      <td>8.106</td>\n",
              "    </tr>\n",
              "    <tr>\n",
              "      <th>1</th>\n",
              "      <td>1</td>\n",
              "      <td>12/2/2010</td>\n",
              "      <td>1641957.44</td>\n",
              "      <td>1</td>\n",
              "      <td>38.51</td>\n",
              "      <td>2.548</td>\n",
              "      <td>211.242170</td>\n",
              "      <td>8.106</td>\n",
              "    </tr>\n",
              "    <tr>\n",
              "      <th>2</th>\n",
              "      <td>1</td>\n",
              "      <td>19-02-2010</td>\n",
              "      <td>1611968.17</td>\n",
              "      <td>0</td>\n",
              "      <td>39.93</td>\n",
              "      <td>2.514</td>\n",
              "      <td>211.289143</td>\n",
              "      <td>8.106</td>\n",
              "    </tr>\n",
              "    <tr>\n",
              "      <th>3</th>\n",
              "      <td>1</td>\n",
              "      <td>26-02-2010</td>\n",
              "      <td>1409727.59</td>\n",
              "      <td>0</td>\n",
              "      <td>46.63</td>\n",
              "      <td>2.561</td>\n",
              "      <td>211.319643</td>\n",
              "      <td>8.106</td>\n",
              "    </tr>\n",
              "    <tr>\n",
              "      <th>4</th>\n",
              "      <td>1</td>\n",
              "      <td>5/3/2010</td>\n",
              "      <td>1554806.68</td>\n",
              "      <td>0</td>\n",
              "      <td>46.50</td>\n",
              "      <td>2.625</td>\n",
              "      <td>211.350143</td>\n",
              "      <td>8.106</td>\n",
              "    </tr>\n",
              "  </tbody>\n",
              "</table>\n",
              "</div>\n",
              "      <button class=\"colab-df-convert\" onclick=\"convertToInteractive('df-7f42dde5-6a38-404f-884a-e707065a8327')\"\n",
              "              title=\"Convert this dataframe to an interactive table.\"\n",
              "              style=\"display:none;\">\n",
              "        \n",
              "  <svg xmlns=\"http://www.w3.org/2000/svg\" height=\"24px\"viewBox=\"0 0 24 24\"\n",
              "       width=\"24px\">\n",
              "    <path d=\"M0 0h24v24H0V0z\" fill=\"none\"/>\n",
              "    <path d=\"M18.56 5.44l.94 2.06.94-2.06 2.06-.94-2.06-.94-.94-2.06-.94 2.06-2.06.94zm-11 1L8.5 8.5l.94-2.06 2.06-.94-2.06-.94L8.5 2.5l-.94 2.06-2.06.94zm10 10l.94 2.06.94-2.06 2.06-.94-2.06-.94-.94-2.06-.94 2.06-2.06.94z\"/><path d=\"M17.41 7.96l-1.37-1.37c-.4-.4-.92-.59-1.43-.59-.52 0-1.04.2-1.43.59L10.3 9.45l-7.72 7.72c-.78.78-.78 2.05 0 2.83L4 21.41c.39.39.9.59 1.41.59.51 0 1.02-.2 1.41-.59l7.78-7.78 2.81-2.81c.8-.78.8-2.07 0-2.86zM5.41 20L4 18.59l7.72-7.72 1.47 1.35L5.41 20z\"/>\n",
              "  </svg>\n",
              "      </button>\n",
              "      \n",
              "  <style>\n",
              "    .colab-df-container {\n",
              "      display:flex;\n",
              "      flex-wrap:wrap;\n",
              "      gap: 12px;\n",
              "    }\n",
              "\n",
              "    .colab-df-convert {\n",
              "      background-color: #E8F0FE;\n",
              "      border: none;\n",
              "      border-radius: 50%;\n",
              "      cursor: pointer;\n",
              "      display: none;\n",
              "      fill: #1967D2;\n",
              "      height: 32px;\n",
              "      padding: 0 0 0 0;\n",
              "      width: 32px;\n",
              "    }\n",
              "\n",
              "    .colab-df-convert:hover {\n",
              "      background-color: #E2EBFA;\n",
              "      box-shadow: 0px 1px 2px rgba(60, 64, 67, 0.3), 0px 1px 3px 1px rgba(60, 64, 67, 0.15);\n",
              "      fill: #174EA6;\n",
              "    }\n",
              "\n",
              "    [theme=dark] .colab-df-convert {\n",
              "      background-color: #3B4455;\n",
              "      fill: #D2E3FC;\n",
              "    }\n",
              "\n",
              "    [theme=dark] .colab-df-convert:hover {\n",
              "      background-color: #434B5C;\n",
              "      box-shadow: 0px 1px 3px 1px rgba(0, 0, 0, 0.15);\n",
              "      filter: drop-shadow(0px 1px 2px rgba(0, 0, 0, 0.3));\n",
              "      fill: #FFFFFF;\n",
              "    }\n",
              "  </style>\n",
              "\n",
              "      <script>\n",
              "        const buttonEl =\n",
              "          document.querySelector('#df-7f42dde5-6a38-404f-884a-e707065a8327 button.colab-df-convert');\n",
              "        buttonEl.style.display =\n",
              "          google.colab.kernel.accessAllowed ? 'block' : 'none';\n",
              "\n",
              "        async function convertToInteractive(key) {\n",
              "          const element = document.querySelector('#df-7f42dde5-6a38-404f-884a-e707065a8327');\n",
              "          const dataTable =\n",
              "            await google.colab.kernel.invokeFunction('convertToInteractive',\n",
              "                                                     [key], {});\n",
              "          if (!dataTable) return;\n",
              "\n",
              "          const docLinkHtml = 'Like what you see? Visit the ' +\n",
              "            '<a target=\"_blank\" href=https://colab.research.google.com/notebooks/data_table.ipynb>data table notebook</a>'\n",
              "            + ' to learn more about interactive tables.';\n",
              "          element.innerHTML = '';\n",
              "          dataTable['output_type'] = 'display_data';\n",
              "          await google.colab.output.renderOutput(dataTable, element);\n",
              "          const docLink = document.createElement('div');\n",
              "          docLink.innerHTML = docLinkHtml;\n",
              "          element.appendChild(docLink);\n",
              "        }\n",
              "      </script>\n",
              "    </div>\n",
              "  </div>\n",
              "  "
            ]
          },
          "metadata": {},
          "execution_count": 41
        }
      ]
    },
    {
      "cell_type": "markdown",
      "source": [
        "#Step2.1.Verify dataset rows [6435] and colums [8] count"
      ],
      "metadata": {
        "id": "tGrggcuRJEOK"
      }
    },
    {
      "cell_type": "code",
      "source": [
        "df.shape"
      ],
      "metadata": {
        "colab": {
          "base_uri": "https://localhost:8080/"
        },
        "id": "SsJBvFBkwKQz",
        "outputId": "e6353fed-0599-4d5a-9dae-d7bd2a1b5f6f"
      },
      "execution_count": 42,
      "outputs": [
        {
          "output_type": "execute_result",
          "data": {
            "text/plain": [
              "(6435, 8)"
            ]
          },
          "metadata": {},
          "execution_count": 42
        }
      ]
    },
    {
      "cell_type": "markdown",
      "source": [
        "#Step.2.2.View all the columns in the dataset"
      ],
      "metadata": {
        "id": "FhH7XueTJiaw"
      }
    },
    {
      "cell_type": "code",
      "source": [
        "df.columns"
      ],
      "metadata": {
        "colab": {
          "base_uri": "https://localhost:8080/"
        },
        "id": "Dgd7e478JmfN",
        "outputId": "09eca3a3-d1a4-4b83-de5c-85499f09f5d4"
      },
      "execution_count": 43,
      "outputs": [
        {
          "output_type": "execute_result",
          "data": {
            "text/plain": [
              "Index(['Store', 'Date', 'Weekly_Sales', 'Holiday_Flag', 'Temperature',\n",
              "       'Fuel_Price', 'CPI', 'Unemployment'],\n",
              "      dtype='object')"
            ]
          },
          "metadata": {},
          "execution_count": 43
        }
      ]
    },
    {
      "cell_type": "code",
      "source": [
        "df.describe().T.style.background_gradient(subset=['25%','75%'], cmap='Greys')"
      ],
      "metadata": {
        "colab": {
          "base_uri": "https://localhost:8080/",
          "height": 269
        },
        "id": "_ONsAzuJxO_J",
        "outputId": "831583bc-6b55-4393-d30b-f4e97cefc3b9"
      },
      "execution_count": 44,
      "outputs": [
        {
          "output_type": "execute_result",
          "data": {
            "text/plain": [
              "<pandas.io.formats.style.Styler at 0x7fb67f264d50>"
            ],
            "text/html": [
              "<style type=\"text/css\">\n",
              "#T_af543_row0_col4, #T_af543_row0_col6, #T_af543_row2_col4, #T_af543_row2_col6, #T_af543_row3_col4, #T_af543_row3_col6, #T_af543_row4_col4, #T_af543_row4_col6, #T_af543_row5_col4, #T_af543_row5_col6, #T_af543_row6_col4, #T_af543_row6_col6 {\n",
              "  background-color: #ffffff;\n",
              "  color: #000000;\n",
              "}\n",
              "#T_af543_row1_col4, #T_af543_row1_col6 {\n",
              "  background-color: #000000;\n",
              "  color: #f1f1f1;\n",
              "}\n",
              "</style>\n",
              "<table id=\"T_af543_\" class=\"dataframe\">\n",
              "  <thead>\n",
              "    <tr>\n",
              "      <th class=\"blank level0\" >&nbsp;</th>\n",
              "      <th class=\"col_heading level0 col0\" >count</th>\n",
              "      <th class=\"col_heading level0 col1\" >mean</th>\n",
              "      <th class=\"col_heading level0 col2\" >std</th>\n",
              "      <th class=\"col_heading level0 col3\" >min</th>\n",
              "      <th class=\"col_heading level0 col4\" >25%</th>\n",
              "      <th class=\"col_heading level0 col5\" >50%</th>\n",
              "      <th class=\"col_heading level0 col6\" >75%</th>\n",
              "      <th class=\"col_heading level0 col7\" >max</th>\n",
              "    </tr>\n",
              "  </thead>\n",
              "  <tbody>\n",
              "    <tr>\n",
              "      <th id=\"T_af543_level0_row0\" class=\"row_heading level0 row0\" >Store</th>\n",
              "      <td id=\"T_af543_row0_col0\" class=\"data row0 col0\" >6435.000000</td>\n",
              "      <td id=\"T_af543_row0_col1\" class=\"data row0 col1\" >23.000000</td>\n",
              "      <td id=\"T_af543_row0_col2\" class=\"data row0 col2\" >12.988182</td>\n",
              "      <td id=\"T_af543_row0_col3\" class=\"data row0 col3\" >1.000000</td>\n",
              "      <td id=\"T_af543_row0_col4\" class=\"data row0 col4\" >12.000000</td>\n",
              "      <td id=\"T_af543_row0_col5\" class=\"data row0 col5\" >23.000000</td>\n",
              "      <td id=\"T_af543_row0_col6\" class=\"data row0 col6\" >34.000000</td>\n",
              "      <td id=\"T_af543_row0_col7\" class=\"data row0 col7\" >45.000000</td>\n",
              "    </tr>\n",
              "    <tr>\n",
              "      <th id=\"T_af543_level0_row1\" class=\"row_heading level0 row1\" >Weekly_Sales</th>\n",
              "      <td id=\"T_af543_row1_col0\" class=\"data row1 col0\" >6435.000000</td>\n",
              "      <td id=\"T_af543_row1_col1\" class=\"data row1 col1\" >1046964.877562</td>\n",
              "      <td id=\"T_af543_row1_col2\" class=\"data row1 col2\" >564366.622054</td>\n",
              "      <td id=\"T_af543_row1_col3\" class=\"data row1 col3\" >209986.250000</td>\n",
              "      <td id=\"T_af543_row1_col4\" class=\"data row1 col4\" >553350.105000</td>\n",
              "      <td id=\"T_af543_row1_col5\" class=\"data row1 col5\" >960746.040000</td>\n",
              "      <td id=\"T_af543_row1_col6\" class=\"data row1 col6\" >1420158.660000</td>\n",
              "      <td id=\"T_af543_row1_col7\" class=\"data row1 col7\" >3818686.450000</td>\n",
              "    </tr>\n",
              "    <tr>\n",
              "      <th id=\"T_af543_level0_row2\" class=\"row_heading level0 row2\" >Holiday_Flag</th>\n",
              "      <td id=\"T_af543_row2_col0\" class=\"data row2 col0\" >6435.000000</td>\n",
              "      <td id=\"T_af543_row2_col1\" class=\"data row2 col1\" >0.069930</td>\n",
              "      <td id=\"T_af543_row2_col2\" class=\"data row2 col2\" >0.255049</td>\n",
              "      <td id=\"T_af543_row2_col3\" class=\"data row2 col3\" >0.000000</td>\n",
              "      <td id=\"T_af543_row2_col4\" class=\"data row2 col4\" >0.000000</td>\n",
              "      <td id=\"T_af543_row2_col5\" class=\"data row2 col5\" >0.000000</td>\n",
              "      <td id=\"T_af543_row2_col6\" class=\"data row2 col6\" >0.000000</td>\n",
              "      <td id=\"T_af543_row2_col7\" class=\"data row2 col7\" >1.000000</td>\n",
              "    </tr>\n",
              "    <tr>\n",
              "      <th id=\"T_af543_level0_row3\" class=\"row_heading level0 row3\" >Temperature</th>\n",
              "      <td id=\"T_af543_row3_col0\" class=\"data row3 col0\" >6435.000000</td>\n",
              "      <td id=\"T_af543_row3_col1\" class=\"data row3 col1\" >60.663782</td>\n",
              "      <td id=\"T_af543_row3_col2\" class=\"data row3 col2\" >18.444933</td>\n",
              "      <td id=\"T_af543_row3_col3\" class=\"data row3 col3\" >-2.060000</td>\n",
              "      <td id=\"T_af543_row3_col4\" class=\"data row3 col4\" >47.460000</td>\n",
              "      <td id=\"T_af543_row3_col5\" class=\"data row3 col5\" >62.670000</td>\n",
              "      <td id=\"T_af543_row3_col6\" class=\"data row3 col6\" >74.940000</td>\n",
              "      <td id=\"T_af543_row3_col7\" class=\"data row3 col7\" >100.140000</td>\n",
              "    </tr>\n",
              "    <tr>\n",
              "      <th id=\"T_af543_level0_row4\" class=\"row_heading level0 row4\" >Fuel_Price</th>\n",
              "      <td id=\"T_af543_row4_col0\" class=\"data row4 col0\" >6435.000000</td>\n",
              "      <td id=\"T_af543_row4_col1\" class=\"data row4 col1\" >3.358607</td>\n",
              "      <td id=\"T_af543_row4_col2\" class=\"data row4 col2\" >0.459020</td>\n",
              "      <td id=\"T_af543_row4_col3\" class=\"data row4 col3\" >2.472000</td>\n",
              "      <td id=\"T_af543_row4_col4\" class=\"data row4 col4\" >2.933000</td>\n",
              "      <td id=\"T_af543_row4_col5\" class=\"data row4 col5\" >3.445000</td>\n",
              "      <td id=\"T_af543_row4_col6\" class=\"data row4 col6\" >3.735000</td>\n",
              "      <td id=\"T_af543_row4_col7\" class=\"data row4 col7\" >4.468000</td>\n",
              "    </tr>\n",
              "    <tr>\n",
              "      <th id=\"T_af543_level0_row5\" class=\"row_heading level0 row5\" >CPI</th>\n",
              "      <td id=\"T_af543_row5_col0\" class=\"data row5 col0\" >6435.000000</td>\n",
              "      <td id=\"T_af543_row5_col1\" class=\"data row5 col1\" >171.578394</td>\n",
              "      <td id=\"T_af543_row5_col2\" class=\"data row5 col2\" >39.356712</td>\n",
              "      <td id=\"T_af543_row5_col3\" class=\"data row5 col3\" >126.064000</td>\n",
              "      <td id=\"T_af543_row5_col4\" class=\"data row5 col4\" >131.735000</td>\n",
              "      <td id=\"T_af543_row5_col5\" class=\"data row5 col5\" >182.616521</td>\n",
              "      <td id=\"T_af543_row5_col6\" class=\"data row5 col6\" >212.743293</td>\n",
              "      <td id=\"T_af543_row5_col7\" class=\"data row5 col7\" >227.232807</td>\n",
              "    </tr>\n",
              "    <tr>\n",
              "      <th id=\"T_af543_level0_row6\" class=\"row_heading level0 row6\" >Unemployment</th>\n",
              "      <td id=\"T_af543_row6_col0\" class=\"data row6 col0\" >6435.000000</td>\n",
              "      <td id=\"T_af543_row6_col1\" class=\"data row6 col1\" >7.999151</td>\n",
              "      <td id=\"T_af543_row6_col2\" class=\"data row6 col2\" >1.875885</td>\n",
              "      <td id=\"T_af543_row6_col3\" class=\"data row6 col3\" >3.879000</td>\n",
              "      <td id=\"T_af543_row6_col4\" class=\"data row6 col4\" >6.891000</td>\n",
              "      <td id=\"T_af543_row6_col5\" class=\"data row6 col5\" >7.874000</td>\n",
              "      <td id=\"T_af543_row6_col6\" class=\"data row6 col6\" >8.622000</td>\n",
              "      <td id=\"T_af543_row6_col7\" class=\"data row6 col7\" >14.313000</td>\n",
              "    </tr>\n",
              "  </tbody>\n",
              "</table>\n"
            ]
          },
          "metadata": {},
          "execution_count": 44
        }
      ]
    },
    {
      "cell_type": "code",
      "source": [
        "df.isnull().sum()"
      ],
      "metadata": {
        "colab": {
          "base_uri": "https://localhost:8080/"
        },
        "id": "k8mLZr2U06Ft",
        "outputId": "cacd2351-f7c1-472e-e934-cfbf407fb53a"
      },
      "execution_count": 45,
      "outputs": [
        {
          "output_type": "execute_result",
          "data": {
            "text/plain": [
              "Store           0\n",
              "Date            0\n",
              "Weekly_Sales    0\n",
              "Holiday_Flag    0\n",
              "Temperature     0\n",
              "Fuel_Price      0\n",
              "CPI             0\n",
              "Unemployment    0\n",
              "dtype: int64"
            ]
          },
          "metadata": {},
          "execution_count": 45
        }
      ]
    },
    {
      "cell_type": "markdown",
      "source": [
        "# Inference : Intrestingly , there are NO null values in the given dataset** ☹"
      ],
      "metadata": {
        "id": "zgF0lvjIKOVo"
      }
    },
    {
      "cell_type": "markdown",
      "source": [
        "#Step:2.4.Checking number of unique rows in each feature"
      ],
      "metadata": {
        "id": "9hc6uNs0W4Wa"
      }
    },
    {
      "cell_type": "code",
      "source": [
        "df.nunique().sort_values()"
      ],
      "metadata": {
        "colab": {
          "base_uri": "https://localhost:8080/"
        },
        "id": "D8PKxfDWW6WI",
        "outputId": "f1a03a16-9683-4fe3-fcca-54a8b35bb107"
      },
      "execution_count": 46,
      "outputs": [
        {
          "output_type": "execute_result",
          "data": {
            "text/plain": [
              "Holiday_Flag       2\n",
              "Store             45\n",
              "Date             143\n",
              "Unemployment     349\n",
              "Fuel_Price       892\n",
              "CPI             2145\n",
              "Temperature     3528\n",
              "Weekly_Sales    6435\n",
              "dtype: int64"
            ]
          },
          "metadata": {},
          "execution_count": 46
        }
      ]
    },
    {
      "cell_type": "markdown",
      "source": [
        "#Step:2.5.Split the data into features and target variable & date column into day,month,year for better data analysis"
      ],
      "metadata": {
        "id": "eDZHbPfkv2OG"
      }
    },
    {
      "cell_type": "code",
      "source": [
        "# Reframing the columns\n",
        "\n",
        "df.Date=pd.to_datetime(df.Date)\n",
        "\n",
        "#df['weekday'] = df.Date.dt.weekday\n",
        "#df['month'] = df.Date.dt.month\n",
        "#df['year'] = df.Date.dt.year\n",
        "\n",
        "df['Date'] = pd.to_datetime(df['Date'])\n",
        "df['Year'] = (df.Date.dt.year).astype(int)\n",
        "df['Month'] = (df.Date.dt.month).astype(int)\n",
        "df['Week'] = ((df.Date.dt.isocalendar().week)*1.0).astype(int)\n",
        "df['Day'] = (df.Date.dt.day).astype(int)\n",
        "\n",
        "\n",
        "target = 'Weekly_Sales'\n",
        "features = [i for i in df.columns if i not in [target]]\n",
        "original_df = df.copy(deep=True)\n",
        "\n",
        "df.head()"
      ],
      "metadata": {
        "colab": {
          "base_uri": "https://localhost:8080/",
          "height": 206
        },
        "id": "qVWlLdhJXfHa",
        "outputId": "06a83108-3563-48ab-ced1-25ab972a72dc"
      },
      "execution_count": 47,
      "outputs": [
        {
          "output_type": "execute_result",
          "data": {
            "text/plain": [
              "   Store       Date  Weekly_Sales  Holiday_Flag  Temperature  Fuel_Price  \\\n",
              "0      1 2010-05-02    1643690.90             0        42.31       2.572   \n",
              "1      1 2010-12-02    1641957.44             1        38.51       2.548   \n",
              "2      1 2010-02-19    1611968.17             0        39.93       2.514   \n",
              "3      1 2010-02-26    1409727.59             0        46.63       2.561   \n",
              "4      1 2010-05-03    1554806.68             0        46.50       2.625   \n",
              "\n",
              "          CPI  Unemployment  Year  Month  Week  Day  \n",
              "0  211.096358         8.106  2010      5    17    2  \n",
              "1  211.242170         8.106  2010     12    48    2  \n",
              "2  211.289143         8.106  2010      2     7   19  \n",
              "3  211.319643         8.106  2010      2     8   26  \n",
              "4  211.350143         8.106  2010      5    18    3  "
            ],
            "text/html": [
              "\n",
              "  <div id=\"df-32c9b62c-d45a-4778-b812-95cce42b4a3c\">\n",
              "    <div class=\"colab-df-container\">\n",
              "      <div>\n",
              "<style scoped>\n",
              "    .dataframe tbody tr th:only-of-type {\n",
              "        vertical-align: middle;\n",
              "    }\n",
              "\n",
              "    .dataframe tbody tr th {\n",
              "        vertical-align: top;\n",
              "    }\n",
              "\n",
              "    .dataframe thead th {\n",
              "        text-align: right;\n",
              "    }\n",
              "</style>\n",
              "<table border=\"1\" class=\"dataframe\">\n",
              "  <thead>\n",
              "    <tr style=\"text-align: right;\">\n",
              "      <th></th>\n",
              "      <th>Store</th>\n",
              "      <th>Date</th>\n",
              "      <th>Weekly_Sales</th>\n",
              "      <th>Holiday_Flag</th>\n",
              "      <th>Temperature</th>\n",
              "      <th>Fuel_Price</th>\n",
              "      <th>CPI</th>\n",
              "      <th>Unemployment</th>\n",
              "      <th>Year</th>\n",
              "      <th>Month</th>\n",
              "      <th>Week</th>\n",
              "      <th>Day</th>\n",
              "    </tr>\n",
              "  </thead>\n",
              "  <tbody>\n",
              "    <tr>\n",
              "      <th>0</th>\n",
              "      <td>1</td>\n",
              "      <td>2010-05-02</td>\n",
              "      <td>1643690.90</td>\n",
              "      <td>0</td>\n",
              "      <td>42.31</td>\n",
              "      <td>2.572</td>\n",
              "      <td>211.096358</td>\n",
              "      <td>8.106</td>\n",
              "      <td>2010</td>\n",
              "      <td>5</td>\n",
              "      <td>17</td>\n",
              "      <td>2</td>\n",
              "    </tr>\n",
              "    <tr>\n",
              "      <th>1</th>\n",
              "      <td>1</td>\n",
              "      <td>2010-12-02</td>\n",
              "      <td>1641957.44</td>\n",
              "      <td>1</td>\n",
              "      <td>38.51</td>\n",
              "      <td>2.548</td>\n",
              "      <td>211.242170</td>\n",
              "      <td>8.106</td>\n",
              "      <td>2010</td>\n",
              "      <td>12</td>\n",
              "      <td>48</td>\n",
              "      <td>2</td>\n",
              "    </tr>\n",
              "    <tr>\n",
              "      <th>2</th>\n",
              "      <td>1</td>\n",
              "      <td>2010-02-19</td>\n",
              "      <td>1611968.17</td>\n",
              "      <td>0</td>\n",
              "      <td>39.93</td>\n",
              "      <td>2.514</td>\n",
              "      <td>211.289143</td>\n",
              "      <td>8.106</td>\n",
              "      <td>2010</td>\n",
              "      <td>2</td>\n",
              "      <td>7</td>\n",
              "      <td>19</td>\n",
              "    </tr>\n",
              "    <tr>\n",
              "      <th>3</th>\n",
              "      <td>1</td>\n",
              "      <td>2010-02-26</td>\n",
              "      <td>1409727.59</td>\n",
              "      <td>0</td>\n",
              "      <td>46.63</td>\n",
              "      <td>2.561</td>\n",
              "      <td>211.319643</td>\n",
              "      <td>8.106</td>\n",
              "      <td>2010</td>\n",
              "      <td>2</td>\n",
              "      <td>8</td>\n",
              "      <td>26</td>\n",
              "    </tr>\n",
              "    <tr>\n",
              "      <th>4</th>\n",
              "      <td>1</td>\n",
              "      <td>2010-05-03</td>\n",
              "      <td>1554806.68</td>\n",
              "      <td>0</td>\n",
              "      <td>46.50</td>\n",
              "      <td>2.625</td>\n",
              "      <td>211.350143</td>\n",
              "      <td>8.106</td>\n",
              "      <td>2010</td>\n",
              "      <td>5</td>\n",
              "      <td>18</td>\n",
              "      <td>3</td>\n",
              "    </tr>\n",
              "  </tbody>\n",
              "</table>\n",
              "</div>\n",
              "      <button class=\"colab-df-convert\" onclick=\"convertToInteractive('df-32c9b62c-d45a-4778-b812-95cce42b4a3c')\"\n",
              "              title=\"Convert this dataframe to an interactive table.\"\n",
              "              style=\"display:none;\">\n",
              "        \n",
              "  <svg xmlns=\"http://www.w3.org/2000/svg\" height=\"24px\"viewBox=\"0 0 24 24\"\n",
              "       width=\"24px\">\n",
              "    <path d=\"M0 0h24v24H0V0z\" fill=\"none\"/>\n",
              "    <path d=\"M18.56 5.44l.94 2.06.94-2.06 2.06-.94-2.06-.94-.94-2.06-.94 2.06-2.06.94zm-11 1L8.5 8.5l.94-2.06 2.06-.94-2.06-.94L8.5 2.5l-.94 2.06-2.06.94zm10 10l.94 2.06.94-2.06 2.06-.94-2.06-.94-.94-2.06-.94 2.06-2.06.94z\"/><path d=\"M17.41 7.96l-1.37-1.37c-.4-.4-.92-.59-1.43-.59-.52 0-1.04.2-1.43.59L10.3 9.45l-7.72 7.72c-.78.78-.78 2.05 0 2.83L4 21.41c.39.39.9.59 1.41.59.51 0 1.02-.2 1.41-.59l7.78-7.78 2.81-2.81c.8-.78.8-2.07 0-2.86zM5.41 20L4 18.59l7.72-7.72 1.47 1.35L5.41 20z\"/>\n",
              "  </svg>\n",
              "      </button>\n",
              "      \n",
              "  <style>\n",
              "    .colab-df-container {\n",
              "      display:flex;\n",
              "      flex-wrap:wrap;\n",
              "      gap: 12px;\n",
              "    }\n",
              "\n",
              "    .colab-df-convert {\n",
              "      background-color: #E8F0FE;\n",
              "      border: none;\n",
              "      border-radius: 50%;\n",
              "      cursor: pointer;\n",
              "      display: none;\n",
              "      fill: #1967D2;\n",
              "      height: 32px;\n",
              "      padding: 0 0 0 0;\n",
              "      width: 32px;\n",
              "    }\n",
              "\n",
              "    .colab-df-convert:hover {\n",
              "      background-color: #E2EBFA;\n",
              "      box-shadow: 0px 1px 2px rgba(60, 64, 67, 0.3), 0px 1px 3px 1px rgba(60, 64, 67, 0.15);\n",
              "      fill: #174EA6;\n",
              "    }\n",
              "\n",
              "    [theme=dark] .colab-df-convert {\n",
              "      background-color: #3B4455;\n",
              "      fill: #D2E3FC;\n",
              "    }\n",
              "\n",
              "    [theme=dark] .colab-df-convert:hover {\n",
              "      background-color: #434B5C;\n",
              "      box-shadow: 0px 1px 3px 1px rgba(0, 0, 0, 0.15);\n",
              "      filter: drop-shadow(0px 1px 2px rgba(0, 0, 0, 0.3));\n",
              "      fill: #FFFFFF;\n",
              "    }\n",
              "  </style>\n",
              "\n",
              "      <script>\n",
              "        const buttonEl =\n",
              "          document.querySelector('#df-32c9b62c-d45a-4778-b812-95cce42b4a3c button.colab-df-convert');\n",
              "        buttonEl.style.display =\n",
              "          google.colab.kernel.accessAllowed ? 'block' : 'none';\n",
              "\n",
              "        async function convertToInteractive(key) {\n",
              "          const element = document.querySelector('#df-32c9b62c-d45a-4778-b812-95cce42b4a3c');\n",
              "          const dataTable =\n",
              "            await google.colab.kernel.invokeFunction('convertToInteractive',\n",
              "                                                     [key], {});\n",
              "          if (!dataTable) return;\n",
              "\n",
              "          const docLinkHtml = 'Like what you see? Visit the ' +\n",
              "            '<a target=\"_blank\" href=https://colab.research.google.com/notebooks/data_table.ipynb>data table notebook</a>'\n",
              "            + ' to learn more about interactive tables.';\n",
              "          element.innerHTML = '';\n",
              "          dataTable['output_type'] = 'display_data';\n",
              "          await google.colab.output.renderOutput(dataTable, element);\n",
              "          const docLink = document.createElement('div');\n",
              "          docLink.innerHTML = docLinkHtml;\n",
              "          element.appendChild(docLink);\n",
              "        }\n",
              "      </script>\n",
              "    </div>\n",
              "  </div>\n",
              "  "
            ]
          },
          "metadata": {},
          "execution_count": 47
        }
      ]
    },
    {
      "cell_type": "markdown",
      "source": [
        "#Step:2.6.Checking types of data in each feature"
      ],
      "metadata": {
        "id": "bzWEA5JtXuFL"
      }
    },
    {
      "cell_type": "code",
      "source": [
        "nu = df[features].nunique().sort_values()\n",
        "nf = []; cf = []; nnf = 0; ncf = 0; \n",
        "for i in range(df[features].shape[1]):\n",
        "    if nu.values[i]<=45:cf.append(nu.index[i])\n",
        "    else: nf.append(nu.index[i])\n",
        "\n",
        "print('\\n\\033[1mInference:\\033[0m The Datset has {} numerical & {} categorical features.'.format(len(nf),len(cf))) "
      ],
      "metadata": {
        "colab": {
          "base_uri": "https://localhost:8080/"
        },
        "id": "zUcSk2UdXG9D",
        "outputId": "5ed44719-2de4-49c4-9d39-0a56eda573a6"
      },
      "execution_count": 48,
      "outputs": [
        {
          "output_type": "stream",
          "name": "stdout",
          "text": [
            "\n",
            "\u001b[1mInference:\u001b[0m The Datset has 6 numerical & 5 categorical features.\n"
          ]
        }
      ]
    },
    {
      "cell_type": "markdown",
      "source": [
        "#Step.2.7.Inference: The Datset has 5 numerical & 5 categorical features."
      ],
      "metadata": {
        "id": "-xc9nan3w3M2"
      }
    },
    {
      "cell_type": "markdown",
      "source": [
        "# Step :3 Exploratory Data Analysis (EDA)"
      ],
      "metadata": {
        "id": "cgXnsEqpYYUB"
      }
    },
    {
      "cell_type": "markdown",
      "source": [
        "#Step.3.1.Let us first analyze the distribution of the target variable (Weekly_sales)"
      ],
      "metadata": {
        "id": "KY_OfqJUYr0J"
      }
    },
    {
      "cell_type": "code",
      "source": [
        "plt.figure(figsize=[8,4])\n",
        "sns.distplot(df[target], color='g',hist_kws=dict(edgecolor=\"black\", linewidth=2), bins=30)\n",
        "plt.title('Target Variable Distribution - Median Value of Homes ($1Ms)')\n",
        "plt.show()"
      ],
      "metadata": {
        "colab": {
          "base_uri": "https://localhost:8080/",
          "height": 296
        },
        "id": "uSHyPYtaYyqx",
        "outputId": "14b88b82-8488-4d92-bdca-7513912eb23e"
      },
      "execution_count": 49,
      "outputs": [
        {
          "output_type": "display_data",
          "data": {
            "text/plain": [
              "<Figure size 576x288 with 1 Axes>"
            ],
            "image/png": "[encoded data removed]"
          },
          "metadata": {
            "needs_background": "light"
          }
        }
      ]
    },
    {
      "cell_type": "markdown",
      "source": [
        "#Step.3.2.Inference:The Target Variable (weekly Sales) seems to be be normally distributed, averaging around 20 units."
      ],
      "metadata": {
        "id": "bqZOr8zaZIIE"
      }
    },
    {
      "cell_type": "markdown",
      "source": [
        "#Step.3.3.Let's look at sales anlaysis "
      ],
      "metadata": {
        "id": "eo9brSq2aCOU"
      }
    },
    {
      "cell_type": "code",
      "source": [
        "total_sales= df.groupby('Store')['Weekly_Sales'].sum().sort_values() \n",
        "total_sales_array = np.array(total_sales)\n",
        "plt.figure(figsize=(15,7))\n",
        "plt.xticks(rotation=0)\n",
        "plt.ticklabel_format(useOffset=False, style='plain', axis='y')\n",
        "plt.title('Total sales for each store')\n",
        "plt.xlabel('Store')\n",
        "plt.ylabel('Total Sales')\n",
        "total_sales.plot(kind='bar')"
      ],
      "metadata": {
        "colab": {
          "base_uri": "https://localhost:8080/",
          "height": 478
        },
        "id": "uW-_PNx9aJmM",
        "outputId": "9355859c-2098-4fb1-b56f-a71c0a1ee1ca"
      },
      "execution_count": 50,
      "outputs": [
        {
          "output_type": "execute_result",
          "data": {
            "text/plain": [
              "<matplotlib.axes._subplots.AxesSubplot at 0x7fb67bdc8dd0>"
            ]
          },
          "metadata": {},
          "execution_count": 50
        },
        {
          "output_type": "display_data",
          "data": {
            "text/plain": [
              "<Figure size 1080x504 with 1 Axes>"
            ],
            "image/png": "[encoded data removed]"
          },
          "metadata": {
            "needs_background": "light"
          }
        }
      ]
    },
    {
      "cell_type": "markdown",
      "source": [
        "##Step.3.4.Interference : a. Store-20 has maximum sales b. Store-33 has minmum sales"
      ],
      "metadata": {
        "id": "l-0wG64eaSaj"
      }
    },
    {
      "cell_type": "code",
      "source": [
        "walmart_data_std = pd.DataFrame(df.groupby('Store')['Weekly_Sales'].std().sort_values(ascending=False))\n",
        "walmart_data_std.head(1).index[0] , walmart_data_std.head(1).Weekly_Sales[walmart_data_std.head(1).index[0]]"
      ],
      "metadata": {
        "colab": {
          "base_uri": "https://localhost:8080/"
        },
        "id": "i3pZPXRdbRWr",
        "outputId": "9fa236b0-febc-48ea-acef-2e702e6837b9"
      },
      "execution_count": 54,
      "outputs": [
        {
          "output_type": "execute_result",
          "data": {
            "text/plain": [
              "(14, 317569.9494755081)"
            ]
          },
          "metadata": {},
          "execution_count": 54
        }
      ]
    },
    {
      "cell_type": "markdown",
      "source": [
        "#Step.3.5.Inference : Store-14 has maximum standard deviation , thus it has sales more sales variation... let's look at the data distribution for store-14"
      ],
      "metadata": {
        "id": "N62z4GHpbXOa"
      }
    },
    {
      "cell_type": "code",
      "source": [
        "plt.figure(figsize=(15,7))\n",
        "sns.distplot(df[df['Store'] == walmart_data_std.head(1).index[0]]['Weekly_Sales'])\n",
        "plt.title('The Sales Distribution of Store No.'+ str(walmart_data_std.head(1).index[0]))\n",
        "import warnings\n",
        "warnings.filterwarnings('ignore')"
      ],
      "metadata": {
        "colab": {
          "base_uri": "https://localhost:8080/",
          "height": 459
        },
        "id": "MVWVNqK0b18g",
        "outputId": "a82d28e7-ceff-4dd2-8209-4eefa5faf77b"
      },
      "execution_count": 58,
      "outputs": [
        {
          "output_type": "display_data",
          "data": {
            "text/plain": [
              "<Figure size 1080x504 with 1 Axes>"
            ],
            "image/png": "[encoded data removed]"
          },
          "metadata": {
            "needs_background": "light"
          }
        }
      ]
    },
    {
      "cell_type": "markdown",
      "source": [
        "#Calculating the coefficient of mean to standard deviation"
      ],
      "metadata": {
        "id": "BxBZVpY7cH0E"
      }
    },
    {
      "cell_type": "code",
      "source": [
        "coef = pd.DataFrame(df.groupby('Store')['Weekly_Sales'].std() / df.groupby('Store')['Weekly_Sales'].mean())\n",
        "coef = coef.rename(columns={'Weekly_Sales':'Coefficient of mean to standard deviation'})\n",
        "coef_max = coef.sort_values(by='Coefficient of mean to standard deviation',ascending=False)\n",
        "coef_max.head(7)"
      ],
      "metadata": {
        "colab": {
          "base_uri": "https://localhost:8080/",
          "height": 300
        },
        "id": "BuTeLK1HcJes",
        "outputId": "901297d9-0477-41d6-f665-3ded2ca432ab"
      },
      "execution_count": 56,
      "outputs": [
        {
          "output_type": "execute_result",
          "data": {
            "text/plain": [
              "       Coefficient of mean to standard deviation\n",
              "Store                                           \n",
              "35                                      0.229681\n",
              "7                                       0.197305\n",
              "15                                      0.193384\n",
              "29                                      0.183742\n",
              "23                                      0.179721\n",
              "21                                      0.170292\n",
              "45                                      0.165613"
            ],
            "text/html": [
              "\n",
              "  <div id=\"df-be88420a-b5b5-41de-b704-a8ba384863eb\">\n",
              "    <div class=\"colab-df-container\">\n",
              "      <div>\n",
              "<style scoped>\n",
              "    .dataframe tbody tr th:only-of-type {\n",
              "        vertical-align: middle;\n",
              "    }\n",
              "\n",
              "    .dataframe tbody tr th {\n",
              "        vertical-align: top;\n",
              "    }\n",
              "\n",
              "    .dataframe thead th {\n",
              "        text-align: right;\n",
              "    }\n",
              "</style>\n",
              "<table border=\"1\" class=\"dataframe\">\n",
              "  <thead>\n",
              "    <tr style=\"text-align: right;\">\n",
              "      <th></th>\n",
              "      <th>Coefficient of mean to standard deviation</th>\n",
              "    </tr>\n",
              "    <tr>\n",
              "      <th>Store</th>\n",
              "      <th></th>\n",
              "    </tr>\n",
              "  </thead>\n",
              "  <tbody>\n",
              "    <tr>\n",
              "      <th>35</th>\n",
              "      <td>0.229681</td>\n",
              "    </tr>\n",
              "    <tr>\n",
              "      <th>7</th>\n",
              "      <td>0.197305</td>\n",
              "    </tr>\n",
              "    <tr>\n",
              "      <th>15</th>\n",
              "      <td>0.193384</td>\n",
              "    </tr>\n",
              "    <tr>\n",
              "      <th>29</th>\n",
              "      <td>0.183742</td>\n",
              "    </tr>\n",
              "    <tr>\n",
              "      <th>23</th>\n",
              "      <td>0.179721</td>\n",
              "    </tr>\n",
              "    <tr>\n",
              "      <th>21</th>\n",
              "      <td>0.170292</td>\n",
              "    </tr>\n",
              "    <tr>\n",
              "      <th>45</th>\n",
              "      <td>0.165613</td>\n",
              "    </tr>\n",
              "  </tbody>\n",
              "</table>\n",
              "</div>\n",
              "      <button class=\"colab-df-convert\" onclick=\"convertToInteractive('df-be88420a-b5b5-41de-b704-a8ba384863eb')\"\n",
              "              title=\"Convert this dataframe to an interactive table.\"\n",
              "              style=\"display:none;\">\n",
              "        \n",
              "  <svg xmlns=\"http://www.w3.org/2000/svg\" height=\"24px\"viewBox=\"0 0 24 24\"\n",
              "       width=\"24px\">\n",
              "    <path d=\"M0 0h24v24H0V0z\" fill=\"none\"/>\n",
              "    <path d=\"M18.56 5.44l.94 2.06.94-2.06 2.06-.94-2.06-.94-.94-2.06-.94 2.06-2.06.94zm-11 1L8.5 8.5l.94-2.06 2.06-.94-2.06-.94L8.5 2.5l-.94 2.06-2.06.94zm10 10l.94 2.06.94-2.06 2.06-.94-2.06-.94-.94-2.06-.94 2.06-2.06.94z\"/><path d=\"M17.41 7.96l-1.37-1.37c-.4-.4-.92-.59-1.43-.59-.52 0-1.04.2-1.43.59L10.3 9.45l-7.72 7.72c-.78.78-.78 2.05 0 2.83L4 21.41c.39.39.9.59 1.41.59.51 0 1.02-.2 1.41-.59l7.78-7.78 2.81-2.81c.8-.78.8-2.07 0-2.86zM5.41 20L4 18.59l7.72-7.72 1.47 1.35L5.41 20z\"/>\n",
              "  </svg>\n",
              "      </button>\n",
              "      \n",
              "  <style>\n",
              "    .colab-df-container {\n",
              "      display:flex;\n",
              "      flex-wrap:wrap;\n",
              "      gap: 12px;\n",
              "    }\n",
              "\n",
              "    .colab-df-convert {\n",
              "      background-color: #E8F0FE;\n",
              "      border: none;\n",
              "      border-radius: 50%;\n",
              "      cursor: pointer;\n",
              "      display: none;\n",
              "      fill: #1967D2;\n",
              "      height: 32px;\n",
              "      padding: 0 0 0 0;\n",
              "      width: 32px;\n",
              "    }\n",
              "\n",
              "    .colab-df-convert:hover {\n",
              "      background-color: #E2EBFA;\n",
              "      box-shadow: 0px 1px 2px rgba(60, 64, 67, 0.3), 0px 1px 3px 1px rgba(60, 64, 67, 0.15);\n",
              "      fill: #174EA6;\n",
              "    }\n",
              "\n",
              "    [theme=dark] .colab-df-convert {\n",
              "      background-color: #3B4455;\n",
              "      fill: #D2E3FC;\n",
              "    }\n",
              "\n",
              "    [theme=dark] .colab-df-convert:hover {\n",
              "      background-color: #434B5C;\n",
              "      box-shadow: 0px 1px 3px 1px rgba(0, 0, 0, 0.15);\n",
              "      filter: drop-shadow(0px 1px 2px rgba(0, 0, 0, 0.3));\n",
              "      fill: #FFFFFF;\n",
              "    }\n",
              "  </style>\n",
              "\n",
              "      <script>\n",
              "        const buttonEl =\n",
              "          document.querySelector('#df-be88420a-b5b5-41de-b704-a8ba384863eb button.colab-df-convert');\n",
              "        buttonEl.style.display =\n",
              "          google.colab.kernel.accessAllowed ? 'block' : 'none';\n",
              "\n",
              "        async function convertToInteractive(key) {\n",
              "          const element = document.querySelector('#df-be88420a-b5b5-41de-b704-a8ba384863eb');\n",
              "          const dataTable =\n",
              "            await google.colab.kernel.invokeFunction('convertToInteractive',\n",
              "                                                     [key], {});\n",
              "          if (!dataTable) return;\n",
              "\n",
              "          const docLinkHtml = 'Like what you see? Visit the ' +\n",
              "            '<a target=\"_blank\" href=https://colab.research.google.com/notebooks/data_table.ipynb>data table notebook</a>'\n",
              "            + ' to learn more about interactive tables.';\n",
              "          element.innerHTML = '';\n",
              "          dataTable['output_type'] = 'display_data';\n",
              "          await google.colab.output.renderOutput(dataTable, element);\n",
              "          const docLink = document.createElement('div');\n",
              "          docLink.innerHTML = docLinkHtml;\n",
              "          element.appendChild(docLink);\n",
              "        }\n",
              "      </script>\n",
              "    </div>\n",
              "  </div>\n",
              "  "
            ]
          },
          "metadata": {},
          "execution_count": 56
        }
      ]
    },
    {
      "cell_type": "markdown",
      "source": [
        "##Step.3.6.Inference : Store-35 has more maximum coefficient of mean to standard deviation\n",
        "\n",
        "# Let look at the data distribution"
      ],
      "metadata": {
        "id": "IBwz0q4ucQzH"
      }
    },
    {
      "cell_type": "code",
      "source": [
        "plt.figure(figsize=(15,7))\n",
        "sns.distplot(df[df['Store'] == coef_max.head(1).index[0]]['Weekly_Sales'])\n",
        "plt.title('The Sales Distribution of Store No.'+str(coef_max.head(1).index[0]))\n",
        "import warnings\n",
        "warnings.filterwarnings('ignore')"
      ],
      "metadata": {
        "colab": {
          "base_uri": "https://localhost:8080/",
          "height": 459
        },
        "id": "QbZ_wIOfcoEb",
        "outputId": "8a1b995f-735c-4d52-eca2-8c4a8b637571"
      },
      "execution_count": 57,
      "outputs": [
        {
          "output_type": "display_data",
          "data": {
            "text/plain": [
              "<Figure size 1080x504 with 1 Axes>"
            ],
            "image/png": "[encoded data removed]"
          },
          "metadata": {
            "needs_background": "light"
          }
        }
      ]
    },
    {
      "cell_type": "markdown",
      "source": [
        "#Step.3.7.Inference - Store-35 has  maximum coefficient of mean to standard deviation , hence sales variation in that store is more compared to other stores"
      ],
      "metadata": {
        "id": "GG_stLIrzKFQ"
      }
    },
    {
      "cell_type": "code",
      "source": [
        "df.head()"
      ],
      "metadata": {
        "colab": {
          "base_uri": "https://localhost:8080/",
          "height": 206
        },
        "id": "1PMf6MsWd18s",
        "outputId": "f07e8d38-bbe4-4200-8f17-a3be87dd1bf8"
      },
      "execution_count": 18,
      "outputs": [
        {
          "output_type": "execute_result",
          "data": {
            "text/plain": [
              "   Store       Date  Weekly_Sales  Holiday_Flag  Temperature  Fuel_Price  \\\n",
              "0      1 2010-05-02    1643690.90             0        42.31       2.572   \n",
              "1      1 2010-12-02    1641957.44             1        38.51       2.548   \n",
              "2      1 2010-02-19    1611968.17             0        39.93       2.514   \n",
              "3      1 2010-02-26    1409727.59             0        46.63       2.561   \n",
              "4      1 2010-05-03    1554806.68             0        46.50       2.625   \n",
              "\n",
              "          CPI  Unemployment  Year  Month  Week  Day  \n",
              "0  211.096358         8.106  2010      5    17    2  \n",
              "1  211.242170         8.106  2010     12    48    2  \n",
              "2  211.289143         8.106  2010      2     7   19  \n",
              "3  211.319643         8.106  2010      2     8   26  \n",
              "4  211.350143         8.106  2010      5    18    3  "
            ],
            "text/html": [
              "\n",
              "  <div id=\"df-9e3859a1-3113-4b8e-8c31-b6113c63bbc1\">\n",
              "    <div class=\"colab-df-container\">\n",
              "      <div>\n",
              "<style scoped>\n",
              "    .dataframe tbody tr th:only-of-type {\n",
              "        vertical-align: middle;\n",
              "    }\n",
              "\n",
              "    .dataframe tbody tr th {\n",
              "        vertical-align: top;\n",
              "    }\n",
              "\n",
              "    .dataframe thead th {\n",
              "        text-align: right;\n",
              "    }\n",
              "</style>\n",
              "<table border=\"1\" class=\"dataframe\">\n",
              "  <thead>\n",
              "    <tr style=\"text-align: right;\">\n",
              "      <th></th>\n",
              "      <th>Store</th>\n",
              "      <th>Date</th>\n",
              "      <th>Weekly_Sales</th>\n",
              "      <th>Holiday_Flag</th>\n",
              "      <th>Temperature</th>\n",
              "      <th>Fuel_Price</th>\n",
              "      <th>CPI</th>\n",
              "      <th>Unemployment</th>\n",
              "      <th>Year</th>\n",
              "      <th>Month</th>\n",
              "      <th>Week</th>\n",
              "      <th>Day</th>\n",
              "    </tr>\n",
              "  </thead>\n",
              "  <tbody>\n",
              "    <tr>\n",
              "      <th>0</th>\n",
              "      <td>1</td>\n",
              "      <td>2010-05-02</td>\n",
              "      <td>1643690.90</td>\n",
              "      <td>0</td>\n",
              "      <td>42.31</td>\n",
              "      <td>2.572</td>\n",
              "      <td>211.096358</td>\n",
              "      <td>8.106</td>\n",
              "      <td>2010</td>\n",
              "      <td>5</td>\n",
              "      <td>17</td>\n",
              "      <td>2</td>\n",
              "    </tr>\n",
              "    <tr>\n",
              "      <th>1</th>\n",
              "      <td>1</td>\n",
              "      <td>2010-12-02</td>\n",
              "      <td>1641957.44</td>\n",
              "      <td>1</td>\n",
              "      <td>38.51</td>\n",
              "      <td>2.548</td>\n",
              "      <td>211.242170</td>\n",
              "      <td>8.106</td>\n",
              "      <td>2010</td>\n",
              "      <td>12</td>\n",
              "      <td>48</td>\n",
              "      <td>2</td>\n",
              "    </tr>\n",
              "    <tr>\n",
              "      <th>2</th>\n",
              "      <td>1</td>\n",
              "      <td>2010-02-19</td>\n",
              "      <td>1611968.17</td>\n",
              "      <td>0</td>\n",
              "      <td>39.93</td>\n",
              "      <td>2.514</td>\n",
              "      <td>211.289143</td>\n",
              "      <td>8.106</td>\n",
              "      <td>2010</td>\n",
              "      <td>2</td>\n",
              "      <td>7</td>\n",
              "      <td>19</td>\n",
              "    </tr>\n",
              "    <tr>\n",
              "      <th>3</th>\n",
              "      <td>1</td>\n",
              "      <td>2010-02-26</td>\n",
              "      <td>1409727.59</td>\n",
              "      <td>0</td>\n",
              "      <td>46.63</td>\n",
              "      <td>2.561</td>\n",
              "      <td>211.319643</td>\n",
              "      <td>8.106</td>\n",
              "      <td>2010</td>\n",
              "      <td>2</td>\n",
              "      <td>8</td>\n",
              "      <td>26</td>\n",
              "    </tr>\n",
              "    <tr>\n",
              "      <th>4</th>\n",
              "      <td>1</td>\n",
              "      <td>2010-05-03</td>\n",
              "      <td>1554806.68</td>\n",
              "      <td>0</td>\n",
              "      <td>46.50</td>\n",
              "      <td>2.625</td>\n",
              "      <td>211.350143</td>\n",
              "      <td>8.106</td>\n",
              "      <td>2010</td>\n",
              "      <td>5</td>\n",
              "      <td>18</td>\n",
              "      <td>3</td>\n",
              "    </tr>\n",
              "  </tbody>\n",
              "</table>\n",
              "</div>\n",
              "      <button class=\"colab-df-convert\" onclick=\"convertToInteractive('df-9e3859a1-3113-4b8e-8c31-b6113c63bbc1')\"\n",
              "              title=\"Convert this dataframe to an interactive table.\"\n",
              "              style=\"display:none;\">\n",
              "        \n",
              "  <svg xmlns=\"http://www.w3.org/2000/svg\" height=\"24px\"viewBox=\"0 0 24 24\"\n",
              "       width=\"24px\">\n",
              "    <path d=\"M0 0h24v24H0V0z\" fill=\"none\"/>\n",
              "    <path d=\"M18.56 5.44l.94 2.06.94-2.06 2.06-.94-2.06-.94-.94-2.06-.94 2.06-2.06.94zm-11 1L8.5 8.5l.94-2.06 2.06-.94-2.06-.94L8.5 2.5l-.94 2.06-2.06.94zm10 10l.94 2.06.94-2.06 2.06-.94-2.06-.94-.94-2.06-.94 2.06-2.06.94z\"/><path d=\"M17.41 7.96l-1.37-1.37c-.4-.4-.92-.59-1.43-.59-.52 0-1.04.2-1.43.59L10.3 9.45l-7.72 7.72c-.78.78-.78 2.05 0 2.83L4 21.41c.39.39.9.59 1.41.59.51 0 1.02-.2 1.41-.59l7.78-7.78 2.81-2.81c.8-.78.8-2.07 0-2.86zM5.41 20L4 18.59l7.72-7.72 1.47 1.35L5.41 20z\"/>\n",
              "  </svg>\n",
              "      </button>\n",
              "      \n",
              "  <style>\n",
              "    .colab-df-container {\n",
              "      display:flex;\n",
              "      flex-wrap:wrap;\n",
              "      gap: 12px;\n",
              "    }\n",
              "\n",
              "    .colab-df-convert {\n",
              "      background-color: #E8F0FE;\n",
              "      border: none;\n",
              "      border-radius: 50%;\n",
              "      cursor: pointer;\n",
              "      display: none;\n",
              "      fill: #1967D2;\n",
              "      height: 32px;\n",
              "      padding: 0 0 0 0;\n",
              "      width: 32px;\n",
              "    }\n",
              "\n",
              "    .colab-df-convert:hover {\n",
              "      background-color: #E2EBFA;\n",
              "      box-shadow: 0px 1px 2px rgba(60, 64, 67, 0.3), 0px 1px 3px 1px rgba(60, 64, 67, 0.15);\n",
              "      fill: #174EA6;\n",
              "    }\n",
              "\n",
              "    [theme=dark] .colab-df-convert {\n",
              "      background-color: #3B4455;\n",
              "      fill: #D2E3FC;\n",
              "    }\n",
              "\n",
              "    [theme=dark] .colab-df-convert:hover {\n",
              "      background-color: #434B5C;\n",
              "      box-shadow: 0px 1px 3px 1px rgba(0, 0, 0, 0.15);\n",
              "      filter: drop-shadow(0px 1px 2px rgba(0, 0, 0, 0.3));\n",
              "      fill: #FFFFFF;\n",
              "    }\n",
              "  </style>\n",
              "\n",
              "      <script>\n",
              "        const buttonEl =\n",
              "          document.querySelector('#df-9e3859a1-3113-4b8e-8c31-b6113c63bbc1 button.colab-df-convert');\n",
              "        buttonEl.style.display =\n",
              "          google.colab.kernel.accessAllowed ? 'block' : 'none';\n",
              "\n",
              "        async function convertToInteractive(key) {\n",
              "          const element = document.querySelector('#df-9e3859a1-3113-4b8e-8c31-b6113c63bbc1');\n",
              "          const dataTable =\n",
              "            await google.colab.kernel.invokeFunction('convertToInteractive',\n",
              "                                                     [key], {});\n",
              "          if (!dataTable) return;\n",
              "\n",
              "          const docLinkHtml = 'Like what you see? Visit the ' +\n",
              "            '<a target=\"_blank\" href=https://colab.research.google.com/notebooks/data_table.ipynb>data table notebook</a>'\n",
              "            + ' to learn more about interactive tables.';\n",
              "          element.innerHTML = '';\n",
              "          dataTable['output_type'] = 'display_data';\n",
              "          await google.colab.output.renderOutput(dataTable, element);\n",
              "          const docLink = document.createElement('div');\n",
              "          docLink.innerHTML = docLinkHtml;\n",
              "          element.appendChild(docLink);\n",
              "        }\n",
              "      </script>\n",
              "    </div>\n",
              "  </div>\n",
              "  "
            ]
          },
          "metadata": {},
          "execution_count": 18
        }
      ]
    },
    {
      "cell_type": "markdown",
      "source": [
        "#Step.3.8.Let's look at Sales for second and third quarter in 2012"
      ],
      "metadata": {
        "id": "CxFJxKP9dJht"
      }
    },
    {
      "cell_type": "code",
      "source": [
        "quarter_2_sales = df[(df['Date'] >= '2012-04-01') & (df['Date'] <= '2012-06-30')].groupby('Store')['Weekly_Sales'].sum()\n",
        "quarter_3_sales= df[(df['Date'] >= '2012-07-01') & (df['Date'] <= '2012-09-30')].groupby('Store')['Weekly_Sales'].sum()\n",
        "\n",
        "plt.figure(figsize=(15,7))\n",
        "quarter_2_sales.plot(ax=quarter_3_sales.plot(kind ='bar'),kind='bar',color='g',alpha=0.2,legend=True)\n",
        "plt.legend([\"Q3' 2012\", \"Q2' 2012\"])"
      ],
      "metadata": {
        "colab": {
          "base_uri": "https://localhost:8080/",
          "height": 473
        },
        "id": "GqGesUJvdNIc",
        "outputId": "814327e6-8f86-4f96-a5bb-8ef3fd8fe6ec"
      },
      "execution_count": 19,
      "outputs": [
        {
          "output_type": "execute_result",
          "data": {
            "text/plain": [
              "<matplotlib.legend.Legend at 0x7fb67f2a45d0>"
            ]
          },
          "metadata": {},
          "execution_count": 19
        },
        {
          "output_type": "display_data",
          "data": {
            "text/plain": [
              "<Figure size 1080x504 with 1 Axes>"
            ],
            "image/png": "[encoded data removed]"
          },
          "metadata": {
            "needs_background": "light"
          }
        }
      ]
    },
    {
      "cell_type": "markdown",
      "source": [
        "#Step.3.9.Inference : from the above data Visualizations , store 4 has maximum sales in Q3'2012"
      ],
      "metadata": {
        "id": "vhMlkct9escu"
      }
    },
    {
      "cell_type": "markdown",
      "source": [
        "#Step.3.10.Let's look at the Holidays impact on Sales"
      ],
      "metadata": {
        "id": "wwYjCRKlfDFn"
      }
    },
    {
      "cell_type": "code",
      "source": [
        "Super_Bowl =['12-2-2010', '11-2-2011', '10-2-2012']\n",
        "Labour_Day =  ['10-9-2010', '9-9-2011', '7-9-2012']\n",
        "Thanksgiving =  ['26-11-2010', '25-11-2011', '23-11-2012']\n",
        "Christmas = ['31-12-2010', '30-12-2011', '28-12-2012']\n",
        "\n",
        "Super_Bowl_Sales = (pd.DataFrame(df.loc[df.Date.isin(Super_Bowl)]))['Weekly_Sales'].mean()\n",
        "Labour_Day_Sales = (pd.DataFrame(df.loc[df.Date.isin(Labour_Day)]))['Weekly_Sales'].mean()\n",
        "Thanksgiving_Sales = (pd.DataFrame(df.loc[df.Date.isin(Thanksgiving)]))['Weekly_Sales'].mean()\n",
        "Christmas_Sales = (pd.DataFrame(df.loc[df.Date.isin(Christmas)]))['Weekly_Sales'].mean()\n",
        "Super_Bowl_Sales,Labour_Day_Sales,Thanksgiving_Sales,Christmas_Sales"
      ],
      "metadata": {
        "colab": {
          "base_uri": "https://localhost:8080/"
        },
        "id": "-JEa4uAmfI8d",
        "outputId": "12e60fb9-6089-4691-988f-b5a43b04f707"
      },
      "execution_count": 20,
      "outputs": [
        {
          "output_type": "execute_result",
          "data": {
            "text/plain": [
              "(1079127.9877037038, 1042427.293925926, 1471273.427777778, 960833.1115555555)"
            ]
          },
          "metadata": {},
          "execution_count": 20
        }
      ]
    },
    {
      "cell_type": "markdown",
      "source": [
        "#Step.3.11.Calculating mean sales on non-holidays :\n"
      ],
      "metadata": {
        "id": "DJQKnBGifyo-"
      }
    },
    {
      "cell_type": "code",
      "source": [
        "Non_Holiday_Sales = df[df['Holiday_Flag'] == 0 ]['Weekly_Sales'].mean()\n",
        "Non_Holiday_Sales"
      ],
      "metadata": {
        "colab": {
          "base_uri": "https://localhost:8080/"
        },
        "id": "I4Z7Jkvvf0q-",
        "outputId": "d13fcfd3-a226-4b1b-e23e-3a20ad60d05d"
      },
      "execution_count": 21,
      "outputs": [
        {
          "output_type": "execute_result",
          "data": {
            "text/plain": [
              "1041256.3802088555"
            ]
          },
          "metadata": {},
          "execution_count": 21
        }
      ]
    },
    {
      "cell_type": "code",
      "source": [
        "Mean_Sales = {'Super_Bowl_Sales' : Super_Bowl_Sales,\n",
        "              'Labour_Day_Sales': Labour_Day_Sales,\n",
        "              'Thanksgiving_Sales':Thanksgiving_Sales,\n",
        "              'Christmas_Sales': Christmas_Sales,\n",
        "              'Non_Holiday_Sales': Non_Holiday_Sales}\n",
        "Mean_Sales "
      ],
      "metadata": {
        "colab": {
          "base_uri": "https://localhost:8080/"
        },
        "id": "9_H321HRgLFH",
        "outputId": "23f1d060-a487-4a36-c515-f42355221eb4"
      },
      "execution_count": 22,
      "outputs": [
        {
          "output_type": "execute_result",
          "data": {
            "text/plain": [
              "{'Super_Bowl_Sales': 1079127.9877037038,\n",
              " 'Labour_Day_Sales': 1042427.293925926,\n",
              " 'Thanksgiving_Sales': 1471273.427777778,\n",
              " 'Christmas_Sales': 960833.1115555555,\n",
              " 'Non_Holiday_Sales': 1041256.3802088555}"
            ]
          },
          "metadata": {},
          "execution_count": 22
        }
      ]
    },
    {
      "cell_type": "markdown",
      "source": [
        "#Step.3.12.Inference : From above 2 data analysis  , seems like sales was Higher in thanks giving day compared to other Holidays"
      ],
      "metadata": {
        "id": "44qFU0tEf4oB"
      }
    },
    {
      "cell_type": "markdown",
      "source": [
        "#Step.3.13.Ok , let's look Montly & Yearly sales"
      ],
      "metadata": {
        "id": "ce4J9eZtgZCp"
      }
    },
    {
      "cell_type": "code",
      "source": [
        "\n",
        "plt.figure(figsize=(15,7))\n",
        "plt.scatter(df[df.Year==2010][\"Month\"],df[df.Year==2010][\"Weekly_Sales\"])\n",
        "plt.xlabel(\"Months\")\n",
        "plt.ylabel(\"Weekly Sales\")\n",
        "plt.title(\"Monthly view of sales in 2010\")\n",
        "plt.show()\n",
        "\n",
        "plt.figure(figsize=(15,7))\n",
        "plt.scatter(df[df.Year==2011][\"Month\"],df[df.Year==2011][\"Weekly_Sales\"])\n",
        "plt.xlabel(\"Months\")\n",
        "plt.ylabel(\"Weekly Sales\")\n",
        "plt.title(\"Monthly view of sales in 2011\")\n",
        "plt.show()\n",
        "\n",
        "plt.figure(figsize=(15,7))\n",
        "plt.scatter(df[df.Year==2012][\"Month\"],df[df.Year==2012][\"Weekly_Sales\"])\n",
        "plt.xlabel(\"Months\")\n",
        "plt.ylabel(\"Weekly Sales\")\n",
        "plt.title(\"Monthly view of sales in 2012\")\n",
        "plt.show()"
      ],
      "metadata": {
        "colab": {
          "base_uri": "https://localhost:8080/",
          "height": 1000
        },
        "id": "hOu68bl_ge2n",
        "outputId": "b095ea71-d7ad-4070-a837-959a2f9ad206"
      },
      "execution_count": 59,
      "outputs": [
        {
          "output_type": "display_data",
          "data": {
            "text/plain": [
              "<Figure size 1080x504 with 1 Axes>"
            ],
            "image/png": "[encoded data removed]"
          },
          "metadata": {
            "needs_background": "light"
          }
        },
        {
          "output_type": "display_data",
          "data": {
            "text/plain": [
              "<Figure size 1080x504 with 1 Axes>"
            ],
            "image/png": "[encoded data removed]"
          },
          "metadata": {
            "needs_background": "light"
          }
        },
        {
          "output_type": "display_data",
          "data": {
            "text/plain": [
              "<Figure size 1080x504 with 1 Axes>"
            ],
            "image/png": "[encoded data removed]"
          },
          "metadata": {
            "needs_background": "light"
          }
        }
      ]
    },
    {
      "cell_type": "code",
      "source": [
        "plt.figure(figsize=(15,7))\n",
        "plt.bar(df[\"Month\"],df[\"Weekly_Sales\"])\n",
        "plt.xlabel(\"Months\")\n",
        "plt.ylabel(\"Weekly Sales\")\n",
        "plt.title(\"Monthly view of sales\")\n",
        "plt.show()\n",
        "\n",
        "plt.figure(figsize=(15,7))\n",
        "df.groupby(\"Year\")[[\"Weekly_Sales\"]].sum().plot(kind='bar',legend=False)\n",
        "plt.xlabel(\"Years\")\n",
        "plt.ylabel(\"Weekly Sales\")\n",
        "plt.title(\"Yearly view of sales\")\n",
        "plt.show()"
      ],
      "metadata": {
        "colab": {
          "base_uri": "https://localhost:8080/",
          "height": 769
        },
        "id": "qS-BKzihhZJR",
        "outputId": "bff903fc-d9ef-455c-856b-4785378fc7b6"
      },
      "execution_count": 24,
      "outputs": [
        {
          "output_type": "display_data",
          "data": {
            "text/plain": [
              "<Figure size 1080x504 with 1 Axes>"
            ],
            "image/png": "[encoded data removed]"
          },
          "metadata": {
            "needs_background": "light"
          }
        },
        {
          "output_type": "display_data",
          "data": {
            "text/plain": [
              "<Figure size 1080x504 with 0 Axes>"
            ]
          },
          "metadata": {}
        },
        {
          "output_type": "display_data",
          "data": {
            "text/plain": [
              "<Figure size 432x288 with 1 Axes>"
            ],
            "image/png": "[encoded data removed]"
          },
          "metadata": {
            "needs_background": "light"
          }
        }
      ]
    },
    {
      "cell_type": "markdown",
      "source": [
        "#Step.3.14.Inference : overall monthly sales are higher in the month of December while the yearly sales in the year 2011 are the highest."
      ],
      "metadata": {
        "id": "UsGJ4VVIhtyR"
      }
    },
    {
      "cell_type": "markdown",
      "source": [],
      "metadata": {
        "id": "BTKcgqu6hg84"
      }
    },
    {
      "cell_type": "markdown",
      "source": [
        "#Step:4.Let's build and asses the appropriate model for the given propblem\n",
        "[Traget Variable : weekly_sales and dependent varibales (CPI,unemployment , fuel price and temperature)]"
      ],
      "metadata": {
        "id": "d9ZGA9DcGy0i"
      }
    },
    {
      "cell_type": "code",
      "source": [
        "fig, axis = plt.subplots(4,figsize=(16,16))\n",
        "X = df[['Temperature','Fuel_Price','CPI','Unemployment']]\n",
        "for i,column in enumerate(X):\n",
        "    sns.boxplot(df[column],ax=axis[i])\n",
        "    \n",
        "import warnings\n",
        "warnings.filterwarnings('ignore')"
      ],
      "metadata": {
        "colab": {
          "base_uri": "https://localhost:8080/",
          "height": 932
        },
        "id": "_JOe4nidG8cA",
        "outputId": "5ed3f987-d20f-438e-8cd3-f494003c1bf9"
      },
      "execution_count": 25,
      "outputs": [
        {
          "output_type": "display_data",
          "data": {
            "text/plain": [
              "<Figure size 1152x1152 with 4 Axes>"
            ],
            "image/png": "[encoded data removed]"
          },
          "metadata": {
            "needs_background": "light"
          }
        }
      ]
    },
    {
      "cell_type": "markdown",
      "source": [
        "#Step :4.1.Remove the outlier from the above graph(s)"
      ],
      "metadata": {
        "id": "_NiSRQtrIJZY"
      }
    },
    {
      "cell_type": "code",
      "source": [
        "walmart_data_clean = df[(df['Unemployment']<10) & (df['Unemployment']>4.5) & (df['Temperature']>10)]\n",
        "walmart_data_clean"
      ],
      "metadata": {
        "colab": {
          "base_uri": "https://localhost:8080/",
          "height": 424
        },
        "id": "InVg-JAoIMSA",
        "outputId": "272c2aaf-4373-4298-ffcf-39ce3b5753bf"
      },
      "execution_count": 26,
      "outputs": [
        {
          "output_type": "execute_result",
          "data": {
            "text/plain": [
              "      Store       Date  Weekly_Sales  Holiday_Flag  Temperature  Fuel_Price  \\\n",
              "0         1 2010-05-02    1643690.90             0        42.31       2.572   \n",
              "1         1 2010-12-02    1641957.44             1        38.51       2.548   \n",
              "2         1 2010-02-19    1611968.17             0        39.93       2.514   \n",
              "3         1 2010-02-26    1409727.59             0        46.63       2.561   \n",
              "4         1 2010-05-03    1554806.68             0        46.50       2.625   \n",
              "...     ...        ...           ...           ...          ...         ...   \n",
              "6430     45 2012-09-28     713173.95             0        64.88       3.997   \n",
              "6431     45 2012-05-10     733455.07             0        64.89       3.985   \n",
              "6432     45 2012-12-10     734464.36             0        54.47       4.000   \n",
              "6433     45 2012-10-19     718125.53             0        56.47       3.969   \n",
              "6434     45 2012-10-26     760281.43             0        58.85       3.882   \n",
              "\n",
              "             CPI  Unemployment  Year  Month  Week  Day  \n",
              "0     211.096358         8.106  2010      5    17    2  \n",
              "1     211.242170         8.106  2010     12    48    2  \n",
              "2     211.289143         8.106  2010      2     7   19  \n",
              "3     211.319643         8.106  2010      2     8   26  \n",
              "4     211.350143         8.106  2010      5    18    3  \n",
              "...          ...           ...   ...    ...   ...  ...  \n",
              "6430  192.013558         8.684  2012      9    39   28  \n",
              "6431  192.170412         8.667  2012      5    19   10  \n",
              "6432  192.327265         8.667  2012     12    50   10  \n",
              "6433  192.330854         8.667  2012     10    42   19  \n",
              "6434  192.308899         8.667  2012     10    43   26  \n",
              "\n",
              "[5658 rows x 12 columns]"
            ],
            "text/html": [
              "\n",
              "  <div id=\"df-7807e26a-0a42-4a7b-bda3-9dfeef8b71eb\">\n",
              "    <div class=\"colab-df-container\">\n",
              "      <div>\n",
              "<style scoped>\n",
              "    .dataframe tbody tr th:only-of-type {\n",
              "        vertical-align: middle;\n",
              "    }\n",
              "\n",
              "    .dataframe tbody tr th {\n",
              "        vertical-align: top;\n",
              "    }\n",
              "\n",
              "    .dataframe thead th {\n",
              "        text-align: right;\n",
              "    }\n",
              "</style>\n",
              "<table border=\"1\" class=\"dataframe\">\n",
              "  <thead>\n",
              "    <tr style=\"text-align: right;\">\n",
              "      <th></th>\n",
              "      <th>Store</th>\n",
              "      <th>Date</th>\n",
              "      <th>Weekly_Sales</th>\n",
              "      <th>Holiday_Flag</th>\n",
              "      <th>Temperature</th>\n",
              "      <th>Fuel_Price</th>\n",
              "      <th>CPI</th>\n",
              "      <th>Unemployment</th>\n",
              "      <th>Year</th>\n",
              "      <th>Month</th>\n",
              "      <th>Week</th>\n",
              "      <th>Day</th>\n",
              "    </tr>\n",
              "  </thead>\n",
              "  <tbody>\n",
              "    <tr>\n",
              "      <th>0</th>\n",
              "      <td>1</td>\n",
              "      <td>2010-05-02</td>\n",
              "      <td>1643690.90</td>\n",
              "      <td>0</td>\n",
              "      <td>42.31</td>\n",
              "      <td>2.572</td>\n",
              "      <td>211.096358</td>\n",
              "      <td>8.106</td>\n",
              "      <td>2010</td>\n",
              "      <td>5</td>\n",
              "      <td>17</td>\n",
              "      <td>2</td>\n",
              "    </tr>\n",
              "    <tr>\n",
              "      <th>1</th>\n",
              "      <td>1</td>\n",
              "      <td>2010-12-02</td>\n",
              "      <td>1641957.44</td>\n",
              "      <td>1</td>\n",
              "      <td>38.51</td>\n",
              "      <td>2.548</td>\n",
              "      <td>211.242170</td>\n",
              "      <td>8.106</td>\n",
              "      <td>2010</td>\n",
              "      <td>12</td>\n",
              "      <td>48</td>\n",
              "      <td>2</td>\n",
              "    </tr>\n",
              "    <tr>\n",
              "      <th>2</th>\n",
              "      <td>1</td>\n",
              "      <td>2010-02-19</td>\n",
              "      <td>1611968.17</td>\n",
              "      <td>0</td>\n",
              "      <td>39.93</td>\n",
              "      <td>2.514</td>\n",
              "      <td>211.289143</td>\n",
              "      <td>8.106</td>\n",
              "      <td>2010</td>\n",
              "      <td>2</td>\n",
              "      <td>7</td>\n",
              "      <td>19</td>\n",
              "    </tr>\n",
              "    <tr>\n",
              "      <th>3</th>\n",
              "      <td>1</td>\n",
              "      <td>2010-02-26</td>\n",
              "      <td>1409727.59</td>\n",
              "      <td>0</td>\n",
              "      <td>46.63</td>\n",
              "      <td>2.561</td>\n",
              "      <td>211.319643</td>\n",
              "      <td>8.106</td>\n",
              "      <td>2010</td>\n",
              "      <td>2</td>\n",
              "      <td>8</td>\n",
              "      <td>26</td>\n",
              "    </tr>\n",
              "    <tr>\n",
              "      <th>4</th>\n",
              "      <td>1</td>\n",
              "      <td>2010-05-03</td>\n",
              "      <td>1554806.68</td>\n",
              "      <td>0</td>\n",
              "      <td>46.50</td>\n",
              "      <td>2.625</td>\n",
              "      <td>211.350143</td>\n",
              "      <td>8.106</td>\n",
              "      <td>2010</td>\n",
              "      <td>5</td>\n",
              "      <td>18</td>\n",
              "      <td>3</td>\n",
              "    </tr>\n",
              "    <tr>\n",
              "      <th>...</th>\n",
              "      <td>...</td>\n",
              "      <td>...</td>\n",
              "      <td>...</td>\n",
              "      <td>...</td>\n",
              "      <td>...</td>\n",
              "      <td>...</td>\n",
              "      <td>...</td>\n",
              "      <td>...</td>\n",
              "      <td>...</td>\n",
              "      <td>...</td>\n",
              "      <td>...</td>\n",
              "      <td>...</td>\n",
              "    </tr>\n",
              "    <tr>\n",
              "      <th>6430</th>\n",
              "      <td>45</td>\n",
              "      <td>2012-09-28</td>\n",
              "      <td>713173.95</td>\n",
              "      <td>0</td>\n",
              "      <td>64.88</td>\n",
              "      <td>3.997</td>\n",
              "      <td>192.013558</td>\n",
              "      <td>8.684</td>\n",
              "      <td>2012</td>\n",
              "      <td>9</td>\n",
              "      <td>39</td>\n",
              "      <td>28</td>\n",
              "    </tr>\n",
              "    <tr>\n",
              "      <th>6431</th>\n",
              "      <td>45</td>\n",
              "      <td>2012-05-10</td>\n",
              "      <td>733455.07</td>\n",
              "      <td>0</td>\n",
              "      <td>64.89</td>\n",
              "      <td>3.985</td>\n",
              "      <td>192.170412</td>\n",
              "      <td>8.667</td>\n",
              "      <td>2012</td>\n",
              "      <td>5</td>\n",
              "      <td>19</td>\n",
              "      <td>10</td>\n",
              "    </tr>\n",
              "    <tr>\n",
              "      <th>6432</th>\n",
              "      <td>45</td>\n",
              "      <td>2012-12-10</td>\n",
              "      <td>734464.36</td>\n",
              "      <td>0</td>\n",
              "      <td>54.47</td>\n",
              "      <td>4.000</td>\n",
              "      <td>192.327265</td>\n",
              "      <td>8.667</td>\n",
              "      <td>2012</td>\n",
              "      <td>12</td>\n",
              "      <td>50</td>\n",
              "      <td>10</td>\n",
              "    </tr>\n",
              "    <tr>\n",
              "      <th>6433</th>\n",
              "      <td>45</td>\n",
              "      <td>2012-10-19</td>\n",
              "      <td>718125.53</td>\n",
              "      <td>0</td>\n",
              "      <td>56.47</td>\n",
              "      <td>3.969</td>\n",
              "      <td>192.330854</td>\n",
              "      <td>8.667</td>\n",
              "      <td>2012</td>\n",
              "      <td>10</td>\n",
              "      <td>42</td>\n",
              "      <td>19</td>\n",
              "    </tr>\n",
              "    <tr>\n",
              "      <th>6434</th>\n",
              "      <td>45</td>\n",
              "      <td>2012-10-26</td>\n",
              "      <td>760281.43</td>\n",
              "      <td>0</td>\n",
              "      <td>58.85</td>\n",
              "      <td>3.882</td>\n",
              "      <td>192.308899</td>\n",
              "      <td>8.667</td>\n",
              "      <td>2012</td>\n",
              "      <td>10</td>\n",
              "      <td>43</td>\n",
              "      <td>26</td>\n",
              "    </tr>\n",
              "  </tbody>\n",
              "</table>\n",
              "<p>5658 rows × 12 columns</p>\n",
              "</div>\n",
              "      <button class=\"colab-df-convert\" onclick=\"convertToInteractive('df-7807e26a-0a42-4a7b-bda3-9dfeef8b71eb')\"\n",
              "              title=\"Convert this dataframe to an interactive table.\"\n",
              "              style=\"display:none;\">\n",
              "        \n",
              "  <svg xmlns=\"http://www.w3.org/2000/svg\" height=\"24px\"viewBox=\"0 0 24 24\"\n",
              "       width=\"24px\">\n",
              "    <path d=\"M0 0h24v24H0V0z\" fill=\"none\"/>\n",
              "    <path d=\"M18.56 5.44l.94 2.06.94-2.06 2.06-.94-2.06-.94-.94-2.06-.94 2.06-2.06.94zm-11 1L8.5 8.5l.94-2.06 2.06-.94-2.06-.94L8.5 2.5l-.94 2.06-2.06.94zm10 10l.94 2.06.94-2.06 2.06-.94-2.06-.94-.94-2.06-.94 2.06-2.06.94z\"/><path d=\"M17.41 7.96l-1.37-1.37c-.4-.4-.92-.59-1.43-.59-.52 0-1.04.2-1.43.59L10.3 9.45l-7.72 7.72c-.78.78-.78 2.05 0 2.83L4 21.41c.39.39.9.59 1.41.59.51 0 1.02-.2 1.41-.59l7.78-7.78 2.81-2.81c.8-.78.8-2.07 0-2.86zM5.41 20L4 18.59l7.72-7.72 1.47 1.35L5.41 20z\"/>\n",
              "  </svg>\n",
              "      </button>\n",
              "      \n",
              "  <style>\n",
              "    .colab-df-container {\n",
              "      display:flex;\n",
              "      flex-wrap:wrap;\n",
              "      gap: 12px;\n",
              "    }\n",
              "\n",
              "    .colab-df-convert {\n",
              "      background-color: #E8F0FE;\n",
              "      border: none;\n",
              "      border-radius: 50%;\n",
              "      cursor: pointer;\n",
              "      display: none;\n",
              "      fill: #1967D2;\n",
              "      height: 32px;\n",
              "      padding: 0 0 0 0;\n",
              "      width: 32px;\n",
              "    }\n",
              "\n",
              "    .colab-df-convert:hover {\n",
              "      background-color: #E2EBFA;\n",
              "      box-shadow: 0px 1px 2px rgba(60, 64, 67, 0.3), 0px 1px 3px 1px rgba(60, 64, 67, 0.15);\n",
              "      fill: #174EA6;\n",
              "    }\n",
              "\n",
              "    [theme=dark] .colab-df-convert {\n",
              "      background-color: #3B4455;\n",
              "      fill: #D2E3FC;\n",
              "    }\n",
              "\n",
              "    [theme=dark] .colab-df-convert:hover {\n",
              "      background-color: #434B5C;\n",
              "      box-shadow: 0px 1px 3px 1px rgba(0, 0, 0, 0.15);\n",
              "      filter: drop-shadow(0px 1px 2px rgba(0, 0, 0, 0.3));\n",
              "      fill: #FFFFFF;\n",
              "    }\n",
              "  </style>\n",
              "\n",
              "      <script>\n",
              "        const buttonEl =\n",
              "          document.querySelector('#df-7807e26a-0a42-4a7b-bda3-9dfeef8b71eb button.colab-df-convert');\n",
              "        buttonEl.style.display =\n",
              "          google.colab.kernel.accessAllowed ? 'block' : 'none';\n",
              "\n",
              "        async function convertToInteractive(key) {\n",
              "          const element = document.querySelector('#df-7807e26a-0a42-4a7b-bda3-9dfeef8b71eb');\n",
              "          const dataTable =\n",
              "            await google.colab.kernel.invokeFunction('convertToInteractive',\n",
              "                                                     [key], {});\n",
              "          if (!dataTable) return;\n",
              "\n",
              "          const docLinkHtml = 'Like what you see? Visit the ' +\n",
              "            '<a target=\"_blank\" href=https://colab.research.google.com/notebooks/data_table.ipynb>data table notebook</a>'\n",
              "            + ' to learn more about interactive tables.';\n",
              "          element.innerHTML = '';\n",
              "          dataTable['output_type'] = 'display_data';\n",
              "          await google.colab.output.renderOutput(dataTable, element);\n",
              "          const docLink = document.createElement('div');\n",
              "          docLink.innerHTML = docLinkHtml;\n",
              "          element.appendChild(docLink);\n",
              "        }\n",
              "      </script>\n",
              "    </div>\n",
              "  </div>\n",
              "  "
            ]
          },
          "metadata": {},
          "execution_count": 26
        }
      ]
    },
    {
      "cell_type": "markdown",
      "source": [
        "#Step:4.2. Checking for outliers"
      ],
      "metadata": {
        "id": "h67_ed-tX4rp"
      }
    },
    {
      "cell_type": "code",
      "source": [
        "fig, axis = plt.subplots(4,figsize=(16,16))\n",
        "X = walmart_data_clean[['Temperature','Fuel_Price','CPI','Unemployment']]\n",
        "for i,column in enumerate(X):\n",
        "    sns.boxplot(walmart_data_clean[column], ax=axis[i])\n",
        "\n",
        "import warnings\n",
        "warnings.filterwarnings('ignore')"
      ],
      "metadata": {
        "colab": {
          "base_uri": "https://localhost:8080/",
          "height": 932
        },
        "id": "b3ubINggXuHT",
        "outputId": "e9051aa6-913f-4b70-f4fd-312d48d98db1"
      },
      "execution_count": 27,
      "outputs": [
        {
          "output_type": "display_data",
          "data": {
            "text/plain": [
              "<Figure size 1152x1152 with 4 Axes>"
            ],
            "image/png": "[encoded data removed]"
          },
          "metadata": {
            "needs_background": "light"
          }
        }
      ]
    },
    {
      "cell_type": "markdown",
      "source": [
        "#Step:4.3.Lt's build Linear Regession Model"
      ],
      "metadata": {
        "id": "d5OYTKcX3Hgp"
      }
    },
    {
      "cell_type": "code",
      "source": [
        "from sklearn.model_selection import train_test_split\n",
        "from sklearn import metrics\n",
        "from sklearn.linear_model import LinearRegression\n",
        "#X = walmart_data_clean[['Store','Fuel_Price','CPI','Unemployment','weekday','Month','Year','Day','Week']]\n",
        "#X = walmart_data_clean[['Store','Fuel_Price','CPI','Unemployment','Month','Year','Day','Week']]\n",
        "X = walmart_data_clean[['Store','Unemployment','Month','Year','Day','Week']]\n",
        "Y = walmart_data_clean['Weekly_Sales']\n",
        "X_train, X_test, Y_train, Y_test = train_test_split(X,Y,test_size=0.2)"
      ],
      "metadata": {
        "id": "0lPQYCADi_p8"
      },
      "execution_count": 99,
      "outputs": []
    },
    {
      "cell_type": "code",
      "source": [
        "print('Linear Regression:')\n",
        "print('-------------------')\n",
        "print('-------------------')\n",
        "reg = LinearRegression()\n",
        "reg.fit(X_train, Y_train)\n",
        "Y_pred = reg.predict(X_test)\n",
        "print('Accuracy:',reg.score(X_train, Y_train)*100)\n",
        "print('Mean Absolute Error:', metrics.mean_absolute_error(Y_test, Y_pred))\n",
        "print('Mean Squared Error:', metrics.mean_squared_error(Y_test, Y_pred))\n",
        "print('Root Mean Squared Error:', np.sqrt(metrics.mean_squared_error(Y_test, Y_pred)))\n",
        "sns.scatterplot(Y_pred, Y_test)\n",
        "\n",
        "import warnings\n",
        "warnings.filterwarnings('ignore')"
      ],
      "metadata": {
        "colab": {
          "base_uri": "https://localhost:8080/",
          "height": 411
        },
        "id": "CMGeaMsN3rp5",
        "outputId": "615be113-1929-4e15-ecd1-90f7c9a633c1"
      },
      "execution_count": 100,
      "outputs": [
        {
          "output_type": "stream",
          "name": "stdout",
          "text": [
            "Linear Regression:\n",
            "-------------------\n",
            "-------------------\n",
            "Accuracy: 10.735807625592331\n",
            "Mean Absolute Error: 457112.2993460753\n",
            "Mean Squared Error: 310621991905.2141\n",
            "Root Mean Squared Error: 557334.7216038259\n"
          ]
        },
        {
          "output_type": "display_data",
          "data": {
            "text/plain": [
              "<Figure size 432x288 with 1 Axes>"
            ],
            "image/png": "[encoded data removed]"
          },
          "metadata": {
            "needs_background": "light"
          }
        }
      ]
    },
    {
      "cell_type": "markdown",
      "source": [
        "#Step:4.4.Let's build Linear Random Forest Model"
      ],
      "metadata": {
        "id": "wTzZ93aX3_NZ"
      }
    },
    {
      "cell_type": "code",
      "source": [
        "from sklearn.ensemble import RandomForestRegressor\n",
        "print('Random Forest Regressor:')\n",
        "print('-------------------')\n",
        "print('-------------------')\n",
        "rfr = RandomForestRegressor()        \n",
        "rfr.fit(X_train,Y_train)\n",
        "Y_pred = rfr.predict(X_test)\n",
        "print('Accuracy:',rfr.score(X_test, Y_test)*100)\n",
        "print('Mean Absolute Error:', metrics.mean_absolute_error(Y_test, Y_pred))\n",
        "print('Mean Squared Error:', metrics.mean_squared_error(Y_test, Y_pred))\n",
        "print('Root Mean Squared Error:', np.sqrt(metrics.mean_squared_error(Y_test, Y_pred)))\n",
        "sns.scatterplot(Y_pred, Y_test)\n",
        "\n",
        "\n",
        "import warnings\n",
        "warnings.filterwarnings('ignore')"
      ],
      "metadata": {
        "colab": {
          "base_uri": "https://localhost:8080/",
          "height": 411
        },
        "id": "C4r49yeO4Evg",
        "outputId": "db27dff2-969d-4716-a706-bdf9f96d2da5"
      },
      "execution_count": 101,
      "outputs": [
        {
          "output_type": "stream",
          "name": "stdout",
          "text": [
            "Random Forest Regressor:\n",
            "-------------------\n",
            "-------------------\n",
            "Accuracy: 94.75177159495907\n",
            "Mean Absolute Error: 69686.83603807422\n",
            "Mean Squared Error: 18059886499.82098\n",
            "Root Mean Squared Error: 134387.0771310284\n"
          ]
        },
        {
          "output_type": "display_data",
          "data": {
            "text/plain": [
              "<Figure size 432x288 with 1 Axes>"
            ],
            "image/png": "[encoded data removed]"
          },
          "metadata": {
            "needs_background": "light"
          }
        }
      ]
    },
    {
      "cell_type": "markdown",
      "source": [
        "#Step:4.5.Inference - Linear Regression is not an appropriate model to use which is clear from it's low accuracy. However, Random Forest Regression gives accuracy of over 95 % , so, it is the best model to forecast \n",
        "\n",
        "#So now we will try to improve it's accuracy further by tuning it's parameters"
      ],
      "metadata": {
        "id": "bbh4DpzU4cFp"
      }
    },
    {
      "cell_type": "markdown",
      "source": [
        "#Step:5 Hyperparameter tuning on Random Forest Model"
      ],
      "metadata": {
        "id": "YUZQbg79vnoB"
      }
    },
    {
      "cell_type": "code",
      "source": [
        "n_estimators = [5,20,50,100] \n",
        "max_features = ['auto', 'sqrt'] \n",
        "max_depth = [int(x) for x in np.linspace(10, 120, num = 12)] \n",
        "min_samples_split = [2, 6, 10] \n",
        "min_samples_leaf = [1, 3, 4]\n",
        "bootstrap = [True, False]\n",
        "\n",
        "random_grid = {'n_estimators': n_estimators,\n",
        "\n",
        "'max_features': max_features,\n",
        "\n",
        "'max_depth': max_depth,\n",
        "\n",
        "'min_samples_split': min_samples_split,\n",
        "\n",
        "'min_samples_leaf': min_samples_leaf,\n",
        "\n",
        "'bootstrap': bootstrap}\n",
        "rf = RandomForestRegressor()\n",
        "\n",
        "from sklearn.model_selection import RandomizedSearchCV\n",
        "rf_random = RandomizedSearchCV(estimator = rf,param_distributions = random_grid,\n",
        "               n_iter = 100, cv = 5, verbose=2, random_state=35, n_jobs = -1)\n",
        "rf_random.fit(X_train,Y_train)"
      ],
      "metadata": {
        "colab": {
          "base_uri": "https://localhost:8080/"
        },
        "id": "XlPE7Or1vwv6",
        "outputId": "fcbcdc08-c942-4f9c-de95-ba6fd976ee5e"
      },
      "execution_count": 102,
      "outputs": [
        {
          "output_type": "stream",
          "name": "stdout",
          "text": [
            "Fitting 5 folds for each of 100 candidates, totalling 500 fits\n"
          ]
        },
        {
          "output_type": "execute_result",
          "data": {
            "text/plain": [
              "RandomizedSearchCV(cv=5, estimator=RandomForestRegressor(), n_iter=100,\n",
              "                   n_jobs=-1,\n",
              "                   param_distributions={'bootstrap': [True, False],\n",
              "                                        'max_depth': [10, 20, 30, 40, 50, 60,\n",
              "                                                      70, 80, 90, 100, 110,\n",
              "                                                      120],\n",
              "                                        'max_features': ['auto', 'sqrt'],\n",
              "                                        'min_samples_leaf': [1, 3, 4],\n",
              "                                        'min_samples_split': [2, 6, 10],\n",
              "                                        'n_estimators': [5, 20, 50, 100]},\n",
              "                   random_state=35, verbose=2)"
            ]
          },
          "metadata": {},
          "execution_count": 102
        }
      ]
    },
    {
      "cell_type": "code",
      "source": [
        "print ('Random grid: ', random_grid, '\\n')\n",
        "print ('Best Parameters: ', rf_random.best_params_, ' \\n')"
      ],
      "metadata": {
        "colab": {
          "base_uri": "https://localhost:8080/"
        },
        "id": "izn5VyvewdVi",
        "outputId": "07f5e406-9e26-48dc-fd52-a49c83a45884"
      },
      "execution_count": 103,
      "outputs": [
        {
          "output_type": "stream",
          "name": "stdout",
          "text": [
            "Random grid:  {'n_estimators': [5, 20, 50, 100], 'max_features': ['auto', 'sqrt'], 'max_depth': [10, 20, 30, 40, 50, 60, 70, 80, 90, 100, 110, 120], 'min_samples_split': [2, 6, 10], 'min_samples_leaf': [1, 3, 4], 'bootstrap': [True, False]} \n",
            "\n",
            "Best Parameters:  {'n_estimators': 100, 'min_samples_split': 2, 'min_samples_leaf': 1, 'max_features': 'auto', 'max_depth': 120, 'bootstrap': True}  \n",
            "\n"
          ]
        }
      ]
    },
    {
      "cell_type": "code",
      "source": [
        "#randmf = RandomForestRegressor(n_estimators = 100, min_samples_split = 2, min_samples_leaf= 1, max_features = 'sqrt', max_depth= 120, bootstrap=True) \n",
        "randmf = RandomForestRegressor(n_estimators = 200, min_samples_split = 2, min_samples_leaf= 1, max_features = 'auto', max_depth= 500, bootstrap=True) \n",
        "randmf.fit( X_train, Y_train) \n",
        "x_pred = randmf.predict(X_train)\n",
        "y_pred = randmf.predict(X_test)"
      ],
      "metadata": {
        "id": "QO4kJCccwk5y"
      },
      "execution_count": 104,
      "outputs": []
    },
    {
      "cell_type": "code",
      "source": [
        "from sklearn.metrics import r2_score\n",
        "from sklearn.metrics import mean_squared_error\n",
        "from sklearn.metrics import mean_absolute_error\n",
        "from math import sqrt\n",
        "from termcolor import cprint\n",
        "\n",
        "print(\"For Training Data \\n --------------------------------\")\n",
        "print(\"MAE: \",mean_absolute_error(Y_train, x_pred))\n",
        "print(\"MSE: \",mean_squared_error(Y_train, x_pred))\n",
        "print(\"r2: \",r2_score(Y_train, x_pred))\n",
        "print(\"RMSE: \",np.sqrt(mean_squared_error(Y_train, x_pred)))\n",
        "\n",
        "print(\"\")\n",
        "print(\"For Test Data \\n --------------------------------\")\n",
        "print(\"MAE: \",mean_absolute_error(Y_test, y_pred))\n",
        "print(\"MSE: \",mean_squared_error(Y_test, y_pred))\n",
        "print(\"r2: \",r2_score(Y_test, y_pred))\n",
        "print(\"RMSE: \",np.sqrt(mean_squared_error(Y_test,y_pred)))\n",
        "    \n",
        "print(\"Residual Analysis:\")\n",
        "plt.figure(figsize = (20,5))\n",
        "plt.scatter(Y_train,(Y_train-x_pred),color = \"red\",label = 'Training Predictions')\n",
        "plt.scatter(Y_test,(Y_test-y_pred),color = \"green\",label = 'Testing Predictions')\n",
        "plt.legend()\n",
        "plt.show()"
      ],
      "metadata": {
        "colab": {
          "base_uri": "https://localhost:8080/",
          "height": 587
        },
        "id": "FoD9sW_1wtcy",
        "outputId": "6d497fd0-4b51-402c-8800-1beab31f92e6"
      },
      "execution_count": 105,
      "outputs": [
        {
          "output_type": "stream",
          "name": "stdout",
          "text": [
            "For Training Data \n",
            " --------------------------------\n",
            "MAE:  24513.504256871387\n",
            "MSE:  2110551046.0531163\n",
            "r2:  0.9935976215072292\n",
            "RMSE:  45940.73406088671\n",
            "\n",
            "For Test Data \n",
            " --------------------------------\n",
            "MAE:  69896.53582720843\n",
            "MSE:  18174934258.24968\n",
            "r2:  0.9471833855462807\n",
            "RMSE:  134814.44380425147\n",
            "Residual Analysis:\n"
          ]
        },
        {
          "output_type": "display_data",
          "data": {
            "text/plain": [
              "<Figure size 1440x360 with 1 Axes>"
            ],
            "image/png": "[encoded data removed]"
          },
          "metadata": {
            "needs_background": "light"
          }
        }
      ]
    },
    {
      "cell_type": "markdown",
      "source": [
        "# Step 5.1 So, our accuracy has improved slightly after hyperparameter tuning from 95 to 99 Hence, we will take this as our final model for further prediction"
      ],
      "metadata": {
        "id": "ek6Hd1MaHRkK"
      }
    },
    {
      "cell_type": "markdown",
      "source": [
        "# Step:6 : Let's Looks at Forecasting Sales for each Store For Next 12 Weeks"
      ],
      "metadata": {
        "id": "WpCGUKueXDHc"
      }
    },
    {
      "cell_type": "code",
      "source": [
        "forcast_data = walmart_data_clean.copy()\n",
        "#forcast_data['Date']=pd.to_datetime(forcast_data['Date'])"
      ],
      "metadata": {
        "id": "HzBCU6KQXMMY"
      },
      "execution_count": 120,
      "outputs": []
    },
    {
      "cell_type": "markdown",
      "source": [
        "# Step : 6.1.Pre-processing work to create a forecasting "
      ],
      "metadata": {
        "id": "1WZVsroMaB5u"
      }
    },
    {
      "cell_type": "code",
      "source": [
        "#Create formate For Next 12 Weeks\n",
        "futuredate=[]\n",
        "futurestore=[]\n",
        "futureemplo=[]\n",
        "futureweek=[]\n",
        "for i in range(1,46):\n",
        "    st=forcast_data[forcast_data['Store']==i]\n",
        "    for m in range (1,13):\n",
        "        d1=st['Date'].max()+timedelta(weeks=m)\n",
        "        futuredate.append(d1)\n",
        "        futurestore.append(i)\n",
        "        futureweek.append(st['Week'].mean())\n",
        "        futureemplo.append(st['Unemployment'].mean())"
      ],
      "metadata": {
        "id": "EeXy2WcfXkHt"
      },
      "execution_count": 121,
      "outputs": []
    },
    {
      "cell_type": "code",
      "source": [
        "# Create a temporary dataframe \n",
        "tmpdf=pd.DataFrame()\n",
        "tmpdf['Date']=futuredate\n",
        "tmpdf['Store']=futurestore\n",
        "tmpdf['Unemployment']=futureemplo\n",
        "tmpdf['Week']=futureweek\n",
        "\n",
        "\n",
        "tmpdf['Year'] = pd.to_datetime(tmpdf['Date']).dt.year\n",
        "tmpdf['Month'] = pd.to_datetime(tmpdf['Date']).dt.month\n",
        "tmpdf['Day'] = pd.to_datetime(tmpdf['Date']).dt.day\n",
        "tmpdf.drop(columns=['Date'])\n",
        "forecastdf=tmpdf.copy()\n",
        "pd.set_option('display.float_format', lambda x: '%.3f' % x)"
      ],
      "metadata": {
        "id": "VGGsJxCAYuf_"
      },
      "execution_count": 122,
      "outputs": []
    },
    {
      "cell_type": "code",
      "source": [
        "#forecastdf.isnull().sum()\n",
        "forecastdf = forecastdf.drop('Date', axis=1)\n",
        "forecastdf = forecastdf.dropna()\n",
        "forecastdf.isnull().sum()"
      ],
      "metadata": {
        "colab": {
          "base_uri": "https://localhost:8080/"
        },
        "id": "7zsCEHsyaOm0",
        "outputId": "58c0317b-bdf6-4437-9e68-ec7d614e2d83"
      },
      "execution_count": 123,
      "outputs": [
        {
          "output_type": "execute_result",
          "data": {
            "text/plain": [
              "Store           0\n",
              "Unemployment    0\n",
              "Week            0\n",
              "Year            0\n",
              "Month           0\n",
              "Day             0\n",
              "dtype: int64"
            ]
          },
          "metadata": {},
          "execution_count": 123
        }
      ]
    },
    {
      "cell_type": "markdown",
      "source": [
        "# Step : 6.2. Let's predict a Next 12 weeks forecast Data Pass Throught our Regressor"
      ],
      "metadata": {
        "id": "755eOrW3ZyaN"
      }
    },
    {
      "cell_type": "code",
      "source": [
        "forecastdf['Predicted_Sales']=rfr.predict(forecastdf)"
      ],
      "metadata": {
        "id": "_n5YoteoZOKH"
      },
      "execution_count": 124,
      "outputs": []
    },
    {
      "cell_type": "markdown",
      "source": [
        "Step : 6.3. Let's plot the forecating the data to visulize"
      ],
      "metadata": {
        "id": "bJfRXFD1jJaY"
      }
    },
    {
      "cell_type": "code",
      "source": [
        "#checking Future Sales Of Stores\n",
        "nfd=pd.DataFrame(forecastdf.groupby('Store')['Predicted_Sales'].sum().reset_index())\n",
        "plt.figure(figsize=(15,5))\n",
        "sns.barplot(x='Store',y='Predicted_Sales', data=nfd, order=nfd.sort_values(by='Predicted_Sales',ascending=False)['Store'])"
      ],
      "metadata": {
        "colab": {
          "base_uri": "https://localhost:8080/",
          "height": 362
        },
        "id": "kQshG2oci4A6",
        "outputId": "4d045a82-c6c0-47fd-e525-9fc209273c1a"
      },
      "execution_count": 126,
      "outputs": [
        {
          "output_type": "execute_result",
          "data": {
            "text/plain": [
              "<matplotlib.axes._subplots.AxesSubplot at 0x7fb67ebaf890>"
            ]
          },
          "metadata": {},
          "execution_count": 126
        },
        {
          "output_type": "display_data",
          "data": {
            "text/plain": [
              "<Figure size 1080x360 with 1 Axes>"
            ],
            "image/png": "[encoded data removed]"
          },
          "metadata": {
            "needs_background": "light"
          }
        }
      ]
    },
    {
      "cell_type": "markdown",
      "source": [
        "# Step:6 Let's look at forcasting (Next 12 weeks) for store-20 as it has max sales from the above forecasting"
      ],
      "metadata": {
        "id": "FkiH-zdguVbv"
      }
    },
    {
      "cell_type": "code",
      "source": [
        "store20_data = forecastdf[(forecastdf['Store'] ==20)]\n",
        "#tests_df[(tests_df['grade'] > 10)]\n",
        "store20_data"
      ],
      "metadata": {
        "colab": {
          "base_uri": "https://localhost:8080/",
          "height": 426
        },
        "id": "9J9MjBFXumtj",
        "outputId": "87d87e05-3f3f-4afe-90d2-354a7dfaa734"
      },
      "execution_count": 127,
      "outputs": [
        {
          "output_type": "execute_result",
          "data": {
            "text/plain": [
              "     Store  Unemployment   Week     Year  Month    Day  Predicted_Sales\n",
              "228     20         7.371 26.000 2012.000 12.000 17.000      2407852.805\n",
              "229     20         7.371 26.000 2012.000 12.000 24.000      2418687.378\n",
              "230     20         7.371 26.000 2012.000 12.000 31.000      2431180.956\n",
              "231     20         7.371 26.000 2013.000  1.000  7.000      2194629.256\n",
              "232     20         7.371 26.000 2013.000  1.000 14.000      2198497.444\n",
              "233     20         7.371 26.000 2013.000  1.000 21.000      2165567.546\n",
              "234     20         7.371 26.000 2013.000  1.000 28.000      2110312.447\n",
              "235     20         7.371 26.000 2013.000  2.000  4.000      2256174.448\n",
              "236     20         7.371 26.000 2013.000  2.000 11.000      2282185.865\n",
              "237     20         7.371 26.000 2013.000  2.000 18.000      2281921.578\n",
              "238     20         7.371 26.000 2013.000  2.000 25.000      2226807.573\n",
              "239     20         7.371 26.000 2013.000  3.000  4.000      2216885.926"
            ],
            "text/html": [
              "\n",
              "  <div id=\"df-d5dc2d75-94a7-4c45-a4f1-dbc21c30190d\">\n",
              "    <div class=\"colab-df-container\">\n",
              "      <div>\n",
              "<style scoped>\n",
              "    .dataframe tbody tr th:only-of-type {\n",
              "        vertical-align: middle;\n",
              "    }\n",
              "\n",
              "    .dataframe tbody tr th {\n",
              "        vertical-align: top;\n",
              "    }\n",
              "\n",
              "    .dataframe thead th {\n",
              "        text-align: right;\n",
              "    }\n",
              "</style>\n",
              "<table border=\"1\" class=\"dataframe\">\n",
              "  <thead>\n",
              "    <tr style=\"text-align: right;\">\n",
              "      <th></th>\n",
              "      <th>Store</th>\n",
              "      <th>Unemployment</th>\n",
              "      <th>Week</th>\n",
              "      <th>Year</th>\n",
              "      <th>Month</th>\n",
              "      <th>Day</th>\n",
              "      <th>Predicted_Sales</th>\n",
              "    </tr>\n",
              "  </thead>\n",
              "  <tbody>\n",
              "    <tr>\n",
              "      <th>228</th>\n",
              "      <td>20</td>\n",
              "      <td>7.371</td>\n",
              "      <td>26.000</td>\n",
              "      <td>2012.000</td>\n",
              "      <td>12.000</td>\n",
              "      <td>17.000</td>\n",
              "      <td>2407852.805</td>\n",
              "    </tr>\n",
              "    <tr>\n",
              "      <th>229</th>\n",
              "      <td>20</td>\n",
              "      <td>7.371</td>\n",
              "      <td>26.000</td>\n",
              "      <td>2012.000</td>\n",
              "      <td>12.000</td>\n",
              "      <td>24.000</td>\n",
              "      <td>2418687.378</td>\n",
              "    </tr>\n",
              "    <tr>\n",
              "      <th>230</th>\n",
              "      <td>20</td>\n",
              "      <td>7.371</td>\n",
              "      <td>26.000</td>\n",
              "      <td>2012.000</td>\n",
              "      <td>12.000</td>\n",
              "      <td>31.000</td>\n",
              "      <td>2431180.956</td>\n",
              "    </tr>\n",
              "    <tr>\n",
              "      <th>231</th>\n",
              "      <td>20</td>\n",
              "      <td>7.371</td>\n",
              "      <td>26.000</td>\n",
              "      <td>2013.000</td>\n",
              "      <td>1.000</td>\n",
              "      <td>7.000</td>\n",
              "      <td>2194629.256</td>\n",
              "    </tr>\n",
              "    <tr>\n",
              "      <th>232</th>\n",
              "      <td>20</td>\n",
              "      <td>7.371</td>\n",
              "      <td>26.000</td>\n",
              "      <td>2013.000</td>\n",
              "      <td>1.000</td>\n",
              "      <td>14.000</td>\n",
              "      <td>2198497.444</td>\n",
              "    </tr>\n",
              "    <tr>\n",
              "      <th>233</th>\n",
              "      <td>20</td>\n",
              "      <td>7.371</td>\n",
              "      <td>26.000</td>\n",
              "      <td>2013.000</td>\n",
              "      <td>1.000</td>\n",
              "      <td>21.000</td>\n",
              "      <td>2165567.546</td>\n",
              "    </tr>\n",
              "    <tr>\n",
              "      <th>234</th>\n",
              "      <td>20</td>\n",
              "      <td>7.371</td>\n",
              "      <td>26.000</td>\n",
              "      <td>2013.000</td>\n",
              "      <td>1.000</td>\n",
              "      <td>28.000</td>\n",
              "      <td>2110312.447</td>\n",
              "    </tr>\n",
              "    <tr>\n",
              "      <th>235</th>\n",
              "      <td>20</td>\n",
              "      <td>7.371</td>\n",
              "      <td>26.000</td>\n",
              "      <td>2013.000</td>\n",
              "      <td>2.000</td>\n",
              "      <td>4.000</td>\n",
              "      <td>2256174.448</td>\n",
              "    </tr>\n",
              "    <tr>\n",
              "      <th>236</th>\n",
              "      <td>20</td>\n",
              "      <td>7.371</td>\n",
              "      <td>26.000</td>\n",
              "      <td>2013.000</td>\n",
              "      <td>2.000</td>\n",
              "      <td>11.000</td>\n",
              "      <td>2282185.865</td>\n",
              "    </tr>\n",
              "    <tr>\n",
              "      <th>237</th>\n",
              "      <td>20</td>\n",
              "      <td>7.371</td>\n",
              "      <td>26.000</td>\n",
              "      <td>2013.000</td>\n",
              "      <td>2.000</td>\n",
              "      <td>18.000</td>\n",
              "      <td>2281921.578</td>\n",
              "    </tr>\n",
              "    <tr>\n",
              "      <th>238</th>\n",
              "      <td>20</td>\n",
              "      <td>7.371</td>\n",
              "      <td>26.000</td>\n",
              "      <td>2013.000</td>\n",
              "      <td>2.000</td>\n",
              "      <td>25.000</td>\n",
              "      <td>2226807.573</td>\n",
              "    </tr>\n",
              "    <tr>\n",
              "      <th>239</th>\n",
              "      <td>20</td>\n",
              "      <td>7.371</td>\n",
              "      <td>26.000</td>\n",
              "      <td>2013.000</td>\n",
              "      <td>3.000</td>\n",
              "      <td>4.000</td>\n",
              "      <td>2216885.926</td>\n",
              "    </tr>\n",
              "  </tbody>\n",
              "</table>\n",
              "</div>\n",
              "      <button class=\"colab-df-convert\" onclick=\"convertToInteractive('df-d5dc2d75-94a7-4c45-a4f1-dbc21c30190d')\"\n",
              "              title=\"Convert this dataframe to an interactive table.\"\n",
              "              style=\"display:none;\">\n",
              "        \n",
              "  <svg xmlns=\"http://www.w3.org/2000/svg\" height=\"24px\"viewBox=\"0 0 24 24\"\n",
              "       width=\"24px\">\n",
              "    <path d=\"M0 0h24v24H0V0z\" fill=\"none\"/>\n",
              "    <path d=\"M18.56 5.44l.94 2.06.94-2.06 2.06-.94-2.06-.94-.94-2.06-.94 2.06-2.06.94zm-11 1L8.5 8.5l.94-2.06 2.06-.94-2.06-.94L8.5 2.5l-.94 2.06-2.06.94zm10 10l.94 2.06.94-2.06 2.06-.94-2.06-.94-.94-2.06-.94 2.06-2.06.94z\"/><path d=\"M17.41 7.96l-1.37-1.37c-.4-.4-.92-.59-1.43-.59-.52 0-1.04.2-1.43.59L10.3 9.45l-7.72 7.72c-.78.78-.78 2.05 0 2.83L4 21.41c.39.39.9.59 1.41.59.51 0 1.02-.2 1.41-.59l7.78-7.78 2.81-2.81c.8-.78.8-2.07 0-2.86zM5.41 20L4 18.59l7.72-7.72 1.47 1.35L5.41 20z\"/>\n",
              "  </svg>\n",
              "      </button>\n",
              "      \n",
              "  <style>\n",
              "    .colab-df-container {\n",
              "      display:flex;\n",
              "      flex-wrap:wrap;\n",
              "      gap: 12px;\n",
              "    }\n",
              "\n",
              "    .colab-df-convert {\n",
              "      background-color: #E8F0FE;\n",
              "      border: none;\n",
              "      border-radius: 50%;\n",
              "      cursor: pointer;\n",
              "      display: none;\n",
              "      fill: #1967D2;\n",
              "      height: 32px;\n",
              "      padding: 0 0 0 0;\n",
              "      width: 32px;\n",
              "    }\n",
              "\n",
              "    .colab-df-convert:hover {\n",
              "      background-color: #E2EBFA;\n",
              "      box-shadow: 0px 1px 2px rgba(60, 64, 67, 0.3), 0px 1px 3px 1px rgba(60, 64, 67, 0.15);\n",
              "      fill: #174EA6;\n",
              "    }\n",
              "\n",
              "    [theme=dark] .colab-df-convert {\n",
              "      background-color: #3B4455;\n",
              "      fill: #D2E3FC;\n",
              "    }\n",
              "\n",
              "    [theme=dark] .colab-df-convert:hover {\n",
              "      background-color: #434B5C;\n",
              "      box-shadow: 0px 1px 3px 1px rgba(0, 0, 0, 0.15);\n",
              "      filter: drop-shadow(0px 1px 2px rgba(0, 0, 0, 0.3));\n",
              "      fill: #FFFFFF;\n",
              "    }\n",
              "  </style>\n",
              "\n",
              "      <script>\n",
              "        const buttonEl =\n",
              "          document.querySelector('#df-d5dc2d75-94a7-4c45-a4f1-dbc21c30190d button.colab-df-convert');\n",
              "        buttonEl.style.display =\n",
              "          google.colab.kernel.accessAllowed ? 'block' : 'none';\n",
              "\n",
              "        async function convertToInteractive(key) {\n",
              "          const element = document.querySelector('#df-d5dc2d75-94a7-4c45-a4f1-dbc21c30190d');\n",
              "          const dataTable =\n",
              "            await google.colab.kernel.invokeFunction('convertToInteractive',\n",
              "                                                     [key], {});\n",
              "          if (!dataTable) return;\n",
              "\n",
              "          const docLinkHtml = 'Like what you see? Visit the ' +\n",
              "            '<a target=\"_blank\" href=https://colab.research.google.com/notebooks/data_table.ipynb>data table notebook</a>'\n",
              "            + ' to learn more about interactive tables.';\n",
              "          element.innerHTML = '';\n",
              "          dataTable['output_type'] = 'display_data';\n",
              "          await google.colab.output.renderOutput(dataTable, element);\n",
              "          const docLink = document.createElement('div');\n",
              "          docLink.innerHTML = docLinkHtml;\n",
              "          element.appendChild(docLink);\n",
              "        }\n",
              "      </script>\n",
              "    </div>\n",
              "  </div>\n",
              "  "
            ]
          },
          "metadata": {},
          "execution_count": 127
        }
      ]
    },
    {
      "cell_type": "code",
      "source": [
        "#checking Future Sales Of Stores\n",
        "plt.figure(figsize=(12,5))\n",
        "plt.plot(store20_data['weeks_index'], store20_data['Predicted_Sales']) \n",
        "plt.title(\"Store20 Next 2 weeks Forecasting\")\n",
        "plt.ylabel('Sales Foecasting ')\n",
        "plt.xlabel('Weeks')"
      ],
      "metadata": {
        "colab": {
          "base_uri": "https://localhost:8080/",
          "height": 367
        },
        "id": "ym3DKUVjkTa-",
        "outputId": "b6bc965a-4180-4401-cc59-f87158e8b304"
      },
      "execution_count": 140,
      "outputs": [
        {
          "output_type": "execute_result",
          "data": {
            "text/plain": [
              "Text(0.5, 0, 'Weeks')"
            ]
          },
          "metadata": {},
          "execution_count": 140
        },
        {
          "output_type": "display_data",
          "data": {
            "text/plain": [
              "<Figure size 864x360 with 1 Axes>"
            ],
            "image/png": "[encoded data removed]"
          },
          "metadata": {
            "needs_background": "light"
          }
        }
      ]
    },
    {
      "cell_type": "markdown",
      "source": [
        "## Rough work for understaning "
      ],
      "metadata": {
        "id": "QhFuc7O5prA6"
      }
    },
    {
      "cell_type": "code",
      "source": [
        "import pandas as pd\n",
        "from sklearn.feature_selection import RFE\n",
        "from sklearn.ensemble import RandomForestRegressor\n",
        "from pandas import DataFrame\n",
        "import numpy as np\n",
        "from datetime import datetime\n",
        "import calendar\n",
        "from datetime import timedelta\n",
        "import datetime as dt\n",
        "def add_month(df, forecast_length, forecast_period):\n",
        "    end_point = len(df)\n",
        "    df1 = pd.DataFrame(index=range(forecast_length), columns=range(2))\n",
        "    df1.columns = ['Weekly_Sales', 'Date']\n",
        "    df = df.append(df1)\n",
        "    df = df.reset_index(drop=True)\n",
        "    x = df.at[end_point - 1, 'Date']\n",
        "    x = pd.to_datetime(x, format='%Y-%m-%d')\n",
        "    days_in_month=calendar.monthrange(x.year, x.month)[1]\n",
        "    if forecast_period == 'Week':\n",
        "        for i in range(forecast_length):\n",
        "            df.at[df.index[end_point + i], 'Date'] = x + timedelta(days=7 + 7 * i)\n",
        "            df.at[df.index[end_point + i], 'Weekly_Sales'] = 0\n",
        "    elif forecast_period == 'Month':\n",
        "        for i in range(forecast_length):\n",
        "            df.at[df.index[end_point + i], 'Date'] = x + timedelta(days=days_in_month + days_in_month * i)\n",
        "            df.at[df.index[end_point + i], 'Weekly_Sales'] = 0\n",
        "    df['Date'] = pd.to_datetime(df['Date'], format='%Y-%m-%d')\n",
        "    df['Month'] = df['Date'].dt.month\n",
        "    df = df.drop(['Date'], axis=1)\n",
        "    return df\n",
        "\n",
        "def create_lag(df3):\n",
        "    dataframe = DataFrame()\n",
        "    for i in range(12, 0, -1):\n",
        "        dataframe['t-' + str(i)] = df3.Weekly_Sales.shift(i)\n",
        "    df4 = pd.concat([df3, dataframe], axis=1)\n",
        "    df4.dropna(inplace=True)\n",
        "    return df4\n",
        "\n",
        "\n",
        "def randomForest(df1, forecast_length, forecast_period):\n",
        "    df3 = df1[['Weekly_Sales', 'Date']]\n",
        "    df3 = add_month(df3, forecast_length, forecast_period)\n",
        "    finaldf = create_lag(df3)\n",
        "    finaldf = finaldf.reset_index(drop=True)\n",
        "    n = forecast_length\n",
        "    end_point = len(finaldf)\n",
        "    x = end_point - n\n",
        "    finaldf_train = finaldf.loc[:x - 1, :]\n",
        "    finaldf_train_x = finaldf_train.loc[:, finaldf_train.columns != 'Weekly_Sales']\n",
        "    finaldf_train_y = finaldf_train['Weekly_Sales']\n",
        "    print(\"Starting model train..\")\n",
        "    #rfe = RFE(RandomForestRegressor(n_estimators=100, random_state=1), 4)\n",
        "    rfe = RandomForestRegressor(n_estimators=100, random_state=1)\n",
        "    fit = rfe.fit(finaldf_train_x, finaldf_train_y)\n",
        "    print(\"Model train completed..\")\n",
        "    print(\"Creating forecasted set..\")\n",
        "    salesforcast = []\n",
        "    end_point = len(finaldf)\n",
        "    n = forecast_length\n",
        "    df3_end = len(df3)\n",
        "    for i in range(n, 0, -1):\n",
        "        y = end_point - i\n",
        "        inputfile = finaldf.loc[y:end_point, :]\n",
        "        inputfile_x = inputfile.loc[:, inputfile.columns != 'Weekly_Sales']\n",
        "        pred_set = inputfile_x.head(1)\n",
        "        pred = fit.predict(pred_set)\n",
        "        df3.at[df3.index[df3_end - i], 'Weekly_Sales'] = pred[0]\n",
        "        finaldf = create_lag(df3)\n",
        "        finaldf = finaldf.reset_index(drop=True)\n",
        "        salesforcast.append(pred)\n",
        "    salesforcast = np.array(salesforcast)\n",
        "    print(\"12 weeks Forecast complete..\")\n",
        "    return salesforcast\n",
        "\n",
        "    "
      ],
      "metadata": {
        "id": "qML2FOIqedSn"
      },
      "execution_count": 36,
      "outputs": []
    },
    {
      "cell_type": "code",
      "source": [
        "predicted_value=randomForest(store4_data, 12, 'Week')\n",
        "predicted_value\n",
        "\n",
        "\n"
      ],
      "metadata": {
        "colab": {
          "base_uri": "https://localhost:8080/"
        },
        "id": "4TzoQUSfgedf",
        "outputId": "abacaa6f-956d-4d0b-b271-e25eab341fad"
      },
      "execution_count": 37,
      "outputs": [
        {
          "output_type": "stream",
          "name": "stdout",
          "text": [
            "Starting model train..\n",
            "Model train completed..\n",
            "Creating forecasted set..\n",
            "12 weeks Forecast complete..\n"
          ]
        },
        {
          "output_type": "execute_result",
          "data": {
            "text/plain": [
              "array([[2100174.4615],\n",
              "       [2146930.5684],\n",
              "       [2219951.1703],\n",
              "       [2211055.9536],\n",
              "       [2238996.519 ],\n",
              "       [2245796.9393],\n",
              "       [2258020.7188],\n",
              "       [2321008.8757],\n",
              "       [2403576.3375],\n",
              "       [2381317.8174],\n",
              "       [2359039.2347],\n",
              "       [2367809.3265]])"
            ]
          },
          "metadata": {},
          "execution_count": 37
        }
      ]
    },
    {
      "cell_type": "code",
      "source": [
        "predicted_value.size\n",
        "i = 0\n",
        "print('Next 12 weeks forecasting for Store-4')\n",
        "print('--------------------------------------')\n",
        "print('--------------------------------------')\n",
        "a= 'Forcasting weeks' +  \"  \" +  'Weeekly Sales'\n",
        "b= '----------------' +  \"  \" +  '--------------'\n",
        "print(a)\n",
        "print(b)\n",
        "for x in predicted_value:\n",
        "   i = i+1\n",
        "   #print(x)\n",
        "   y= 'Week_' + str(i) + \"               \" + str(x)\n",
        "   print(y)\n"
      ],
      "metadata": {
        "colab": {
          "base_uri": "https://localhost:8080/"
        },
        "id": "uDKcDS3ymCTF",
        "outputId": "c4413718-c93e-4759-937f-0027f08318a9"
      },
      "execution_count": 38,
      "outputs": [
        {
          "output_type": "stream",
          "name": "stdout",
          "text": [
            "Next 12 weeks forecasting for Store-4\n",
            "--------------------------------------\n",
            "--------------------------------------\n",
            "Forcasting weeks  Weeekly Sales\n",
            "----------------  --------------\n",
            "Week_1               [2100174.4615]\n",
            "Week_2               [2146930.5684]\n",
            "Week_3               [2219951.1703]\n",
            "Week_4               [2211055.9536]\n",
            "Week_5               [2238996.519]\n",
            "Week_6               [2245796.9393]\n",
            "Week_7               [2258020.7188]\n",
            "Week_8               [2321008.8757]\n",
            "Week_9               [2403576.3375]\n",
            "Week_10               [2381317.8174]\n",
            "Week_11               [2359039.2347]\n",
            "Week_12               [2367809.3265]\n"
          ]
        }
      ]
    },
    {
      "cell_type": "code",
      "source": [
        "#predictors = ['IsHoliday', 'Month', 'Day', 'Temperature', 'Fuel_Price', 'CPI', 'Unemployment', 'SuperBowl', 'LaborDay', 'Tranksgiving', 'Christmas', 'Tksgiving_to_Xmas']\n",
        "predictors = ['Store','Fuel_Price', 'CPI', 'Unemployment','Month','Year','Day','Week']\n",
        "#X = walmart_data_clean[['Store','Fuel_Price','CPI','Unemployment','Month','Year','Day','Week']]\n",
        "walmart_data_clean.dropna(inplace=True)\n",
        "predit_data =walmart_data_clean\n",
        "predit_data.drop(['Date'],axis=1)\n",
        "walmart_data_clean[\"predict_sales\"] = rfr.predict(predit_data[predictors])\n",
        "\n",
        "predicts = walmart_data_clean[\"predict_sales\"]\n",
        "\n",
        "id = walmart_data_clean['Store'].apply(lambda x: str(x)+'_')+walmart_data_clean['Date'].astype(str)\n",
        "\n",
        "sample_submission = pd.concat([id,predicts],axis=1)\n",
        "sample_submission"
      ],
      "metadata": {
        "colab": {
          "base_uri": "https://localhost:8080/",
          "height": 424
        },
        "id": "epwVv13Kw7yw",
        "outputId": "75f3c0b3-2965-41c1-a7f0-256e6a24a608"
      },
      "execution_count": 39,
      "outputs": [
        {
          "output_type": "execute_result",
          "data": {
            "text/plain": [
              "                  0  predict_sales\n",
              "0      1_2010-05-02   1.572343e+06\n",
              "1      1_2010-12-02   1.655895e+06\n",
              "2      1_2010-02-19   1.473280e+06\n",
              "3      1_2010-02-26   1.405395e+06\n",
              "4      1_2010-05-03   1.552329e+06\n",
              "...             ...            ...\n",
              "6430  45_2012-09-28   7.131305e+05\n",
              "6431  45_2012-05-10   7.487747e+05\n",
              "6432  45_2012-12-10   7.817937e+05\n",
              "6433  45_2012-10-19   7.420803e+05\n",
              "6434  45_2012-10-26   7.539772e+05\n",
              "\n",
              "[5658 rows x 2 columns]"
            ],
            "text/html": [
              "\n",
              "  <div id=\"df-5b424735-0a0f-463e-b23c-703278c57c7c\">\n",
              "    <div class=\"colab-df-container\">\n",
              "      <div>\n",
              "<style scoped>\n",
              "    .dataframe tbody tr th:only-of-type {\n",
              "        vertical-align: middle;\n",
              "    }\n",
              "\n",
              "    .dataframe tbody tr th {\n",
              "        vertical-align: top;\n",
              "    }\n",
              "\n",
              "    .dataframe thead th {\n",
              "        text-align: right;\n",
              "    }\n",
              "</style>\n",
              "<table border=\"1\" class=\"dataframe\">\n",
              "  <thead>\n",
              "    <tr style=\"text-align: right;\">\n",
              "      <th></th>\n",
              "      <th>0</th>\n",
              "      <th>predict_sales</th>\n",
              "    </tr>\n",
              "  </thead>\n",
              "  <tbody>\n",
              "    <tr>\n",
              "      <th>0</th>\n",
              "      <td>1_2010-05-02</td>\n",
              "      <td>1.572343e+06</td>\n",
              "    </tr>\n",
              "    <tr>\n",
              "      <th>1</th>\n",
              "      <td>1_2010-12-02</td>\n",
              "      <td>1.655895e+06</td>\n",
              "    </tr>\n",
              "    <tr>\n",
              "      <th>2</th>\n",
              "      <td>1_2010-02-19</td>\n",
              "      <td>1.473280e+06</td>\n",
              "    </tr>\n",
              "    <tr>\n",
              "      <th>3</th>\n",
              "      <td>1_2010-02-26</td>\n",
              "      <td>1.405395e+06</td>\n",
              "    </tr>\n",
              "    <tr>\n",
              "      <th>4</th>\n",
              "      <td>1_2010-05-03</td>\n",
              "      <td>1.552329e+06</td>\n",
              "    </tr>\n",
              "    <tr>\n",
              "      <th>...</th>\n",
              "      <td>...</td>\n",
              "      <td>...</td>\n",
              "    </tr>\n",
              "    <tr>\n",
              "      <th>6430</th>\n",
              "      <td>45_2012-09-28</td>\n",
              "      <td>7.131305e+05</td>\n",
              "    </tr>\n",
              "    <tr>\n",
              "      <th>6431</th>\n",
              "      <td>45_2012-05-10</td>\n",
              "      <td>7.487747e+05</td>\n",
              "    </tr>\n",
              "    <tr>\n",
              "      <th>6432</th>\n",
              "      <td>45_2012-12-10</td>\n",
              "      <td>7.817937e+05</td>\n",
              "    </tr>\n",
              "    <tr>\n",
              "      <th>6433</th>\n",
              "      <td>45_2012-10-19</td>\n",
              "      <td>7.420803e+05</td>\n",
              "    </tr>\n",
              "    <tr>\n",
              "      <th>6434</th>\n",
              "      <td>45_2012-10-26</td>\n",
              "      <td>7.539772e+05</td>\n",
              "    </tr>\n",
              "  </tbody>\n",
              "</table>\n",
              "<p>5658 rows × 2 columns</p>\n",
              "</div>\n",
              "      <button class=\"colab-df-convert\" onclick=\"convertToInteractive('df-5b424735-0a0f-463e-b23c-703278c57c7c')\"\n",
              "              title=\"Convert this dataframe to an interactive table.\"\n",
              "              style=\"display:none;\">\n",
              "        \n",
              "  <svg xmlns=\"http://www.w3.org/2000/svg\" height=\"24px\"viewBox=\"0 0 24 24\"\n",
              "       width=\"24px\">\n",
              "    <path d=\"M0 0h24v24H0V0z\" fill=\"none\"/>\n",
              "    <path d=\"M18.56 5.44l.94 2.06.94-2.06 2.06-.94-2.06-.94-.94-2.06-.94 2.06-2.06.94zm-11 1L8.5 8.5l.94-2.06 2.06-.94-2.06-.94L8.5 2.5l-.94 2.06-2.06.94zm10 10l.94 2.06.94-2.06 2.06-.94-2.06-.94-.94-2.06-.94 2.06-2.06.94z\"/><path d=\"M17.41 7.96l-1.37-1.37c-.4-.4-.92-.59-1.43-.59-.52 0-1.04.2-1.43.59L10.3 9.45l-7.72 7.72c-.78.78-.78 2.05 0 2.83L4 21.41c.39.39.9.59 1.41.59.51 0 1.02-.2 1.41-.59l7.78-7.78 2.81-2.81c.8-.78.8-2.07 0-2.86zM5.41 20L4 18.59l7.72-7.72 1.47 1.35L5.41 20z\"/>\n",
              "  </svg>\n",
              "      </button>\n",
              "      \n",
              "  <style>\n",
              "    .colab-df-container {\n",
              "      display:flex;\n",
              "      flex-wrap:wrap;\n",
              "      gap: 12px;\n",
              "    }\n",
              "\n",
              "    .colab-df-convert {\n",
              "      background-color: #E8F0FE;\n",
              "      border: none;\n",
              "      border-radius: 50%;\n",
              "      cursor: pointer;\n",
              "      display: none;\n",
              "      fill: #1967D2;\n",
              "      height: 32px;\n",
              "      padding: 0 0 0 0;\n",
              "      width: 32px;\n",
              "    }\n",
              "\n",
              "    .colab-df-convert:hover {\n",
              "      background-color: #E2EBFA;\n",
              "      box-shadow: 0px 1px 2px rgba(60, 64, 67, 0.3), 0px 1px 3px 1px rgba(60, 64, 67, 0.15);\n",
              "      fill: #174EA6;\n",
              "    }\n",
              "\n",
              "    [theme=dark] .colab-df-convert {\n",
              "      background-color: #3B4455;\n",
              "      fill: #D2E3FC;\n",
              "    }\n",
              "\n",
              "    [theme=dark] .colab-df-convert:hover {\n",
              "      background-color: #434B5C;\n",
              "      box-shadow: 0px 1px 3px 1px rgba(0, 0, 0, 0.15);\n",
              "      filter: drop-shadow(0px 1px 2px rgba(0, 0, 0, 0.3));\n",
              "      fill: #FFFFFF;\n",
              "    }\n",
              "  </style>\n",
              "\n",
              "      <script>\n",
              "        const buttonEl =\n",
              "          document.querySelector('#df-5b424735-0a0f-463e-b23c-703278c57c7c button.colab-df-convert');\n",
              "        buttonEl.style.display =\n",
              "          google.colab.kernel.accessAllowed ? 'block' : 'none';\n",
              "\n",
              "        async function convertToInteractive(key) {\n",
              "          const element = document.querySelector('#df-5b424735-0a0f-463e-b23c-703278c57c7c');\n",
              "          const dataTable =\n",
              "            await google.colab.kernel.invokeFunction('convertToInteractive',\n",
              "                                                     [key], {});\n",
              "          if (!dataTable) return;\n",
              "\n",
              "          const docLinkHtml = 'Like what you see? Visit the ' +\n",
              "            '<a target=\"_blank\" href=https://colab.research.google.com/notebooks/data_table.ipynb>data table notebook</a>'\n",
              "            + ' to learn more about interactive tables.';\n",
              "          element.innerHTML = '';\n",
              "          dataTable['output_type'] = 'display_data';\n",
              "          await google.colab.output.renderOutput(dataTable, element);\n",
              "          const docLink = document.createElement('div');\n",
              "          docLink.innerHTML = docLinkHtml;\n",
              "          element.appendChild(docLink);\n",
              "        }\n",
              "      </script>\n",
              "    </div>\n",
              "  </div>\n",
              "  "
            ]
          },
          "metadata": {},
          "execution_count": 39
        }
      ]
    }
  ]
}